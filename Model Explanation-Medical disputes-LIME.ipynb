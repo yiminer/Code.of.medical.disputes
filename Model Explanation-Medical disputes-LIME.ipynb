{
 "cells": [
  {
   "cell_type": "code",
   "execution_count": 1,
   "metadata": {},
   "outputs": [
    {
     "name": "stdout",
     "output_type": "stream",
     "text": [
      "Python 3.9.7\n"
     ]
    }
   ],
   "source": [
    "!python -V"
   ]
  },
  {
   "cell_type": "markdown",
   "metadata": {},
   "source": [
    "#注意：model explanation的变量需要与modeldevelop的时候，变量顺序一致；也就是说excel里面以及本程序里面设置的变量需要与modeldevelop里面的变量保持一致。"
   ]
  },
  {
   "cell_type": "code",
   "execution_count": null,
   "metadata": {},
   "outputs": [],
   "source": []
  },
  {
   "cell_type": "code",
   "execution_count": 2,
   "metadata": {},
   "outputs": [],
   "source": [
    "import pickle\n",
    "import random\n",
    "\n",
    "import pandas as pd\n",
    "import numpy as np\n",
    "\n",
    "from sklearn.base import BaseEstimator, TransformerMixin, ClassifierMixin\n",
    "from sklearn.preprocessing import StandardScaler\n",
    "from sklearn.pipeline import Pipeline, FeatureUnion\n",
    "\n",
    "from lime.lime_tabular import LimeTabularExplainer\n",
    "import matplotlib.pyplot as plt\n",
    "\n",
    "pd.set_option('display.max_columns', None)"
   ]
  },
  {
   "cell_type": "code",
   "execution_count": 3,
   "metadata": {},
   "outputs": [],
   "source": [
    "# %matplotlib inline\n",
    "plt.style.use('ggplot')\n",
    "plt.rcParams['figure.figsize'] = 12, 8\n",
    "plt.rcParams['xtick.labelsize'] = 12\n",
    "plt.rcParams['ytick.labelsize'] = 12\n",
    "plt.rcParams['axes.titlesize'] = 18"
   ]
  },
  {
   "cell_type": "markdown",
   "metadata": {},
   "source": [
    "## Making machine learning pipleline"
   ]
  },
  {
   "cell_type": "markdown",
   "metadata": {},
   "source": [
    "LIME explainers take in the original raw data for model explanation (for human understandable explainations), so the target model has to include the preprocessing steps. So the following pipleline is largely a repeat of what's done in the preprocessing and omitting the model fitting steps."
   ]
  },
  {
   "cell_type": "code",
   "execution_count": 4,
   "metadata": {
    "scrolled": true
   },
   "outputs": [
    {
     "name": "stdout",
     "output_type": "stream",
     "text": [
      "(34286, 19)\n",
      "(3767, 19)\n"
     ]
    },
    {
     "data": {
      "text/html": [
       "<div>\n",
       "<style scoped>\n",
       "    .dataframe tbody tr th:only-of-type {\n",
       "        vertical-align: middle;\n",
       "    }\n",
       "\n",
       "    .dataframe tbody tr th {\n",
       "        vertical-align: top;\n",
       "    }\n",
       "\n",
       "    .dataframe thead th {\n",
       "        text-align: right;\n",
       "    }\n",
       "</style>\n",
       "<table border=\"1\" class=\"dataframe\">\n",
       "  <thead>\n",
       "    <tr style=\"text-align: right;\">\n",
       "      <th></th>\n",
       "      <th>x1</th>\n",
       "      <th>x2</th>\n",
       "      <th>x4</th>\n",
       "      <th>x7</th>\n",
       "      <th>x8</th>\n",
       "      <th>x9</th>\n",
       "      <th>x10</th>\n",
       "      <th>x17</th>\n",
       "      <th>x19</th>\n",
       "      <th>x20</th>\n",
       "      <th>x234</th>\n",
       "      <th>x242</th>\n",
       "      <th>x257</th>\n",
       "      <th>x26</th>\n",
       "      <th>x27</th>\n",
       "      <th>x33</th>\n",
       "      <th>x22</th>\n",
       "      <th>x36</th>\n",
       "      <th>died_hosp</th>\n",
       "    </tr>\n",
       "  </thead>\n",
       "  <tbody>\n",
       "    <tr>\n",
       "      <th>0</th>\n",
       "      <td>1</td>\n",
       "      <td>2</td>\n",
       "      <td>2</td>\n",
       "      <td>3</td>\n",
       "      <td>3</td>\n",
       "      <td>2</td>\n",
       "      <td>2</td>\n",
       "      <td>2</td>\n",
       "      <td>2</td>\n",
       "      <td>2</td>\n",
       "      <td>0</td>\n",
       "      <td>1</td>\n",
       "      <td>1</td>\n",
       "      <td>1</td>\n",
       "      <td>1</td>\n",
       "      <td>2</td>\n",
       "      <td>1</td>\n",
       "      <td>2</td>\n",
       "      <td>0</td>\n",
       "    </tr>\n",
       "    <tr>\n",
       "      <th>1</th>\n",
       "      <td>1</td>\n",
       "      <td>2</td>\n",
       "      <td>1</td>\n",
       "      <td>1</td>\n",
       "      <td>4</td>\n",
       "      <td>2</td>\n",
       "      <td>2</td>\n",
       "      <td>2</td>\n",
       "      <td>3</td>\n",
       "      <td>3</td>\n",
       "      <td>0</td>\n",
       "      <td>0</td>\n",
       "      <td>1</td>\n",
       "      <td>2</td>\n",
       "      <td>2</td>\n",
       "      <td>1</td>\n",
       "      <td>2</td>\n",
       "      <td>4</td>\n",
       "      <td>0</td>\n",
       "    </tr>\n",
       "    <tr>\n",
       "      <th>2</th>\n",
       "      <td>1</td>\n",
       "      <td>2</td>\n",
       "      <td>3</td>\n",
       "      <td>3</td>\n",
       "      <td>4</td>\n",
       "      <td>2</td>\n",
       "      <td>2</td>\n",
       "      <td>1</td>\n",
       "      <td>1</td>\n",
       "      <td>1</td>\n",
       "      <td>0</td>\n",
       "      <td>1</td>\n",
       "      <td>1</td>\n",
       "      <td>1</td>\n",
       "      <td>1</td>\n",
       "      <td>1</td>\n",
       "      <td>1</td>\n",
       "      <td>2</td>\n",
       "      <td>0</td>\n",
       "    </tr>\n",
       "    <tr>\n",
       "      <th>3</th>\n",
       "      <td>1</td>\n",
       "      <td>2</td>\n",
       "      <td>3</td>\n",
       "      <td>4</td>\n",
       "      <td>5</td>\n",
       "      <td>2</td>\n",
       "      <td>1</td>\n",
       "      <td>1</td>\n",
       "      <td>1</td>\n",
       "      <td>1</td>\n",
       "      <td>0</td>\n",
       "      <td>1</td>\n",
       "      <td>1</td>\n",
       "      <td>1</td>\n",
       "      <td>1</td>\n",
       "      <td>1</td>\n",
       "      <td>1</td>\n",
       "      <td>1</td>\n",
       "      <td>0</td>\n",
       "    </tr>\n",
       "    <tr>\n",
       "      <th>4</th>\n",
       "      <td>1</td>\n",
       "      <td>1</td>\n",
       "      <td>3</td>\n",
       "      <td>1</td>\n",
       "      <td>3</td>\n",
       "      <td>2</td>\n",
       "      <td>2</td>\n",
       "      <td>2</td>\n",
       "      <td>3</td>\n",
       "      <td>2</td>\n",
       "      <td>0</td>\n",
       "      <td>1</td>\n",
       "      <td>1</td>\n",
       "      <td>2</td>\n",
       "      <td>2</td>\n",
       "      <td>2</td>\n",
       "      <td>1</td>\n",
       "      <td>3</td>\n",
       "      <td>0</td>\n",
       "    </tr>\n",
       "  </tbody>\n",
       "</table>\n",
       "</div>"
      ],
      "text/plain": [
       "   x1  x2  x4  x7  x8  x9  x10  x17  x19  x20  x234  x242  x257  x26  x27  \\\n",
       "0   1   2   2   3   3   2    2    2    2    2     0     1     1    1    1   \n",
       "1   1   2   1   1   4   2    2    2    3    3     0     0     1    2    2   \n",
       "2   1   2   3   3   4   2    2    1    1    1     0     1     1    1    1   \n",
       "3   1   2   3   4   5   2    1    1    1    1     0     1     1    1    1   \n",
       "4   1   1   3   1   3   2    2    2    3    2     0     1     1    2    2   \n",
       "\n",
       "   x33  x22  x36  died_hosp  \n",
       "0    2    1    2          0  \n",
       "1    1    2    4          0  \n",
       "2    1    1    2          0  \n",
       "3    1    1    1          0  \n",
       "4    2    1    3          0  "
      ]
     },
     "execution_count": 4,
     "metadata": {},
     "output_type": "execute_result"
    }
   ],
   "source": [
    "train = pd.read_excel(r'E:/R code-LMX/Yimin-medical disputes/start0.9-number - only needed.xlsx')\n",
    "test = pd.read_excel(r'E:/R code-LMX/Yimin-medical disputes/starv0.1-number - only needed.xlsx')\n",
    "\n",
    "print(train.shape)\n",
    "print(test.shape)\n",
    "train.head()"
   ]
  },
  {
   "cell_type": "code",
   "execution_count": 5,
   "metadata": {},
   "outputs": [
    {
     "name": "stdout",
     "output_type": "stream",
     "text": [
      "<class 'pandas.core.frame.DataFrame'>\n",
      "RangeIndex: 34286 entries, 0 to 34285\n",
      "Data columns (total 19 columns):\n",
      " #   Column     Non-Null Count  Dtype\n",
      "---  ------     --------------  -----\n",
      " 0   x1         34286 non-null  int64\n",
      " 1   x2         34286 non-null  int64\n",
      " 2   x4         34286 non-null  int64\n",
      " 3   x7         34286 non-null  int64\n",
      " 4   x8         34286 non-null  int64\n",
      " 5   x9         34286 non-null  int64\n",
      " 6   x10        34286 non-null  int64\n",
      " 7   x17        34286 non-null  int64\n",
      " 8   x19        34286 non-null  int64\n",
      " 9   x20        34286 non-null  int64\n",
      " 10  x234       34286 non-null  int64\n",
      " 11  x242       34286 non-null  int64\n",
      " 12  x257       34286 non-null  int64\n",
      " 13  x26        34286 non-null  int64\n",
      " 14  x27        34286 non-null  int64\n",
      " 15  x33        34286 non-null  int64\n",
      " 16  x22        34286 non-null  int64\n",
      " 17  x36        34286 non-null  int64\n",
      " 18  died_hosp  34286 non-null  int64\n",
      "dtypes: int64(19)\n",
      "memory usage: 5.0 MB\n"
     ]
    }
   ],
   "source": [
    "train.info()"
   ]
  },
  {
   "cell_type": "code",
   "execution_count": 6,
   "metadata": {},
   "outputs": [],
   "source": [
    "vars_to_remove = ['age_group', 'treat_lmt', 'age_group', 'admepisode','apache3riskofdeath', 'anzrodriskofdeath', 'apache3score']\n",
    "def remove_variables(df, vars_to_remove):\n",
    "    df.drop(vars_to_remove, axis=1, inplace=True, errors='ignore')"
   ]
  },
  {
   "cell_type": "code",
   "execution_count": 7,
   "metadata": {},
   "outputs": [
    {
     "name": "stdout",
     "output_type": "stream",
     "text": [
      "(34286, 19)\n",
      "(3767, 19)\n"
     ]
    }
   ],
   "source": [
    "remove_variables(test, vars_to_remove)\n",
    "remove_variables(train, vars_to_remove)\n",
    "print(train.shape)\n",
    "print(test.shape)"
   ]
  },
  {
   "cell_type": "markdown",
   "metadata": {},
   "source": [
    "LIME needs raw training data of type float. This means `sex` column in the data needs to be transformed."
   ]
  },
  {
   "cell_type": "markdown",
   "metadata": {},
   "source": [
    "### Data preprocessing"
   ]
  },
  {
   "cell_type": "code",
   "execution_count": 8,
   "metadata": {},
   "outputs": [
    {
     "name": "stdout",
     "output_type": "stream",
     "text": [
      "[0, 1, 2, 3, 4, 5, 6, 7, 8, 9, 10, 11, 12, 13, 14, 15]\n",
      "[16, 17]\n"
     ]
    }
   ],
   "source": [
    "categorical_vars = [ \"x1\",\n",
    "    \"x2\",\n",
    "    \"x4\",\n",
    "    \"x7\",\n",
    "    \"x8\",\n",
    "    \"x9\",\n",
    "    \"x10\",\n",
    "    \"x17\",\n",
    "    \"x19\",\n",
    "    \"x20\",\n",
    "    \"x234\",\n",
    "    \"x242\",\n",
    "    \"x257\",\n",
    "    \"x26\",\n",
    "    \"x27\",\n",
    "    \"x33\"]\n",
    "categorical_var_idxs = [idx for idx, _ in enumerate(list(train.columns)) if _ in categorical_vars]###！严格按照顺序进行排序变量\n",
    "\n",
    "numerical_vars = [\"x22\", \"x36\"]\n",
    "numerical_var_idxs = [idx for idx, _ in enumerate(list(train.columns)) if _ in numerical_vars]\n",
    "\n",
    "print(categorical_var_idxs) \n",
    "print(numerical_var_idxs)"
   ]
  },
  {
   "cell_type": "code",
   "execution_count": 9,
   "metadata": {},
   "outputs": [],
   "source": [
    "# to make a custom transformer to fit into a pipeline\n",
    "class Vars_selector(BaseEstimator, TransformerMixin):\n",
    "    '''Return a subset of variables in a numpy array based on indecies'''\n",
    "    def __init__(self, var_idxs):\n",
    "        '''var_idxs is a list of categorical variables indecies'''\n",
    "        self.var_idxs = var_idxs\n",
    "        \n",
    "    def fit(self, X, y=None):\n",
    "        return self\n",
    "    \n",
    "    def transform(self, X):\n",
    "        '''returns a dataframe with selected variables'''\n",
    "        return np.array(X)[:, self.var_idxs]"
   ]
  },
  {
   "cell_type": "code",
   "execution_count": 10,
   "metadata": {},
   "outputs": [],
   "source": [
    "class Cat_vars_encoder(BaseEstimator, TransformerMixin):\n",
    "    '''Return the transformed categorical variables based on indecies'''\n",
    "    def fit(self, X, y=None):\n",
    "        return self\n",
    "    \n",
    "    def transform(self, X):\n",
    "        # arf column index\n",
    "        # arf_idx = categorical_vars.index('arf')\n",
    "        # X[:, arf_idx] = np.array(pd.Series(X[:, arf_idx]).map({1:1, 2:0})) # 1 -> Yes(1), 2 -> No(0)\n",
    "        return X"
   ]
  },
  {
   "cell_type": "markdown",
   "metadata": {},
   "source": [
    "**Transform data in a pipeline** "
   ]
  },
  {
   "cell_type": "code",
   "execution_count": 11,
   "metadata": {},
   "outputs": [],
   "source": [
    "# categorical variables preprocessing\n",
    "cat_vars_pipeline = Pipeline([\n",
    "    ('selector', Vars_selector(categorical_var_idxs)),\n",
    "    ('encoder', Cat_vars_encoder())\n",
    "])"
   ]
  },
  {
   "cell_type": "code",
   "execution_count": 12,
   "metadata": {},
   "outputs": [],
   "source": [
    "# numerical variables preprocessing\n",
    "num_vars_pipeline = Pipeline([\n",
    "    ('selector', Vars_selector(numerical_var_idxs)),\n",
    "    ('standardizer', StandardScaler())\n",
    "])"
   ]
  },
  {
   "cell_type": "markdown",
   "metadata": {},
   "source": [
    "To transform the two types of variables in one step"
   ]
  },
  {
   "cell_type": "code",
   "execution_count": 13,
   "metadata": {},
   "outputs": [],
   "source": [
    "preproc_pipeline = FeatureUnion(transformer_list=[\n",
    "    ('cat_pipeline', cat_vars_pipeline),\n",
    "    ('num_pipeline', num_vars_pipeline)\n",
    "])"
   ]
  },
  {
   "cell_type": "markdown",
   "metadata": {},
   "source": [
    "_restore the models and fit them into pipeline_"
   ]
  },
  {
   "cell_type": "code",
   "execution_count": 14,
   "metadata": {},
   "outputs": [],
   "source": [
    "with open('E:/R code-LMX/Yimin-medical disputes/Models/gbm_clf_final_round.pkl', 'rb') as f:\n",
    "    ensemble_clf = pickle.load(f)    "
   ]
  },
  {
   "cell_type": "code",
   "execution_count": 15,
   "metadata": {},
   "outputs": [],
   "source": [
    "## for ensemble_clf:\n",
    "class Ensemble_clf(BaseEstimator, ClassifierMixin):\n",
    "    def fit(self, X, y=None):\n",
    "        return ensemble_clf\n",
    "    def predict_proba(self, X):\n",
    "        return ensemble_clf.predict_proba(X)    "
   ]
  },
  {
   "cell_type": "code",
   "execution_count": 16,
   "metadata": {},
   "outputs": [],
   "source": [
    "## for ensemble_clf\n",
    "ensemble_pipeline = Pipeline([\n",
    "    ('preprocessing', FeatureUnion(transformer_list=[\n",
    "                            ('cat_pipeline', cat_vars_pipeline),\n",
    "                            ('num_pipeline', num_vars_pipeline),\n",
    "                        ])),\n",
    "    ('ensemble_clf', Ensemble_clf())\n",
    "])"
   ]
  },
  {
   "cell_type": "code",
   "execution_count": 17,
   "metadata": {},
   "outputs": [
    {
     "data": {
      "text/plain": [
       "Pipeline(steps=[('preprocessing',\n",
       "                 FeatureUnion(transformer_list=[('cat_pipeline',\n",
       "                                                 Pipeline(steps=[('selector',\n",
       "                                                                  Vars_selector(var_idxs=[0,\n",
       "                                                                                          1,\n",
       "                                                                                          2,\n",
       "                                                                                          3,\n",
       "                                                                                          4,\n",
       "                                                                                          5,\n",
       "                                                                                          6,\n",
       "                                                                                          7,\n",
       "                                                                                          8,\n",
       "                                                                                          9,\n",
       "                                                                                          10,\n",
       "                                                                                          11,\n",
       "                                                                                          12,\n",
       "                                                                                          13,\n",
       "                                                                                          14,\n",
       "                                                                                          15])),\n",
       "                                                                 ('encoder',\n",
       "                                                                  Cat_vars_encoder())])),\n",
       "                                                ('num_pipeline',\n",
       "                                                 Pipeline(steps=[('selector',\n",
       "                                                                  Vars_selector(var_idxs=[16,\n",
       "                                                                                          17])),\n",
       "                                                                 ('standardizer',\n",
       "                                                                  StandardScaler())]))])),\n",
       "                ('ensemble_clf', Ensemble_clf())])"
      ]
     },
     "execution_count": 17,
     "metadata": {},
     "output_type": "execute_result"
    }
   ],
   "source": [
    "ensemble_pipeline.fit(train)"
   ]
  },
  {
   "cell_type": "markdown",
   "metadata": {},
   "source": [
    "#### Preparing a LIME explainer"
   ]
  },
  {
   "cell_type": "markdown",
   "metadata": {},
   "source": [
    "Because LIME takes only float numpy array of the original dataset, to provide a human understandable explanation, it needs to know the mapping from the encoded value to original value for the categorical variables.\n",
    "\n",
    "This is accomplished through the categorical_names argument. This is a dictionary of a list of values mapped to the index of the (categorical) variable column."
   ]
  },
  {
   "cell_type": "code",
   "execution_count": 18,
   "metadata": {},
   "outputs": [],
   "source": [
    "# make the categorical original values mapping\n",
    "## the order of the names should correspond to their (int) encoded values\n",
    "### arf, gcsverb, gcsmotor, and gcseye have the original data in numbers but not start from 0,\n",
    "### hence the empty string in front of the values list for them. \n",
    "### This is required for LIME, because LIME uses these to index the categorical_names list\n",
    "###注意原始数据不是从0开始的，前面多一个，！！！\n",
    "categorical_vals = '''x1=, Public, Social\n",
    "x2=, Comprehensive, Chinese, Chinese-West, Minzu, Special, Fuyou, Others\n",
    "x4=, San A, San B, San unknown\n",
    "x7=, Doctor, Drug, Nures, Yiji\n",
    "x8=, Senior, Deputy senior, Middle, Primary, None\n",
    "x9=, Male, Female\n",
    "x10=, belove 30, 30-39, 40-49, above 50\n",
    "x17=, perfect clear, clear, not at all, not concerned\n",
    "x19=, perfect clear, clear, not at all, nonefulvguw, not concerned\n",
    "x20=, perfect clear, clear, not at all, nocharters, not concerned\n",
    "x234=Yes, No\n",
    "x242=No, Yes\n",
    "x257=No, Yes\n",
    "x26=, Very nece, nece, Yiban, Unnece, Very unnece\n",
    "x27=, Very agree, agree, Yiban, Not agree, Very not agree\n",
    "x33=,Yes, No'''.split('\\n')\n",
    "\n",
    "categorical_names = {}\n",
    "for val in categorical_vals:\n",
    "    categorical_names[categorical_var_idxs[categorical_vars.index(val.split('=')[0])]] = val.split('=')[1].split(',')"
   ]
  },
  {
   "cell_type": "code",
   "execution_count": 19,
   "metadata": {},
   "outputs": [
    {
     "data": {
      "text/plain": [
       "[0, 1, 2, 3, 4, 5, 6, 7, 8, 9, 10, 11, 12, 13, 14, 15]"
      ]
     },
     "execution_count": 19,
     "metadata": {},
     "output_type": "execute_result"
    }
   ],
   "source": [
    "categorical_var_idxs"
   ]
  },
  {
   "cell_type": "code",
   "execution_count": 20,
   "metadata": {},
   "outputs": [
    {
     "data": {
      "text/plain": [
       "{0: ['', ' Public', ' Social'],\n",
       " 1: ['',\n",
       "  ' Comprehensive',\n",
       "  ' Chinese',\n",
       "  ' Chinese-West',\n",
       "  ' Minzu',\n",
       "  ' Special',\n",
       "  ' Fuyou',\n",
       "  ' Others'],\n",
       " 2: ['', ' San A', ' San B', ' San unknown'],\n",
       " 3: ['', ' Doctor', ' Drug', ' Nures', ' Yiji'],\n",
       " 4: ['', ' Senior', ' Deputy senior', ' Middle', ' Primary', ' None'],\n",
       " 5: ['', ' Male', ' Female'],\n",
       " 6: ['', ' belove 30', ' 30-39', ' 40-49', ' above 50'],\n",
       " 7: ['', ' perfect clear', ' clear', ' not at all', ' not concerned'],\n",
       " 8: ['',\n",
       "  ' perfect clear',\n",
       "  ' clear',\n",
       "  ' not at all',\n",
       "  ' nonefulvguw',\n",
       "  ' not concerned'],\n",
       " 9: ['',\n",
       "  ' perfect clear',\n",
       "  ' clear',\n",
       "  ' not at all',\n",
       "  ' nocharters',\n",
       "  ' not concerned'],\n",
       " 10: ['Yes', ' No'],\n",
       " 11: ['No', ' Yes'],\n",
       " 12: ['No', ' Yes'],\n",
       " 13: ['', ' Very nece', ' nece', ' Yiban', ' Unnece', ' Very unnece'],\n",
       " 14: ['', ' Very agree', ' agree', ' Yiban', ' Not agree', ' Very not agree'],\n",
       " 15: ['', 'Yes', ' No']}"
      ]
     },
     "execution_count": 20,
     "metadata": {},
     "output_type": "execute_result"
    }
   ],
   "source": [
    "categorical_names"
   ]
  },
  {
   "cell_type": "markdown",
   "metadata": {},
   "source": [
    "LIME perturbs the training sample to build a locally linear model to approximate the target model at the test point. "
   ]
  },
  {
   "cell_type": "code",
   "execution_count": 21,
   "metadata": {},
   "outputs": [],
   "source": [
    "explainer = LimeTabularExplainer(\n",
    "    train.iloc[:, :-1].values, # remove the target variable from the training set that's fed into LIME\n",
    "    class_names=['Survived','Died'],\n",
    "    feature_names=list(train.columns),\n",
    "    categorical_features=categorical_var_idxs,\n",
    "    categorical_names=categorical_names,\n",
    "    verbose=True\n",
    ")"
   ]
  },
  {
   "cell_type": "code",
   "execution_count": 22,
   "metadata": {},
   "outputs": [
    {
     "data": {
      "text/plain": [
       "{0: ['', ' Public', ' Social'],\n",
       " 1: ['',\n",
       "  ' Comprehensive',\n",
       "  ' Chinese',\n",
       "  ' Chinese-West',\n",
       "  ' Minzu',\n",
       "  ' Special',\n",
       "  ' Fuyou',\n",
       "  ' Others'],\n",
       " 2: ['', ' San A', ' San B', ' San unknown'],\n",
       " 3: ['', ' Doctor', ' Drug', ' Nures', ' Yiji'],\n",
       " 4: ['', ' Senior', ' Deputy senior', ' Middle', ' Primary', ' None'],\n",
       " 5: ['', ' Male', ' Female'],\n",
       " 6: ['', ' belove 30', ' 30-39', ' 40-49', ' above 50'],\n",
       " 7: ['', ' perfect clear', ' clear', ' not at all', ' not concerned'],\n",
       " 8: ['',\n",
       "  ' perfect clear',\n",
       "  ' clear',\n",
       "  ' not at all',\n",
       "  ' nonefulvguw',\n",
       "  ' not concerned'],\n",
       " 9: ['',\n",
       "  ' perfect clear',\n",
       "  ' clear',\n",
       "  ' not at all',\n",
       "  ' nocharters',\n",
       "  ' not concerned'],\n",
       " 10: ['Yes', ' No'],\n",
       " 11: ['No', ' Yes'],\n",
       " 12: ['No', ' Yes'],\n",
       " 13: ['', ' Very nece', ' nece', ' Yiban', ' Unnece', ' Very unnece'],\n",
       " 14: ['', ' Very agree', ' agree', ' Yiban', ' Not agree', ' Very not agree'],\n",
       " 15: ['', 'Yes', ' No']}"
      ]
     },
     "execution_count": 22,
     "metadata": {},
     "output_type": "execute_result"
    }
   ],
   "source": [
    "categorical_names"
   ]
  },
  {
   "cell_type": "code",
   "execution_count": 23,
   "metadata": {},
   "outputs": [
    {
     "data": {
      "text/plain": [
       "[0, 1, 2, 3, 4, 5, 6, 7, 8, 9, 10, 11, 12, 13, 14, 15]"
      ]
     },
     "execution_count": 23,
     "metadata": {},
     "output_type": "execute_result"
    }
   ],
   "source": [
    "categorical_var_idxs"
   ]
  },
  {
   "cell_type": "code",
   "execution_count": 24,
   "metadata": {},
   "outputs": [
    {
     "data": {
      "text/plain": [
       "['x1',\n",
       " 'x2',\n",
       " 'x4',\n",
       " 'x7',\n",
       " 'x8',\n",
       " 'x9',\n",
       " 'x10',\n",
       " 'x17',\n",
       " 'x19',\n",
       " 'x20',\n",
       " 'x234',\n",
       " 'x242',\n",
       " 'x257',\n",
       " 'x26',\n",
       " 'x27',\n",
       " 'x33',\n",
       " 'x22',\n",
       " 'x36',\n",
       " 'died_hosp']"
      ]
     },
     "execution_count": 24,
     "metadata": {},
     "output_type": "execute_result"
    }
   ],
   "source": [
    "list(train.columns)"
   ]
  },
  {
   "cell_type": "code",
   "execution_count": 25,
   "metadata": {
    "scrolled": false
   },
   "outputs": [],
   "source": [
    "###train.iloc[:, :-1]"
   ]
  },
  {
   "cell_type": "code",
   "execution_count": 26,
   "metadata": {},
   "outputs": [],
   "source": [
    "def get_test_sample(model, survived=True, correct=True, seed=42, count=1):\n",
    "    '''\n",
    "    Return one random sample from test set based on the selection criteria.\n",
    "    \n",
    "    parameters:\n",
    "      model - the model which is tested for\n",
    "      survived - select survived sample\n",
    "      correct - select the sample which the model prediected correctly\n",
    "    '''\n",
    "    test_sample = test.loc[test['died_hosp']==1,['x1',\n",
    " 'x2',\n",
    " 'x4',\n",
    " 'x7',\n",
    " 'x8',\n",
    " 'x9',\n",
    " 'x10',\n",
    " 'x17',\n",
    " 'x19',\n",
    " 'x20',\n",
    " 'x234',\n",
    " 'x242',\n",
    " 'x257',\n",
    " 'x26',\n",
    " 'x27',\n",
    " 'x33',\n",
    " 'x22',\n",
    " 'x36'                                               \n",
    "                                                ]]##此处需要修改！！！严格按照顺序进行排序变量\n",
    "    prediction = model.predict_proba(test_sample)\n",
    "    \n",
    "    if (survived and correct) or (not survived and not correct):\n",
    "        ids = np.argwhere((prediction[:,0] > prediction[:,1]))\n",
    "    elif (survived and not correct) or (not survived and correct):\n",
    "        ids = np.argwhere((prediction[:,0] <= prediction[:,1]))\n",
    "    if count == 1:\n",
    "        idx = random.Random(seed).choice(ids)   \n",
    "    else:\n",
    "        ids = ids.reshape(len(ids)).tolist()\n",
    "        idx = random.Random(seed).sample(ids, count)\n",
    "    \n",
    "    return test_sample.iloc[idx,:]"
   ]
  },
  {
   "cell_type": "code",
   "execution_count": null,
   "metadata": {},
   "outputs": [],
   "source": []
  },
  {
   "cell_type": "code",
   "execution_count": null,
   "metadata": {},
   "outputs": [],
   "source": []
  },
  {
   "cell_type": "code",
   "execution_count": null,
   "metadata": {},
   "outputs": [],
   "source": []
  },
  {
   "cell_type": "code",
   "execution_count": 27,
   "metadata": {},
   "outputs": [
    {
     "data": {
      "text/html": [
       "<div>\n",
       "<style scoped>\n",
       "    .dataframe tbody tr th:only-of-type {\n",
       "        vertical-align: middle;\n",
       "    }\n",
       "\n",
       "    .dataframe tbody tr th {\n",
       "        vertical-align: top;\n",
       "    }\n",
       "\n",
       "    .dataframe thead th {\n",
       "        text-align: right;\n",
       "    }\n",
       "</style>\n",
       "<table border=\"1\" class=\"dataframe\">\n",
       "  <thead>\n",
       "    <tr style=\"text-align: right;\">\n",
       "      <th></th>\n",
       "      <th>x1</th>\n",
       "      <th>x2</th>\n",
       "      <th>x4</th>\n",
       "      <th>x7</th>\n",
       "      <th>x8</th>\n",
       "      <th>x9</th>\n",
       "      <th>x10</th>\n",
       "      <th>x17</th>\n",
       "      <th>x19</th>\n",
       "      <th>x20</th>\n",
       "      <th>x234</th>\n",
       "      <th>x242</th>\n",
       "      <th>x257</th>\n",
       "      <th>x26</th>\n",
       "      <th>x27</th>\n",
       "      <th>x33</th>\n",
       "      <th>x22</th>\n",
       "      <th>x36</th>\n",
       "      <th>died_hosp</th>\n",
       "    </tr>\n",
       "  </thead>\n",
       "  <tbody>\n",
       "    <tr>\n",
       "      <th>0</th>\n",
       "      <td>1</td>\n",
       "      <td>2</td>\n",
       "      <td>3</td>\n",
       "      <td>3</td>\n",
       "      <td>4</td>\n",
       "      <td>2</td>\n",
       "      <td>1</td>\n",
       "      <td>1</td>\n",
       "      <td>1</td>\n",
       "      <td>1</td>\n",
       "      <td>0</td>\n",
       "      <td>1</td>\n",
       "      <td>1</td>\n",
       "      <td>1</td>\n",
       "      <td>1</td>\n",
       "      <td>2</td>\n",
       "      <td>1</td>\n",
       "      <td>1</td>\n",
       "      <td>0</td>\n",
       "    </tr>\n",
       "    <tr>\n",
       "      <th>1</th>\n",
       "      <td>1</td>\n",
       "      <td>2</td>\n",
       "      <td>1</td>\n",
       "      <td>2</td>\n",
       "      <td>3</td>\n",
       "      <td>1</td>\n",
       "      <td>4</td>\n",
       "      <td>2</td>\n",
       "      <td>2</td>\n",
       "      <td>2</td>\n",
       "      <td>0</td>\n",
       "      <td>1</td>\n",
       "      <td>1</td>\n",
       "      <td>1</td>\n",
       "      <td>1</td>\n",
       "      <td>2</td>\n",
       "      <td>1</td>\n",
       "      <td>2</td>\n",
       "      <td>0</td>\n",
       "    </tr>\n",
       "    <tr>\n",
       "      <th>2</th>\n",
       "      <td>1</td>\n",
       "      <td>2</td>\n",
       "      <td>1</td>\n",
       "      <td>4</td>\n",
       "      <td>4</td>\n",
       "      <td>1</td>\n",
       "      <td>2</td>\n",
       "      <td>2</td>\n",
       "      <td>2</td>\n",
       "      <td>2</td>\n",
       "      <td>0</td>\n",
       "      <td>1</td>\n",
       "      <td>1</td>\n",
       "      <td>1</td>\n",
       "      <td>1</td>\n",
       "      <td>1</td>\n",
       "      <td>1</td>\n",
       "      <td>3</td>\n",
       "      <td>1</td>\n",
       "    </tr>\n",
       "    <tr>\n",
       "      <th>3</th>\n",
       "      <td>1</td>\n",
       "      <td>1</td>\n",
       "      <td>1</td>\n",
       "      <td>1</td>\n",
       "      <td>4</td>\n",
       "      <td>1</td>\n",
       "      <td>1</td>\n",
       "      <td>1</td>\n",
       "      <td>1</td>\n",
       "      <td>1</td>\n",
       "      <td>0</td>\n",
       "      <td>1</td>\n",
       "      <td>1</td>\n",
       "      <td>1</td>\n",
       "      <td>1</td>\n",
       "      <td>1</td>\n",
       "      <td>1</td>\n",
       "      <td>5</td>\n",
       "      <td>1</td>\n",
       "    </tr>\n",
       "    <tr>\n",
       "      <th>4</th>\n",
       "      <td>1</td>\n",
       "      <td>2</td>\n",
       "      <td>3</td>\n",
       "      <td>2</td>\n",
       "      <td>5</td>\n",
       "      <td>2</td>\n",
       "      <td>1</td>\n",
       "      <td>2</td>\n",
       "      <td>2</td>\n",
       "      <td>2</td>\n",
       "      <td>0</td>\n",
       "      <td>1</td>\n",
       "      <td>1</td>\n",
       "      <td>2</td>\n",
       "      <td>2</td>\n",
       "      <td>1</td>\n",
       "      <td>2</td>\n",
       "      <td>2</td>\n",
       "      <td>0</td>\n",
       "    </tr>\n",
       "    <tr>\n",
       "      <th>...</th>\n",
       "      <td>...</td>\n",
       "      <td>...</td>\n",
       "      <td>...</td>\n",
       "      <td>...</td>\n",
       "      <td>...</td>\n",
       "      <td>...</td>\n",
       "      <td>...</td>\n",
       "      <td>...</td>\n",
       "      <td>...</td>\n",
       "      <td>...</td>\n",
       "      <td>...</td>\n",
       "      <td>...</td>\n",
       "      <td>...</td>\n",
       "      <td>...</td>\n",
       "      <td>...</td>\n",
       "      <td>...</td>\n",
       "      <td>...</td>\n",
       "      <td>...</td>\n",
       "      <td>...</td>\n",
       "    </tr>\n",
       "    <tr>\n",
       "      <th>3762</th>\n",
       "      <td>1</td>\n",
       "      <td>2</td>\n",
       "      <td>1</td>\n",
       "      <td>1</td>\n",
       "      <td>2</td>\n",
       "      <td>1</td>\n",
       "      <td>3</td>\n",
       "      <td>1</td>\n",
       "      <td>2</td>\n",
       "      <td>2</td>\n",
       "      <td>0</td>\n",
       "      <td>1</td>\n",
       "      <td>1</td>\n",
       "      <td>1</td>\n",
       "      <td>1</td>\n",
       "      <td>1</td>\n",
       "      <td>1</td>\n",
       "      <td>2</td>\n",
       "      <td>1</td>\n",
       "    </tr>\n",
       "    <tr>\n",
       "      <th>3763</th>\n",
       "      <td>1</td>\n",
       "      <td>2</td>\n",
       "      <td>1</td>\n",
       "      <td>1</td>\n",
       "      <td>3</td>\n",
       "      <td>1</td>\n",
       "      <td>2</td>\n",
       "      <td>2</td>\n",
       "      <td>2</td>\n",
       "      <td>2</td>\n",
       "      <td>0</td>\n",
       "      <td>1</td>\n",
       "      <td>0</td>\n",
       "      <td>1</td>\n",
       "      <td>1</td>\n",
       "      <td>1</td>\n",
       "      <td>1</td>\n",
       "      <td>2</td>\n",
       "      <td>1</td>\n",
       "    </tr>\n",
       "    <tr>\n",
       "      <th>3764</th>\n",
       "      <td>1</td>\n",
       "      <td>1</td>\n",
       "      <td>1</td>\n",
       "      <td>2</td>\n",
       "      <td>3</td>\n",
       "      <td>2</td>\n",
       "      <td>2</td>\n",
       "      <td>2</td>\n",
       "      <td>2</td>\n",
       "      <td>2</td>\n",
       "      <td>0</td>\n",
       "      <td>1</td>\n",
       "      <td>0</td>\n",
       "      <td>2</td>\n",
       "      <td>1</td>\n",
       "      <td>2</td>\n",
       "      <td>2</td>\n",
       "      <td>1</td>\n",
       "      <td>0</td>\n",
       "    </tr>\n",
       "    <tr>\n",
       "      <th>3765</th>\n",
       "      <td>1</td>\n",
       "      <td>1</td>\n",
       "      <td>1</td>\n",
       "      <td>2</td>\n",
       "      <td>4</td>\n",
       "      <td>2</td>\n",
       "      <td>1</td>\n",
       "      <td>2</td>\n",
       "      <td>2</td>\n",
       "      <td>2</td>\n",
       "      <td>0</td>\n",
       "      <td>1</td>\n",
       "      <td>0</td>\n",
       "      <td>2</td>\n",
       "      <td>2</td>\n",
       "      <td>2</td>\n",
       "      <td>2</td>\n",
       "      <td>2</td>\n",
       "      <td>0</td>\n",
       "    </tr>\n",
       "    <tr>\n",
       "      <th>3766</th>\n",
       "      <td>1</td>\n",
       "      <td>2</td>\n",
       "      <td>1</td>\n",
       "      <td>1</td>\n",
       "      <td>1</td>\n",
       "      <td>1</td>\n",
       "      <td>3</td>\n",
       "      <td>2</td>\n",
       "      <td>2</td>\n",
       "      <td>1</td>\n",
       "      <td>0</td>\n",
       "      <td>1</td>\n",
       "      <td>1</td>\n",
       "      <td>1</td>\n",
       "      <td>1</td>\n",
       "      <td>1</td>\n",
       "      <td>1</td>\n",
       "      <td>1</td>\n",
       "      <td>1</td>\n",
       "    </tr>\n",
       "  </tbody>\n",
       "</table>\n",
       "<p>3767 rows × 19 columns</p>\n",
       "</div>"
      ],
      "text/plain": [
       "      x1  x2  x4  x7  x8  x9  x10  x17  x19  x20  x234  x242  x257  x26  x27  \\\n",
       "0      1   2   3   3   4   2    1    1    1    1     0     1     1    1    1   \n",
       "1      1   2   1   2   3   1    4    2    2    2     0     1     1    1    1   \n",
       "2      1   2   1   4   4   1    2    2    2    2     0     1     1    1    1   \n",
       "3      1   1   1   1   4   1    1    1    1    1     0     1     1    1    1   \n",
       "4      1   2   3   2   5   2    1    2    2    2     0     1     1    2    2   \n",
       "...   ..  ..  ..  ..  ..  ..  ...  ...  ...  ...   ...   ...   ...  ...  ...   \n",
       "3762   1   2   1   1   2   1    3    1    2    2     0     1     1    1    1   \n",
       "3763   1   2   1   1   3   1    2    2    2    2     0     1     0    1    1   \n",
       "3764   1   1   1   2   3   2    2    2    2    2     0     1     0    2    1   \n",
       "3765   1   1   1   2   4   2    1    2    2    2     0     1     0    2    2   \n",
       "3766   1   2   1   1   1   1    3    2    2    1     0     1     1    1    1   \n",
       "\n",
       "      x33  x22  x36  died_hosp  \n",
       "0       2    1    1          0  \n",
       "1       2    1    2          0  \n",
       "2       1    1    3          1  \n",
       "3       1    1    5          1  \n",
       "4       1    2    2          0  \n",
       "...   ...  ...  ...        ...  \n",
       "3762    1    1    2          1  \n",
       "3763    1    1    2          1  \n",
       "3764    2    2    1          0  \n",
       "3765    2    2    2          0  \n",
       "3766    1    1    1          1  \n",
       "\n",
       "[3767 rows x 19 columns]"
      ]
     },
     "execution_count": 27,
     "metadata": {},
     "output_type": "execute_result"
    }
   ],
   "source": [
    "\n",
    "test.iloc[:, 0:19]"
   ]
  },
  {
   "cell_type": "code",
   "execution_count": 28,
   "metadata": {},
   "outputs": [
    {
     "data": {
      "text/plain": [
       "0        True\n",
       "1        True\n",
       "2       False\n",
       "3       False\n",
       "4        True\n",
       "        ...  \n",
       "3762    False\n",
       "3763    False\n",
       "3764     True\n",
       "3765     True\n",
       "3766    False\n",
       "Name: died_hosp, Length: 3767, dtype: bool"
      ]
     },
     "execution_count": 28,
     "metadata": {},
     "output_type": "execute_result"
    }
   ],
   "source": [
    "test['died_hosp'] == (0)"
   ]
  },
  {
   "cell_type": "code",
   "execution_count": null,
   "metadata": {},
   "outputs": [],
   "source": []
  },
  {
   "cell_type": "code",
   "execution_count": null,
   "metadata": {},
   "outputs": [],
   "source": []
  },
  {
   "cell_type": "code",
   "execution_count": null,
   "metadata": {},
   "outputs": [],
   "source": []
  },
  {
   "cell_type": "code",
   "execution_count": 29,
   "metadata": {},
   "outputs": [],
   "source": [
    "def plot_vertical_bar(explaination, title='Local explanation for class died'):\n",
    "    exp_list = explaination.as_list()\n",
    "    tags, values, colors = [],[],[]\n",
    "    for i in range(len(exp_list)):\n",
    "        tags.append(exp_list[i][0])\n",
    "        values.append(exp_list[i][1])\n",
    "        if(exp_list[i][1] > 0):\n",
    "            colors.append('r')\n",
    "        else:\n",
    "            colors.append('g')\n",
    "            \n",
    "    fig, ax = plt.subplots()\n",
    "\n",
    "    y_pos = np.arange(len(tags))\n",
    "\n",
    "    ax.barh(y_pos, values, align='center',\n",
    "            color=colors, ecolor='black')\n",
    "    ax.set_yticks(y_pos)\n",
    "    ax.set_yticklabels(tags)\n",
    "    ax.invert_yaxis()  # labels read top-to-bottom\n",
    "    ax.set_title(title)"
   ]
  },
  {
   "cell_type": "code",
   "execution_count": 30,
   "metadata": {},
   "outputs": [],
   "source": [
    "def score_compare(x, y, threshold = 0.466):\n",
    "    if x < threshold and y < threshold:\n",
    "        return 'True Negative'\n",
    "    elif x < threshold and y > threshold:\n",
    "        return 'False Negative'\n",
    "    elif x > threshold and y > threshold:\n",
    "        return 'True Positive'\n",
    "    elif x > threshold and y < threshold:\n",
    "        return 'False Positive'"
   ]
  },
  {
   "cell_type": "code",
   "execution_count": 31,
   "metadata": {
    "scrolled": true
   },
   "outputs": [
    {
     "data": {
      "text/html": [
       "<div>\n",
       "<style scoped>\n",
       "    .dataframe tbody tr th:only-of-type {\n",
       "        vertical-align: middle;\n",
       "    }\n",
       "\n",
       "    .dataframe tbody tr th {\n",
       "        vertical-align: top;\n",
       "    }\n",
       "\n",
       "    .dataframe thead th {\n",
       "        text-align: right;\n",
       "    }\n",
       "</style>\n",
       "<table border=\"1\" class=\"dataframe\">\n",
       "  <thead>\n",
       "    <tr style=\"text-align: right;\">\n",
       "      <th></th>\n",
       "      <th>x1</th>\n",
       "      <th>x2</th>\n",
       "      <th>x4</th>\n",
       "      <th>x7</th>\n",
       "      <th>x8</th>\n",
       "      <th>x9</th>\n",
       "      <th>x10</th>\n",
       "      <th>x17</th>\n",
       "      <th>x19</th>\n",
       "      <th>x20</th>\n",
       "      <th>x234</th>\n",
       "      <th>x242</th>\n",
       "      <th>x257</th>\n",
       "      <th>x26</th>\n",
       "      <th>x27</th>\n",
       "      <th>x33</th>\n",
       "      <th>x22</th>\n",
       "      <th>x36</th>\n",
       "    </tr>\n",
       "  </thead>\n",
       "  <tbody>\n",
       "    <tr>\n",
       "      <th>603</th>\n",
       "      <td>1</td>\n",
       "      <td>1</td>\n",
       "      <td>3</td>\n",
       "      <td>1</td>\n",
       "      <td>3</td>\n",
       "      <td>1</td>\n",
       "      <td>1</td>\n",
       "      <td>1</td>\n",
       "      <td>2</td>\n",
       "      <td>1</td>\n",
       "      <td>0</td>\n",
       "      <td>1</td>\n",
       "      <td>1</td>\n",
       "      <td>1</td>\n",
       "      <td>1</td>\n",
       "      <td>1</td>\n",
       "      <td>1</td>\n",
       "      <td>2</td>\n",
       "    </tr>\n",
       "  </tbody>\n",
       "</table>\n",
       "</div>"
      ],
      "text/plain": [
       "     x1  x2  x4  x7  x8  x9  x10  x17  x19  x20  x234  x242  x257  x26  x27  \\\n",
       "603   1   1   3   1   3   1    1    1    2    1     0     1     1    1    1   \n",
       "\n",
       "     x33  x22  x36  \n",
       "603    1    1    2  "
      ]
     },
     "execution_count": 31,
     "metadata": {},
     "output_type": "execute_result"
    }
   ],
   "source": [
    "test_sample_surived_correct = get_test_sample(ensemble_pipeline, survived=False, seed=6, count=1)##seed=2, 8,11,14用于文章\n",
    "test_sample_surived_correct"
   ]
  },
  {
   "cell_type": "code",
   "execution_count": 32,
   "metadata": {},
   "outputs": [
    {
     "data": {
      "text/plain": [
       "0.68"
      ]
     },
     "execution_count": 32,
     "metadata": {},
     "output_type": "execute_result"
    }
   ],
   "source": [
    "# prediction\n",
    "result = ensemble_pipeline.predict_proba(test_sample_surived_correct)\n",
    "score = round(result[0,0],2)\n",
    "score=1-score##互斥，所以我加了一个1-score\n",
    "score=round(score,2)\n",
    "score"
   ]
  },
  {
   "cell_type": "markdown",
   "metadata": {},
   "source": [
    "Let's see how LIME explainer (with default settings) explains it."
   ]
  },
  {
   "cell_type": "code",
   "execution_count": 33,
   "metadata": {
    "scrolled": false
   },
   "outputs": [
    {
     "name": "stdout",
     "output_type": "stream",
     "text": [
      "Intercept 0.3119835031727647\n",
      "Prediction_local [0.64667691]\n",
      "Right: 0.6757084605495929\n"
     ]
    }
   ],
   "source": [
    "explaination = explainer.explain_instance(test_sample_surived_correct.values.ravel(), ensemble_pipeline.predict_proba)"
   ]
  },
  {
   "cell_type": "code",
   "execution_count": 34,
   "metadata": {
    "scrolled": false
   },
   "outputs": [
    {
     "data": {
      "image/png": "[encoded data removed]",
      "text/plain": [
       "<Figure size 864x576 with 1 Axes>"
      ]
     },
     "metadata": {},
     "output_type": "display_data"
    }
   ],
   "source": [
    "outcome = 1\n",
    "outcome_title = 'Medical dispute'\n",
    "plot_vertical_bar(explaination, 'Local explanation : Score {}, {}, {}'.format(score, score_compare(score, outcome), outcome_title))\n",
    "\n",
    "#import os\n",
    "plt.tight_layout()\n",
    "\n",
    "plt.show()"
   ]
  },
  {
   "cell_type": "code",
   "execution_count": 61,
   "metadata": {},
   "outputs": [
    {
     "data": {
      "text/html": [
       "<div>\n",
       "<style scoped>\n",
       "    .dataframe tbody tr th:only-of-type {\n",
       "        vertical-align: middle;\n",
       "    }\n",
       "\n",
       "    .dataframe tbody tr th {\n",
       "        vertical-align: top;\n",
       "    }\n",
       "\n",
       "    .dataframe thead th {\n",
       "        text-align: right;\n",
       "    }\n",
       "</style>\n",
       "<table border=\"1\" class=\"dataframe\">\n",
       "  <thead>\n",
       "    <tr style=\"text-align: right;\">\n",
       "      <th></th>\n",
       "      <th>x1</th>\n",
       "      <th>x2</th>\n",
       "      <th>x4</th>\n",
       "      <th>x7</th>\n",
       "      <th>x8</th>\n",
       "      <th>x9</th>\n",
       "      <th>x10</th>\n",
       "      <th>x17</th>\n",
       "      <th>x19</th>\n",
       "      <th>x20</th>\n",
       "      <th>x234</th>\n",
       "      <th>x242</th>\n",
       "      <th>x257</th>\n",
       "      <th>x26</th>\n",
       "      <th>x27</th>\n",
       "      <th>x33</th>\n",
       "      <th>x22</th>\n",
       "      <th>x36</th>\n",
       "    </tr>\n",
       "  </thead>\n",
       "  <tbody>\n",
       "    <tr>\n",
       "      <th>1473</th>\n",
       "      <td>1</td>\n",
       "      <td>1</td>\n",
       "      <td>3</td>\n",
       "      <td>1</td>\n",
       "      <td>2</td>\n",
       "      <td>2</td>\n",
       "      <td>3</td>\n",
       "      <td>1</td>\n",
       "      <td>2</td>\n",
       "      <td>2</td>\n",
       "      <td>0</td>\n",
       "      <td>1</td>\n",
       "      <td>1</td>\n",
       "      <td>1</td>\n",
       "      <td>1</td>\n",
       "      <td>1</td>\n",
       "      <td>1</td>\n",
       "      <td>1</td>\n",
       "    </tr>\n",
       "  </tbody>\n",
       "</table>\n",
       "</div>"
      ],
      "text/plain": [
       "      x1  x2  x4  x7  x8  x9  x10  x17  x19  x20  x234  x242  x257  x26  x27  \\\n",
       "1473   1   1   3   1   2   2    3    1    2    2     0     1     1    1    1   \n",
       "\n",
       "      x33  x22  x36  \n",
       "1473    1    1    1  "
      ]
     },
     "execution_count": 61,
     "metadata": {},
     "output_type": "execute_result"
    }
   ],
   "source": [
    "test_sample_surived_correct = get_test_sample(ensemble_pipeline, survived=False, seed=15, count=1)\n",
    "test_sample_surived_correct"
   ]
  },
  {
   "cell_type": "code",
   "execution_count": 62,
   "metadata": {},
   "outputs": [
    {
     "data": {
      "text/plain": [
       "0.73"
      ]
     },
     "execution_count": 62,
     "metadata": {},
     "output_type": "execute_result"
    }
   ],
   "source": [
    "# prediction\n",
    "result = ensemble_pipeline.predict_proba(test_sample_surived_correct)\n",
    "score = round(result[0,0],2)\n",
    "score=1-score##互斥，所以我加了一个1-score\n",
    "score"
   ]
  },
  {
   "cell_type": "code",
   "execution_count": 63,
   "metadata": {},
   "outputs": [
    {
     "name": "stdout",
     "output_type": "stream",
     "text": [
      "Intercept 0.3072352370438234\n",
      "Prediction_local [0.76147033]\n",
      "Right: 0.7327002900523854\n"
     ]
    }
   ],
   "source": [
    "explaination = explainer.explain_instance(test_sample_surived_correct.values.ravel(), ensemble_pipeline.predict_proba)"
   ]
  },
  {
   "cell_type": "code",
   "execution_count": 64,
   "metadata": {},
   "outputs": [
    {
     "data": {
      "image/png": "[encoded data removed]",
      "text/plain": [
       "<Figure size 864x576 with 1 Axes>"
      ]
     },
     "metadata": {},
     "output_type": "display_data"
    }
   ],
   "source": [
    "outcome = 1\n",
    "outcome_title = 'Medical dispute'\n",
    "plot_vertical_bar(explaination, 'Local explanation : Score {}, {}, {}'.format(score, score_compare(score, outcome), outcome_title))\n"
   ]
  },
  {
   "cell_type": "code",
   "execution_count": null,
   "metadata": {},
   "outputs": [],
   "source": []
  },
  {
   "cell_type": "code",
   "execution_count": null,
   "metadata": {},
   "outputs": [],
   "source": []
  },
  {
   "cell_type": "code",
   "execution_count": 77,
   "metadata": {},
   "outputs": [],
   "source": [
    "def get_test_sample(model, survived=True, correct=True, seed=42, count=1):\n",
    "    '''\n",
    "    Return one random sample from test set based on the selection criteria.\n",
    "    \n",
    "    parameters:\n",
    "      model - the model which is tested for\n",
    "      survived - select survived sample\n",
    "      correct - select the sample which the model prediected correctly\n",
    "    '''\n",
    "    test_sample = test.loc[test['died_hosp']==0,['x1',\n",
    " 'x2',\n",
    " 'x4',\n",
    " 'x7',\n",
    " 'x8',\n",
    " 'x9',\n",
    " 'x10',\n",
    " 'x17',\n",
    " 'x19',\n",
    " 'x20',\n",
    " 'x234',\n",
    " 'x242',\n",
    " 'x257',\n",
    " 'x26',\n",
    " 'x27',\n",
    " 'x33',\n",
    " 'x22',\n",
    " 'x36'    ]]###此处改为了“==0”则为计算阴性事件。\n",
    "    prediction = model.predict_proba(test_sample)\n",
    "    \n",
    "    if (survived and correct) or (not survived and not correct):\n",
    "        ids = np.argwhere((prediction[:,0] > prediction[:,1]))\n",
    "    elif (survived and not correct) or (not survived and correct):\n",
    "        ids = np.argwhere((prediction[:,0] <= prediction[:,1]))\n",
    "    if count == 1:\n",
    "        idx = random.Random(seed).choice(ids)   \n",
    "    else:\n",
    "        ids = ids.reshape(len(ids)).tolist()\n",
    "        idx = random.Random(seed).sample(ids, count)\n",
    "    \n",
    "    return test_sample.iloc[idx,:]"
   ]
  },
  {
   "cell_type": "code",
   "execution_count": 78,
   "metadata": {},
   "outputs": [],
   "source": [
    "def plot_vertical_bar(explaination, title='Local explanation for class died'):\n",
    "    exp_list = explaination.as_list()\n",
    "    tags, values, colors = [],[],[]\n",
    "    for i in range(len(exp_list)):\n",
    "        tags.append(exp_list[i][0])\n",
    "        values.append(exp_list[i][1])\n",
    "        if(exp_list[i][1] > 0):\n",
    "            colors.append('r')\n",
    "        else:\n",
    "            colors.append('g')\n",
    "            \n",
    "    fig, ax = plt.subplots()\n",
    "\n",
    "    y_pos = np.arange(len(tags))\n",
    "\n",
    "    ax.barh(y_pos, values, align='center',\n",
    "            color=colors, ecolor='black')\n",
    "    ax.set_yticks(y_pos)\n",
    "    ax.set_yticklabels(tags)\n",
    "    ax.invert_yaxis()  # labels read top-to-bottom\n",
    "    ax.set_title(title)"
   ]
  },
  {
   "cell_type": "code",
   "execution_count": null,
   "metadata": {},
   "outputs": [],
   "source": []
  },
  {
   "cell_type": "code",
   "execution_count": 79,
   "metadata": {},
   "outputs": [
    {
     "data": {
      "text/html": [
       "<div>\n",
       "<style scoped>\n",
       "    .dataframe tbody tr th:only-of-type {\n",
       "        vertical-align: middle;\n",
       "    }\n",
       "\n",
       "    .dataframe tbody tr th {\n",
       "        vertical-align: top;\n",
       "    }\n",
       "\n",
       "    .dataframe thead th {\n",
       "        text-align: right;\n",
       "    }\n",
       "</style>\n",
       "<table border=\"1\" class=\"dataframe\">\n",
       "  <thead>\n",
       "    <tr style=\"text-align: right;\">\n",
       "      <th></th>\n",
       "      <th>x1</th>\n",
       "      <th>x2</th>\n",
       "      <th>x4</th>\n",
       "      <th>x7</th>\n",
       "      <th>x8</th>\n",
       "      <th>x9</th>\n",
       "      <th>x10</th>\n",
       "      <th>x17</th>\n",
       "      <th>x19</th>\n",
       "      <th>x20</th>\n",
       "      <th>x234</th>\n",
       "      <th>x242</th>\n",
       "      <th>x257</th>\n",
       "      <th>x26</th>\n",
       "      <th>x27</th>\n",
       "      <th>x33</th>\n",
       "      <th>x22</th>\n",
       "      <th>x36</th>\n",
       "    </tr>\n",
       "  </thead>\n",
       "  <tbody>\n",
       "    <tr>\n",
       "      <th>264</th>\n",
       "      <td>1</td>\n",
       "      <td>1</td>\n",
       "      <td>1</td>\n",
       "      <td>3</td>\n",
       "      <td>4</td>\n",
       "      <td>2</td>\n",
       "      <td>2</td>\n",
       "      <td>2</td>\n",
       "      <td>2</td>\n",
       "      <td>2</td>\n",
       "      <td>0</td>\n",
       "      <td>1</td>\n",
       "      <td>1</td>\n",
       "      <td>1</td>\n",
       "      <td>1</td>\n",
       "      <td>2</td>\n",
       "      <td>1</td>\n",
       "      <td>2</td>\n",
       "    </tr>\n",
       "  </tbody>\n",
       "</table>\n",
       "</div>"
      ],
      "text/plain": [
       "     x1  x2  x4  x7  x8  x9  x10  x17  x19  x20  x234  x242  x257  x26  x27  \\\n",
       "264   1   1   1   3   4   2    2    2    2    2     0     1     1    1    1   \n",
       "\n",
       "     x33  x22  x36  \n",
       "264    2    1    2  "
      ]
     },
     "execution_count": 79,
     "metadata": {},
     "output_type": "execute_result"
    }
   ],
   "source": [
    "test_sample_surived_correct = get_test_sample(ensemble_pipeline, survived=True, seed=2, count=1)###seed=1, 3, 5用于文章; 6  14  21true negative\n",
    "test_sample_surived_correct"
   ]
  },
  {
   "cell_type": "code",
   "execution_count": 80,
   "metadata": {},
   "outputs": [
    {
     "data": {
      "text/plain": [
       "0.25"
      ]
     },
     "execution_count": 80,
     "metadata": {},
     "output_type": "execute_result"
    }
   ],
   "source": [
    "# prediction\n",
    "result = ensemble_pipeline.predict_proba(test_sample_surived_correct)\n",
    "score = round(result[0,0],2)\n",
    "score=1-score##互斥，所以我加了一个1-score\n",
    "score=round(score,2)\n",
    "score"
   ]
  },
  {
   "cell_type": "code",
   "execution_count": 81,
   "metadata": {},
   "outputs": [
    {
     "name": "stdout",
     "output_type": "stream",
     "text": [
      "Intercept 0.6705839550708885\n",
      "Prediction_local [0.23061131]\n",
      "Right: 0.24851453753128938\n"
     ]
    }
   ],
   "source": [
    "explaination = explainer.explain_instance(test_sample_surived_correct.values.ravel(), ensemble_pipeline.predict_proba)"
   ]
  },
  {
   "cell_type": "code",
   "execution_count": 82,
   "metadata": {},
   "outputs": [
    {
     "data": {
      "image/png": "[encoded data removed]",
      "text/plain": [
       "<Figure size 864x576 with 1 Axes>"
      ]
     },
     "metadata": {},
     "output_type": "display_data"
    }
   ],
   "source": [
    "outcome = 1\n",
    "outcome_title = 'No medical dispute'\n",
    "plot_vertical_bar(explaination, 'Local explanation : Score {}, {}, {}'.format(score, 'True negative', outcome_title))\n",
    "\n"
   ]
  },
  {
   "cell_type": "code",
   "execution_count": 83,
   "metadata": {},
   "outputs": [
    {
     "data": {
      "text/html": [
       "<div>\n",
       "<style scoped>\n",
       "    .dataframe tbody tr th:only-of-type {\n",
       "        vertical-align: middle;\n",
       "    }\n",
       "\n",
       "    .dataframe tbody tr th {\n",
       "        vertical-align: top;\n",
       "    }\n",
       "\n",
       "    .dataframe thead th {\n",
       "        text-align: right;\n",
       "    }\n",
       "</style>\n",
       "<table border=\"1\" class=\"dataframe\">\n",
       "  <thead>\n",
       "    <tr style=\"text-align: right;\">\n",
       "      <th></th>\n",
       "      <th>x1</th>\n",
       "      <th>x2</th>\n",
       "      <th>x4</th>\n",
       "      <th>x7</th>\n",
       "      <th>x8</th>\n",
       "      <th>x9</th>\n",
       "      <th>x10</th>\n",
       "      <th>x17</th>\n",
       "      <th>x19</th>\n",
       "      <th>x20</th>\n",
       "      <th>x234</th>\n",
       "      <th>x242</th>\n",
       "      <th>x257</th>\n",
       "      <th>x26</th>\n",
       "      <th>x27</th>\n",
       "      <th>x33</th>\n",
       "      <th>x22</th>\n",
       "      <th>x36</th>\n",
       "    </tr>\n",
       "  </thead>\n",
       "  <tbody>\n",
       "    <tr>\n",
       "      <th>3308</th>\n",
       "      <td>2</td>\n",
       "      <td>1</td>\n",
       "      <td>3</td>\n",
       "      <td>2</td>\n",
       "      <td>3</td>\n",
       "      <td>2</td>\n",
       "      <td>2</td>\n",
       "      <td>2</td>\n",
       "      <td>3</td>\n",
       "      <td>3</td>\n",
       "      <td>0</td>\n",
       "      <td>1</td>\n",
       "      <td>0</td>\n",
       "      <td>2</td>\n",
       "      <td>2</td>\n",
       "      <td>2</td>\n",
       "      <td>1</td>\n",
       "      <td>3</td>\n",
       "    </tr>\n",
       "  </tbody>\n",
       "</table>\n",
       "</div>"
      ],
      "text/plain": [
       "      x1  x2  x4  x7  x8  x9  x10  x17  x19  x20  x234  x242  x257  x26  x27  \\\n",
       "3308   2   1   3   2   3   2    2    2    3    3     0     1     0    2    2   \n",
       "\n",
       "      x33  x22  x36  \n",
       "3308    2    1    3  "
      ]
     },
     "execution_count": 83,
     "metadata": {},
     "output_type": "execute_result"
    }
   ],
   "source": [
    "test_sample_surived_correct = get_test_sample(ensemble_pipeline, survived=True, seed=5, count=1)\n",
    "test_sample_surived_correct"
   ]
  },
  {
   "cell_type": "code",
   "execution_count": 84,
   "metadata": {},
   "outputs": [
    {
     "data": {
      "text/plain": [
       "0.23"
      ]
     },
     "execution_count": 84,
     "metadata": {},
     "output_type": "execute_result"
    }
   ],
   "source": [
    "# prediction\n",
    "result = ensemble_pipeline.predict_proba(test_sample_surived_correct)\n",
    "score = round(result[0,0],2)\n",
    "score=1-score##互斥，所以我加了一个1-score\n",
    "score=round(score,2)\n",
    "score"
   ]
  },
  {
   "cell_type": "code",
   "execution_count": 85,
   "metadata": {},
   "outputs": [
    {
     "name": "stdout",
     "output_type": "stream",
     "text": [
      "Intercept 0.6507364039556909\n",
      "Prediction_local [0.2113034]\n",
      "Right: 0.22567502250173402\n"
     ]
    }
   ],
   "source": [
    "explaination = explainer.explain_instance(test_sample_surived_correct.values.ravel(), ensemble_pipeline.predict_proba)"
   ]
  },
  {
   "cell_type": "code",
   "execution_count": 86,
   "metadata": {},
   "outputs": [
    {
     "data": {
      "image/png": "[encoded data removed]",
      "text/plain": [
       "<Figure size 864x576 with 1 Axes>"
      ]
     },
     "metadata": {},
     "output_type": "display_data"
    }
   ],
   "source": [
    "outcome = 1\n",
    "outcome_title = 'No medical dispute'\n",
    "plot_vertical_bar(explaination, 'Local explanation : Score {}, {}, {}'.format(score, 'True negative', outcome_title))"
   ]
  },
  {
   "cell_type": "code",
   "execution_count": null,
   "metadata": {},
   "outputs": [],
   "source": []
  },
  {
   "cell_type": "code",
   "execution_count": null,
   "metadata": {},
   "outputs": [],
   "source": []
  },
  {
   "cell_type": "code",
   "execution_count": null,
   "metadata": {},
   "outputs": [],
   "source": []
  },
  {
   "cell_type": "code",
   "execution_count": null,
   "metadata": {},
   "outputs": [],
   "source": []
  },
  {
   "cell_type": "code",
   "execution_count": 63,
   "metadata": {
    "scrolled": true
   },
   "outputs": [
    {
     "data": {
      "text/html": [
       "<div>\n",
       "<style scoped>\n",
       "    .dataframe tbody tr th:only-of-type {\n",
       "        vertical-align: middle;\n",
       "    }\n",
       "\n",
       "    .dataframe tbody tr th {\n",
       "        vertical-align: top;\n",
       "    }\n",
       "\n",
       "    .dataframe thead th {\n",
       "        text-align: right;\n",
       "    }\n",
       "</style>\n",
       "<table border=\"1\" class=\"dataframe\">\n",
       "  <thead>\n",
       "    <tr style=\"text-align: right;\">\n",
       "      <th></th>\n",
       "      <th>x1</th>\n",
       "      <th>x2</th>\n",
       "      <th>x5</th>\n",
       "      <th>x6</th>\n",
       "      <th>x7</th>\n",
       "      <th>x9</th>\n",
       "      <th>x15</th>\n",
       "      <th>x16</th>\n",
       "    </tr>\n",
       "  </thead>\n",
       "  <tbody>\n",
       "    <tr>\n",
       "      <th>40</th>\n",
       "      <td>0</td>\n",
       "      <td>2</td>\n",
       "      <td>1</td>\n",
       "      <td>0</td>\n",
       "      <td>0</td>\n",
       "      <td>1</td>\n",
       "      <td>1</td>\n",
       "      <td>3</td>\n",
       "    </tr>\n",
       "  </tbody>\n",
       "</table>\n",
       "</div>"
      ],
      "text/plain": [
       "    x1  x2  x5  x6  x7  x9  x15  x16\n",
       "40   0   2   1   0   0   1    1    3"
      ]
     },
     "execution_count": 63,
     "metadata": {},
     "output_type": "execute_result"
    }
   ],
   "source": [
    "test_sample_surived_correct = get_test_sample(ensemble_pipeline, seed=43) #, survived=True, correct=True, seed=42\n",
    "test_sample_surived_correct"
   ]
  },
  {
   "cell_type": "code",
   "execution_count": 67,
   "metadata": {},
   "outputs": [
    {
     "data": {
      "text/plain": [
       "0.46"
      ]
     },
     "execution_count": 67,
     "metadata": {},
     "output_type": "execute_result"
    }
   ],
   "source": [
    "# prediction\n",
    "result = ensemble_pipeline.predict_proba(test_sample_surived_correct)\n",
    "score = round(result[0,0],2)\n",
    "score"
   ]
  },
  {
   "cell_type": "code",
   "execution_count": 68,
   "metadata": {},
   "outputs": [
    {
     "name": "stdout",
     "output_type": "stream",
     "text": [
      "Intercept 0.2576487078229592\n",
      "Prediction_local [0.38524761]\n",
      "Right: 0.5361814637013069\n",
      "<lime.explanation.Explanation object at 0x00000218ADDDA4F0>\n"
     ]
    },
    {
     "data": {
      "image/png": "[encoded data removed]",
      "text/plain": [
       "<Figure size 864x576 with 1 Axes>"
      ]
     },
     "metadata": {},
     "output_type": "display_data"
    }
   ],
   "source": [
    "explaination = explainer.explain_instance(test_sample_surived_correct.values.ravel(), ensemble_pipeline.predict_proba)\n",
    "print(explaination)\n",
    "outcome = 1\n",
    "outcome_title = 'lived'\n",
    "plot_vertical_bar(explaination, 'Local explanation : Score {}, {}, Patient {}'.format(score, score_compare(score, outcome), outcome_title))"
   ]
  },
  {
   "cell_type": "code",
   "execution_count": 153,
   "metadata": {},
   "outputs": [
    {
     "data": {
      "text/html": [
       "<div>\n",
       "<style scoped>\n",
       "    .dataframe tbody tr th:only-of-type {\n",
       "        vertical-align: middle;\n",
       "    }\n",
       "\n",
       "    .dataframe tbody tr th {\n",
       "        vertical-align: top;\n",
       "    }\n",
       "\n",
       "    .dataframe thead th {\n",
       "        text-align: right;\n",
       "    }\n",
       "</style>\n",
       "<table border=\"1\" class=\"dataframe\">\n",
       "  <thead>\n",
       "    <tr style=\"text-align: right;\">\n",
       "      <th></th>\n",
       "      <th>x1</th>\n",
       "      <th>x2</th>\n",
       "      <th>x5</th>\n",
       "      <th>x6</th>\n",
       "      <th>x7</th>\n",
       "      <th>x9</th>\n",
       "      <th>x15</th>\n",
       "      <th>x16</th>\n",
       "    </tr>\n",
       "  </thead>\n",
       "  <tbody>\n",
       "    <tr>\n",
       "      <th>42</th>\n",
       "      <td>0</td>\n",
       "      <td>2</td>\n",
       "      <td>1</td>\n",
       "      <td>0</td>\n",
       "      <td>0</td>\n",
       "      <td>1</td>\n",
       "      <td>0</td>\n",
       "      <td>5</td>\n",
       "    </tr>\n",
       "  </tbody>\n",
       "</table>\n",
       "</div>"
      ],
      "text/plain": [
       "    x1  x2  x5  x6  x7  x9  x15  x16\n",
       "42   0   2   1   0   0   1    0    5"
      ]
     },
     "execution_count": 153,
     "metadata": {},
     "output_type": "execute_result"
    }
   ],
   "source": [
    "test_sample_surived_correct = get_test_sample(ensemble_pipeline, survived=False, correct=False, seed=10) #, correct=True, seed=42\n",
    "test_sample_surived_correct"
   ]
  },
  {
   "cell_type": "code",
   "execution_count": 154,
   "metadata": {},
   "outputs": [
    {
     "data": {
      "text/plain": [
       "0.54"
      ]
     },
     "execution_count": 154,
     "metadata": {},
     "output_type": "execute_result"
    }
   ],
   "source": [
    "# prediction\n",
    "result = ensemble_pipeline.predict_proba(test_sample_surived_correct)\n",
    "score = round(result[0,0],2)\n",
    "score"
   ]
  },
  {
   "cell_type": "code",
   "execution_count": 155,
   "metadata": {},
   "outputs": [
    {
     "ename": "IndexError",
     "evalue": "list index out of range",
     "output_type": "error",
     "traceback": [
      "\u001b[1;31m---------------------------------------------------------------------------\u001b[0m",
      "\u001b[1;31mIndexError\u001b[0m                                Traceback (most recent call last)",
      "\u001b[1;32m~\\AppData\\Local\\Temp/ipykernel_5332/1688628959.py\u001b[0m in \u001b[0;36m<module>\u001b[1;34m\u001b[0m\n\u001b[1;32m----> 1\u001b[1;33m \u001b[0mexplaination\u001b[0m \u001b[1;33m=\u001b[0m \u001b[0mexplainer\u001b[0m\u001b[1;33m.\u001b[0m\u001b[0mexplain_instance\u001b[0m\u001b[1;33m(\u001b[0m\u001b[0mtest_sample_surived_correct\u001b[0m\u001b[1;33m.\u001b[0m\u001b[0mvalues\u001b[0m\u001b[1;33m.\u001b[0m\u001b[0mravel\u001b[0m\u001b[1;33m(\u001b[0m\u001b[1;33m)\u001b[0m\u001b[1;33m,\u001b[0m \u001b[0mensemble_pipeline\u001b[0m\u001b[1;33m.\u001b[0m\u001b[0mpredict_proba\u001b[0m\u001b[1;33m)\u001b[0m\u001b[1;33m\u001b[0m\u001b[1;33m\u001b[0m\u001b[0m\n\u001b[0m\u001b[0;32m      2\u001b[0m \u001b[0mprint\u001b[0m\u001b[1;33m(\u001b[0m\u001b[0mexplaination\u001b[0m\u001b[1;33m)\u001b[0m\u001b[1;33m\u001b[0m\u001b[1;33m\u001b[0m\u001b[0m\n\u001b[0;32m      3\u001b[0m \u001b[0moutcome\u001b[0m \u001b[1;33m=\u001b[0m \u001b[1;36m0\u001b[0m\u001b[1;33m\u001b[0m\u001b[1;33m\u001b[0m\u001b[0m\n\u001b[0;32m      4\u001b[0m \u001b[0moutcome_title\u001b[0m \u001b[1;33m=\u001b[0m \u001b[1;34m'died'\u001b[0m\u001b[1;33m\u001b[0m\u001b[1;33m\u001b[0m\u001b[0m\n\u001b[0;32m      5\u001b[0m \u001b[0mplot_vertical_bar\u001b[0m\u001b[1;33m(\u001b[0m\u001b[0mexplaination\u001b[0m\u001b[1;33m,\u001b[0m \u001b[1;34m'Local explanation : Score {}, {}, Patient {}'\u001b[0m\u001b[1;33m.\u001b[0m\u001b[0mformat\u001b[0m\u001b[1;33m(\u001b[0m\u001b[0mscore\u001b[0m\u001b[1;33m,\u001b[0m \u001b[0mscore_compare\u001b[0m\u001b[1;33m(\u001b[0m\u001b[0mscore\u001b[0m\u001b[1;33m,\u001b[0m \u001b[0moutcome\u001b[0m\u001b[1;33m)\u001b[0m\u001b[1;33m,\u001b[0m \u001b[0moutcome_title\u001b[0m\u001b[1;33m)\u001b[0m\u001b[1;33m)\u001b[0m\u001b[1;33m\u001b[0m\u001b[1;33m\u001b[0m\u001b[0m\n",
      "\u001b[1;32m~\\anaconda3\\lib\\site-packages\\lime\\lime_tabular.py\u001b[0m in \u001b[0;36mexplain_instance\u001b[1;34m(self, data_row, predict_fn, labels, top_labels, num_features, num_samples, distance_metric, model_regressor)\u001b[0m\n\u001b[0;32m    413\u001b[0m             \u001b[0mname\u001b[0m \u001b[1;33m=\u001b[0m \u001b[0mint\u001b[0m\u001b[1;33m(\u001b[0m\u001b[0mdata_row\u001b[0m\u001b[1;33m[\u001b[0m\u001b[0mi\u001b[0m\u001b[1;33m]\u001b[0m\u001b[1;33m)\u001b[0m\u001b[1;33m\u001b[0m\u001b[1;33m\u001b[0m\u001b[0m\n\u001b[0;32m    414\u001b[0m             \u001b[1;32mif\u001b[0m \u001b[0mi\u001b[0m \u001b[1;32min\u001b[0m \u001b[0mself\u001b[0m\u001b[1;33m.\u001b[0m\u001b[0mcategorical_names\u001b[0m\u001b[1;33m:\u001b[0m\u001b[1;33m\u001b[0m\u001b[1;33m\u001b[0m\u001b[0m\n\u001b[1;32m--> 415\u001b[1;33m                 \u001b[0mname\u001b[0m \u001b[1;33m=\u001b[0m \u001b[0mself\u001b[0m\u001b[1;33m.\u001b[0m\u001b[0mcategorical_names\u001b[0m\u001b[1;33m[\u001b[0m\u001b[0mi\u001b[0m\u001b[1;33m]\u001b[0m\u001b[1;33m[\u001b[0m\u001b[0mname\u001b[0m\u001b[1;33m]\u001b[0m\u001b[1;33m\u001b[0m\u001b[1;33m\u001b[0m\u001b[0m\n\u001b[0m\u001b[0;32m    416\u001b[0m             \u001b[0mfeature_names\u001b[0m\u001b[1;33m[\u001b[0m\u001b[0mi\u001b[0m\u001b[1;33m]\u001b[0m \u001b[1;33m=\u001b[0m \u001b[1;34m'%s=%s'\u001b[0m \u001b[1;33m%\u001b[0m \u001b[1;33m(\u001b[0m\u001b[0mfeature_names\u001b[0m\u001b[1;33m[\u001b[0m\u001b[0mi\u001b[0m\u001b[1;33m]\u001b[0m\u001b[1;33m,\u001b[0m \u001b[0mname\u001b[0m\u001b[1;33m)\u001b[0m\u001b[1;33m\u001b[0m\u001b[1;33m\u001b[0m\u001b[0m\n\u001b[0;32m    417\u001b[0m             \u001b[0mvalues\u001b[0m\u001b[1;33m[\u001b[0m\u001b[0mi\u001b[0m\u001b[1;33m]\u001b[0m \u001b[1;33m=\u001b[0m \u001b[1;34m'True'\u001b[0m\u001b[1;33m\u001b[0m\u001b[1;33m\u001b[0m\u001b[0m\n",
      "\u001b[1;31mIndexError\u001b[0m: list index out of range"
     ]
    }
   ],
   "source": [
    "explaination = explainer.explain_instance(test_sample_surived_correct.values.ravel(), ensemble_pipeline.predict_proba)\n",
    "print(explaination)\n",
    "outcome = 0\n",
    "outcome_title = 'died'\n",
    "plot_vertical_bar(explaination, 'Local explanation : Score {}, {}, Patient {}'.format(score, score_compare(score, outcome), outcome_title))"
   ]
  },
  {
   "cell_type": "code",
   "execution_count": 156,
   "metadata": {},
   "outputs": [
    {
     "data": {
      "text/html": [
       "<div>\n",
       "<style scoped>\n",
       "    .dataframe tbody tr th:only-of-type {\n",
       "        vertical-align: middle;\n",
       "    }\n",
       "\n",
       "    .dataframe tbody tr th {\n",
       "        vertical-align: top;\n",
       "    }\n",
       "\n",
       "    .dataframe thead th {\n",
       "        text-align: right;\n",
       "    }\n",
       "</style>\n",
       "<table border=\"1\" class=\"dataframe\">\n",
       "  <thead>\n",
       "    <tr style=\"text-align: right;\">\n",
       "      <th></th>\n",
       "      <th>x1</th>\n",
       "      <th>x2</th>\n",
       "      <th>x5</th>\n",
       "      <th>x6</th>\n",
       "      <th>x7</th>\n",
       "      <th>x9</th>\n",
       "      <th>x15</th>\n",
       "      <th>x16</th>\n",
       "    </tr>\n",
       "  </thead>\n",
       "  <tbody>\n",
       "    <tr>\n",
       "      <th>45</th>\n",
       "      <td>0</td>\n",
       "      <td>1</td>\n",
       "      <td>2</td>\n",
       "      <td>1</td>\n",
       "      <td>1</td>\n",
       "      <td>0</td>\n",
       "      <td>1</td>\n",
       "      <td>4</td>\n",
       "    </tr>\n",
       "  </tbody>\n",
       "</table>\n",
       "</div>"
      ],
      "text/plain": [
       "    x1  x2  x5  x6  x7  x9  x15  x16\n",
       "45   0   1   2   1   1   0    1    4"
      ]
     },
     "execution_count": 156,
     "metadata": {},
     "output_type": "execute_result"
    }
   ],
   "source": [
    "test_sample_surived_correct = get_test_sample(ensemble_pipeline, survived=False, correct=True, seed=41) #, correct=True, seed=42\n",
    "test_sample_surived_correct"
   ]
  },
  {
   "cell_type": "code",
   "execution_count": 157,
   "metadata": {},
   "outputs": [
    {
     "data": {
      "text/plain": [
       "0.46"
      ]
     },
     "execution_count": 157,
     "metadata": {},
     "output_type": "execute_result"
    }
   ],
   "source": [
    "# prediction\n",
    "result = ensemble_pipeline.predict_proba(test_sample_surived_correct)\n",
    "score = round(result[0,0],2)\n",
    "score"
   ]
  },
  {
   "cell_type": "code",
   "execution_count": 158,
   "metadata": {},
   "outputs": [
    {
     "name": "stdout",
     "output_type": "stream",
     "text": [
      "Intercept 0.23941513803221098\n",
      "Prediction_local [0.40171673]\n",
      "Right: 0.5361814637013069\n",
      "<lime.explanation.Explanation object at 0x00000218ADD54DF0>\n"
     ]
    },
    {
     "data": {
      "image/png": "[encoded data removed]",
      "text/plain": [
       "<Figure size 864x576 with 1 Axes>"
      ]
     },
     "metadata": {},
     "output_type": "display_data"
    }
   ],
   "source": [
    "explaination = explainer.explain_instance(test_sample_surived_correct.values.ravel(), ensemble_pipeline.predict_proba)\n",
    "print(explaination)\n",
    "outcome = 0\n",
    "outcome_title = 'died'\n",
    "plot_vertical_bar(explaination, 'Local explanation : Score {}, {}, Patient {}'.format(score, score_compare(score, outcome), outcome_title))"
   ]
  },
  {
   "cell_type": "markdown",
   "metadata": {},
   "source": [
    "## Incorrect, person died, score 52%"
   ]
  },
  {
   "cell_type": "code",
   "execution_count": 83,
   "metadata": {},
   "outputs": [
    {
     "data": {
      "text/html": [
       "<div>\n",
       "<style scoped>\n",
       "    .dataframe tbody tr th:only-of-type {\n",
       "        vertical-align: middle;\n",
       "    }\n",
       "\n",
       "    .dataframe tbody tr th {\n",
       "        vertical-align: top;\n",
       "    }\n",
       "\n",
       "    .dataframe thead th {\n",
       "        text-align: right;\n",
       "    }\n",
       "</style>\n",
       "<table border=\"1\" class=\"dataframe\">\n",
       "  <thead>\n",
       "    <tr style=\"text-align: right;\">\n",
       "      <th></th>\n",
       "      <th>x1</th>\n",
       "      <th>x2</th>\n",
       "      <th>x5</th>\n",
       "      <th>x6</th>\n",
       "      <th>x7</th>\n",
       "      <th>x9</th>\n",
       "      <th>x15</th>\n",
       "      <th>x16</th>\n",
       "    </tr>\n",
       "  </thead>\n",
       "  <tbody>\n",
       "    <tr>\n",
       "      <th>32</th>\n",
       "      <td>1</td>\n",
       "      <td>1</td>\n",
       "      <td>1</td>\n",
       "      <td>0</td>\n",
       "      <td>0</td>\n",
       "      <td>1</td>\n",
       "      <td>1</td>\n",
       "      <td>3</td>\n",
       "    </tr>\n",
       "  </tbody>\n",
       "</table>\n",
       "</div>"
      ],
      "text/plain": [
       "    x1  x2  x5  x6  x7  x9  x15  x16\n",
       "32   1   1   1   0   0   1    1    3"
      ]
     },
     "execution_count": 83,
     "metadata": {},
     "output_type": "execute_result"
    }
   ],
   "source": [
    "test_sample_incorrect = get_test_sample(ensemble_pipeline, correct=False, survived=False, seed=45) #, correct=True, seed=42\n",
    "test_sample_incorrect"
   ]
  },
  {
   "cell_type": "code",
   "execution_count": 84,
   "metadata": {},
   "outputs": [
    {
     "data": {
      "text/plain": [
       "0.59"
      ]
     },
     "execution_count": 84,
     "metadata": {},
     "output_type": "execute_result"
    }
   ],
   "source": [
    "# prediction\n",
    "result = ensemble_pipeline.predict_proba(test_sample_incorrect)\n",
    "score = round(result[0,0],2)\n",
    "score"
   ]
  },
  {
   "cell_type": "code",
   "execution_count": 85,
   "metadata": {},
   "outputs": [
    {
     "name": "stdout",
     "output_type": "stream",
     "text": [
      "Intercept 0.23033003691972564\n",
      "Prediction_local [0.29376975]\n",
      "Right: 0.41335336854125876\n",
      "<lime.explanation.Explanation object at 0x00000218B1259D60>\n"
     ]
    },
    {
     "data": {
      "image/png": "[encoded data removed]",
      "text/plain": [
       "<Figure size 864x576 with 1 Axes>"
      ]
     },
     "metadata": {},
     "output_type": "display_data"
    }
   ],
   "source": [
    "explaination = explainer.explain_instance(test_sample_incorrect.values.ravel(), ensemble_pipeline.predict_proba)\n",
    "print(explaination)\n",
    "outcome = 0\n",
    "outcome_title = 'died'\n",
    "plot_vertical_bar(explaination, 'Local explanation : Score {}, {}, Patient {}'.format(score, score_compare(score, outcome), outcome_title))"
   ]
  },
  {
   "cell_type": "markdown",
   "metadata": {},
   "source": [
    "## Incorrect, person died, score 77%"
   ]
  },
  {
   "cell_type": "code",
   "execution_count": 135,
   "metadata": {},
   "outputs": [
    {
     "data": {
      "text/html": [
       "<div>\n",
       "<style scoped>\n",
       "    .dataframe tbody tr th:only-of-type {\n",
       "        vertical-align: middle;\n",
       "    }\n",
       "\n",
       "    .dataframe tbody tr th {\n",
       "        vertical-align: top;\n",
       "    }\n",
       "\n",
       "    .dataframe thead th {\n",
       "        text-align: right;\n",
       "    }\n",
       "</style>\n",
       "<table border=\"1\" class=\"dataframe\">\n",
       "  <thead>\n",
       "    <tr style=\"text-align: right;\">\n",
       "      <th></th>\n",
       "      <th>sex</th>\n",
       "      <th>age</th>\n",
       "      <th>chr_resp</th>\n",
       "      <th>chr_cvs</th>\n",
       "      <th>chr_liv</th>\n",
       "      <th>chr_ren</th>\n",
       "      <th>immundis</th>\n",
       "      <th>immunrx</th>\n",
       "      <th>hepfail</th>\n",
       "      <th>lymphoma</th>\n",
       "      <th>metast</th>\n",
       "      <th>leukaem</th>\n",
       "      <th>immunsup</th>\n",
       "      <th>cirrhos</th>\n",
       "      <th>iddm</th>\n",
       "      <th>arf</th>\n",
       "      <th>gcsverb</th>\n",
       "      <th>gcsmotor</th>\n",
       "      <th>gcseye</th>\n",
       "      <th>urineop</th>\n",
       "      <th>temphi</th>\n",
       "      <th>templo</th>\n",
       "      <th>hrhi</th>\n",
       "      <th>hrlo</th>\n",
       "      <th>rrhi</th>\n",
       "      <th>rrlo</th>\n",
       "      <th>systolichi</th>\n",
       "      <th>systoliclo</th>\n",
       "      <th>diastolichi</th>\n",
       "      <th>diastoliclo</th>\n",
       "      <th>maphi</th>\n",
       "      <th>maplo</th>\n",
       "      <th>nahi</th>\n",
       "      <th>nalo</th>\n",
       "      <th>khi</th>\n",
       "      <th>klo</th>\n",
       "      <th>hco3hi</th>\n",
       "      <th>hco3lo</th>\n",
       "      <th>creathi</th>\n",
       "      <th>creatlo</th>\n",
       "      <th>hcthi</th>\n",
       "      <th>hctlo</th>\n",
       "      <th>hmgnhi</th>\n",
       "      <th>hmgnlo</th>\n",
       "      <th>wcchi</th>\n",
       "      <th>wcclo</th>\n",
       "      <th>plathi</th>\n",
       "      <th>platlo</th>\n",
       "      <th>gluchi</th>\n",
       "      <th>gluclo</th>\n",
       "      <th>pre_icu_hrs</th>\n",
       "      <th>intubated</th>\n",
       "      <th>ventilated</th>\n",
       "      <th>elect</th>\n",
       "    </tr>\n",
       "  </thead>\n",
       "  <tbody>\n",
       "    <tr>\n",
       "      <th>2809</th>\n",
       "      <td>1</td>\n",
       "      <td>69.199997</td>\n",
       "      <td>0.0</td>\n",
       "      <td>0.0</td>\n",
       "      <td>0.0</td>\n",
       "      <td>0.0</td>\n",
       "      <td>0.0</td>\n",
       "      <td>0.0</td>\n",
       "      <td>0.0</td>\n",
       "      <td>0</td>\n",
       "      <td>0</td>\n",
       "      <td>0</td>\n",
       "      <td>0</td>\n",
       "      <td>0</td>\n",
       "      <td>0.0</td>\n",
       "      <td>0.0</td>\n",
       "      <td>1.0</td>\n",
       "      <td>1.0</td>\n",
       "      <td>1.0</td>\n",
       "      <td>3370.0</td>\n",
       "      <td>35.900002</td>\n",
       "      <td>35.200001</td>\n",
       "      <td>65.0</td>\n",
       "      <td>50.0</td>\n",
       "      <td>16.0</td>\n",
       "      <td>12.0</td>\n",
       "      <td>130.0</td>\n",
       "      <td>85.0</td>\n",
       "      <td>70.0</td>\n",
       "      <td>50.0</td>\n",
       "      <td>90.0</td>\n",
       "      <td>62.0</td>\n",
       "      <td>134.0</td>\n",
       "      <td>130.0</td>\n",
       "      <td>4.1</td>\n",
       "      <td>3.8</td>\n",
       "      <td>28.0</td>\n",
       "      <td>24.0</td>\n",
       "      <td>77.0</td>\n",
       "      <td>75.0</td>\n",
       "      <td>0.4</td>\n",
       "      <td>0.35</td>\n",
       "      <td>13.3</td>\n",
       "      <td>11.4</td>\n",
       "      <td>10.5</td>\n",
       "      <td>7.8</td>\n",
       "      <td>170.0</td>\n",
       "      <td>111.0</td>\n",
       "      <td>12.0</td>\n",
       "      <td>7.2</td>\n",
       "      <td>0.0</td>\n",
       "      <td>1.0</td>\n",
       "      <td>1.0</td>\n",
       "      <td>0.0</td>\n",
       "    </tr>\n",
       "  </tbody>\n",
       "</table>\n",
       "</div>"
      ],
      "text/plain": [
       "      sex        age  chr_resp  chr_cvs  chr_liv  chr_ren  immundis  immunrx  \\\n",
       "2809    1  69.199997       0.0      0.0      0.0      0.0       0.0      0.0   \n",
       "\n",
       "      hepfail  lymphoma  metast  leukaem  immunsup  cirrhos  iddm  arf  \\\n",
       "2809      0.0         0       0        0         0        0   0.0  0.0   \n",
       "\n",
       "      gcsverb  gcsmotor  gcseye  urineop     temphi     templo  hrhi  hrlo  \\\n",
       "2809      1.0       1.0     1.0   3370.0  35.900002  35.200001  65.0  50.0   \n",
       "\n",
       "      rrhi  rrlo  systolichi  systoliclo  diastolichi  diastoliclo  maphi  \\\n",
       "2809  16.0  12.0       130.0        85.0         70.0         50.0   90.0   \n",
       "\n",
       "      maplo   nahi   nalo  khi  klo  hco3hi  hco3lo  creathi  creatlo  hcthi  \\\n",
       "2809   62.0  134.0  130.0  4.1  3.8    28.0    24.0     77.0     75.0    0.4   \n",
       "\n",
       "      hctlo  hmgnhi  hmgnlo  wcchi  wcclo  plathi  platlo  gluchi  gluclo  \\\n",
       "2809   0.35    13.3    11.4   10.5    7.8   170.0   111.0    12.0     7.2   \n",
       "\n",
       "      pre_icu_hrs  intubated  ventilated  elect  \n",
       "2809          0.0        1.0         1.0    0.0  "
      ]
     },
     "execution_count": 135,
     "metadata": {},
     "output_type": "execute_result"
    }
   ],
   "source": [
    "test_sample_incorrect = get_test_sample(ensemble_pipeline, correct=False, survived=False, seed=58) #, correct=True, seed=42\n",
    "test_sample_incorrect"
   ]
  },
  {
   "cell_type": "code",
   "execution_count": 136,
   "metadata": {},
   "outputs": [
    {
     "data": {
      "text/plain": [
       "0.77"
      ]
     },
     "execution_count": 136,
     "metadata": {},
     "output_type": "execute_result"
    }
   ],
   "source": [
    "# prediction\n",
    "result = ensemble_pipeline.predict_proba(test_sample_incorrect)\n",
    "score = round(result[0,0],2)\n",
    "score"
   ]
  },
  {
   "cell_type": "code",
   "execution_count": 137,
   "metadata": {},
   "outputs": [
    {
     "name": "stdout",
     "output_type": "stream",
     "text": [
      "Intercept 0.4280182590422288\n",
      "Prediction_local [0.50149541]\n",
      "Right: 0.2337855997957723\n",
      "<lime.explanation.Explanation object at 0x7f904d344630>\n"
     ]
    },
    {
     "data": {
      "image/png": "[encoded data removed]",
      "text/plain": [
       "<matplotlib.figure.Figure at 0x7f904cb725f8>"
      ]
     },
     "metadata": {},
     "output_type": "display_data"
    }
   ],
   "source": [
    "explaination = explainer.explain_instance(test_sample_incorrect.values.ravel(), ensemble_pipeline.predict_proba)\n",
    "print(explaination)\n",
    "outcome = 0\n",
    "outcome_title = 'died'\n",
    "plot_vertical_bar(explaination, 'Local explanation : Score {}, {}, Patient {}'.format(score, score_compare(score, outcome), outcome_title))"
   ]
  },
  {
   "cell_type": "markdown",
   "metadata": {},
   "source": [
    "## Incorrect, person lived, score 29%"
   ]
  },
  {
   "cell_type": "code",
   "execution_count": 146,
   "metadata": {},
   "outputs": [
    {
     "data": {
      "text/html": [
       "<div>\n",
       "<style scoped>\n",
       "    .dataframe tbody tr th:only-of-type {\n",
       "        vertical-align: middle;\n",
       "    }\n",
       "\n",
       "    .dataframe tbody tr th {\n",
       "        vertical-align: top;\n",
       "    }\n",
       "\n",
       "    .dataframe thead th {\n",
       "        text-align: right;\n",
       "    }\n",
       "</style>\n",
       "<table border=\"1\" class=\"dataframe\">\n",
       "  <thead>\n",
       "    <tr style=\"text-align: right;\">\n",
       "      <th></th>\n",
       "      <th>sex</th>\n",
       "      <th>age</th>\n",
       "      <th>chr_resp</th>\n",
       "      <th>chr_cvs</th>\n",
       "      <th>chr_liv</th>\n",
       "      <th>chr_ren</th>\n",
       "      <th>immundis</th>\n",
       "      <th>immunrx</th>\n",
       "      <th>hepfail</th>\n",
       "      <th>lymphoma</th>\n",
       "      <th>metast</th>\n",
       "      <th>leukaem</th>\n",
       "      <th>immunsup</th>\n",
       "      <th>cirrhos</th>\n",
       "      <th>iddm</th>\n",
       "      <th>arf</th>\n",
       "      <th>gcsverb</th>\n",
       "      <th>gcsmotor</th>\n",
       "      <th>gcseye</th>\n",
       "      <th>urineop</th>\n",
       "      <th>temphi</th>\n",
       "      <th>templo</th>\n",
       "      <th>hrhi</th>\n",
       "      <th>hrlo</th>\n",
       "      <th>rrhi</th>\n",
       "      <th>rrlo</th>\n",
       "      <th>systolichi</th>\n",
       "      <th>systoliclo</th>\n",
       "      <th>diastolichi</th>\n",
       "      <th>diastoliclo</th>\n",
       "      <th>maphi</th>\n",
       "      <th>maplo</th>\n",
       "      <th>nahi</th>\n",
       "      <th>nalo</th>\n",
       "      <th>khi</th>\n",
       "      <th>klo</th>\n",
       "      <th>hco3hi</th>\n",
       "      <th>hco3lo</th>\n",
       "      <th>creathi</th>\n",
       "      <th>creatlo</th>\n",
       "      <th>hcthi</th>\n",
       "      <th>hctlo</th>\n",
       "      <th>hmgnhi</th>\n",
       "      <th>hmgnlo</th>\n",
       "      <th>wcchi</th>\n",
       "      <th>wcclo</th>\n",
       "      <th>plathi</th>\n",
       "      <th>platlo</th>\n",
       "      <th>gluchi</th>\n",
       "      <th>gluclo</th>\n",
       "      <th>pre_icu_hrs</th>\n",
       "      <th>intubated</th>\n",
       "      <th>ventilated</th>\n",
       "      <th>elect</th>\n",
       "    </tr>\n",
       "  </thead>\n",
       "  <tbody>\n",
       "    <tr>\n",
       "      <th>1170</th>\n",
       "      <td>1</td>\n",
       "      <td>54.400002</td>\n",
       "      <td>0.0</td>\n",
       "      <td>0.0</td>\n",
       "      <td>0.0</td>\n",
       "      <td>0.0</td>\n",
       "      <td>0.0</td>\n",
       "      <td>0.0</td>\n",
       "      <td>0.0</td>\n",
       "      <td>0</td>\n",
       "      <td>0</td>\n",
       "      <td>0</td>\n",
       "      <td>0</td>\n",
       "      <td>0</td>\n",
       "      <td>0.0</td>\n",
       "      <td>1.0</td>\n",
       "      <td>1.0</td>\n",
       "      <td>1.0</td>\n",
       "      <td>1.0</td>\n",
       "      <td>1440.0</td>\n",
       "      <td>38.400002</td>\n",
       "      <td>34.700001</td>\n",
       "      <td>100.0</td>\n",
       "      <td>65.0</td>\n",
       "      <td>18.0</td>\n",
       "      <td>16.0</td>\n",
       "      <td>192.0</td>\n",
       "      <td>98.0</td>\n",
       "      <td>102.0</td>\n",
       "      <td>56.0</td>\n",
       "      <td>132.0</td>\n",
       "      <td>70.0</td>\n",
       "      <td>142.0</td>\n",
       "      <td>137.0</td>\n",
       "      <td>6.1</td>\n",
       "      <td>4.0</td>\n",
       "      <td>26.0</td>\n",
       "      <td>21.0</td>\n",
       "      <td>233.0</td>\n",
       "      <td>196.0</td>\n",
       "      <td>0.34</td>\n",
       "      <td>0.34</td>\n",
       "      <td>11.4</td>\n",
       "      <td>11.1</td>\n",
       "      <td>11.9</td>\n",
       "      <td>11.2</td>\n",
       "      <td>211.0</td>\n",
       "      <td>201.0</td>\n",
       "      <td>11.3</td>\n",
       "      <td>8.7</td>\n",
       "      <td>2.6</td>\n",
       "      <td>1.0</td>\n",
       "      <td>1.0</td>\n",
       "      <td>0.0</td>\n",
       "    </tr>\n",
       "  </tbody>\n",
       "</table>\n",
       "</div>"
      ],
      "text/plain": [
       "      sex        age  chr_resp  chr_cvs  chr_liv  chr_ren  immundis  immunrx  \\\n",
       "1170    1  54.400002       0.0      0.0      0.0      0.0       0.0      0.0   \n",
       "\n",
       "      hepfail  lymphoma  metast  leukaem  immunsup  cirrhos  iddm  arf  \\\n",
       "1170      0.0         0       0        0         0        0   0.0  1.0   \n",
       "\n",
       "      gcsverb  gcsmotor  gcseye  urineop     temphi     templo   hrhi  hrlo  \\\n",
       "1170      1.0       1.0     1.0   1440.0  38.400002  34.700001  100.0  65.0   \n",
       "\n",
       "      rrhi  rrlo  systolichi  systoliclo  diastolichi  diastoliclo  maphi  \\\n",
       "1170  18.0  16.0       192.0        98.0        102.0         56.0  132.0   \n",
       "\n",
       "      maplo   nahi   nalo  khi  klo  hco3hi  hco3lo  creathi  creatlo  hcthi  \\\n",
       "1170   70.0  142.0  137.0  6.1  4.0    26.0    21.0    233.0    196.0   0.34   \n",
       "\n",
       "      hctlo  hmgnhi  hmgnlo  wcchi  wcclo  plathi  platlo  gluchi  gluclo  \\\n",
       "1170   0.34    11.4    11.1   11.9   11.2   211.0   201.0    11.3     8.7   \n",
       "\n",
       "      pre_icu_hrs  intubated  ventilated  elect  \n",
       "1170          2.6        1.0         1.0    0.0  "
      ]
     },
     "execution_count": 146,
     "metadata": {},
     "output_type": "execute_result"
    }
   ],
   "source": [
    "test_sample_incorrect = get_test_sample(ensemble_pipeline, correct=False, survived=True, seed=4) #, correct=True, seed=42\n",
    "test_sample_incorrect"
   ]
  },
  {
   "cell_type": "code",
   "execution_count": 147,
   "metadata": {},
   "outputs": [
    {
     "data": {
      "text/plain": [
       "0.29"
      ]
     },
     "execution_count": 147,
     "metadata": {},
     "output_type": "execute_result"
    }
   ],
   "source": [
    "# prediction\n",
    "result = ensemble_pipeline.predict_proba(test_sample_incorrect)\n",
    "score = round(result[0,0],2)\n",
    "score"
   ]
  },
  {
   "cell_type": "code",
   "execution_count": 148,
   "metadata": {
    "scrolled": true
   },
   "outputs": [
    {
     "name": "stdout",
     "output_type": "stream",
     "text": [
      "Intercept 0.2661094106381957\n",
      "Prediction_local [0.72228309]\n",
      "Right: 0.7144123206198975\n",
      "<lime.explanation.Explanation object at 0x7f904d99d3c8>\n"
     ]
    },
    {
     "data": {
      "image/png": "[encoded data removed]",
      "text/plain": [
       "<matplotlib.figure.Figure at 0x7f904d67fba8>"
      ]
     },
     "metadata": {},
     "output_type": "display_data"
    }
   ],
   "source": [
    "explaination = explainer.explain_instance(test_sample_incorrect.values.ravel(), ensemble_pipeline.predict_proba)\n",
    "print(explaination)\n",
    "outcome = 1\n",
    "outcome_title = 'lived'\n",
    "plot_vertical_bar(explaination, 'Local explanation : Score {}, {}, Patient {}'.format(score, score_compare(score, outcome), outcome_title))"
   ]
  },
  {
   "cell_type": "markdown",
   "metadata": {},
   "source": [
    "## Incorrect, Person lived, Score 22%"
   ]
  },
  {
   "cell_type": "code",
   "execution_count": 149,
   "metadata": {
    "scrolled": false
   },
   "outputs": [
    {
     "data": {
      "text/html": [
       "<div>\n",
       "<style scoped>\n",
       "    .dataframe tbody tr th:only-of-type {\n",
       "        vertical-align: middle;\n",
       "    }\n",
       "\n",
       "    .dataframe tbody tr th {\n",
       "        vertical-align: top;\n",
       "    }\n",
       "\n",
       "    .dataframe thead th {\n",
       "        text-align: right;\n",
       "    }\n",
       "</style>\n",
       "<table border=\"1\" class=\"dataframe\">\n",
       "  <thead>\n",
       "    <tr style=\"text-align: right;\">\n",
       "      <th></th>\n",
       "      <th>sex</th>\n",
       "      <th>age</th>\n",
       "      <th>chr_resp</th>\n",
       "      <th>chr_cvs</th>\n",
       "      <th>chr_liv</th>\n",
       "      <th>chr_ren</th>\n",
       "      <th>immundis</th>\n",
       "      <th>immunrx</th>\n",
       "      <th>hepfail</th>\n",
       "      <th>lymphoma</th>\n",
       "      <th>metast</th>\n",
       "      <th>leukaem</th>\n",
       "      <th>immunsup</th>\n",
       "      <th>cirrhos</th>\n",
       "      <th>iddm</th>\n",
       "      <th>arf</th>\n",
       "      <th>gcsverb</th>\n",
       "      <th>gcsmotor</th>\n",
       "      <th>gcseye</th>\n",
       "      <th>urineop</th>\n",
       "      <th>temphi</th>\n",
       "      <th>templo</th>\n",
       "      <th>hrhi</th>\n",
       "      <th>hrlo</th>\n",
       "      <th>rrhi</th>\n",
       "      <th>rrlo</th>\n",
       "      <th>systolichi</th>\n",
       "      <th>systoliclo</th>\n",
       "      <th>diastolichi</th>\n",
       "      <th>diastoliclo</th>\n",
       "      <th>maphi</th>\n",
       "      <th>maplo</th>\n",
       "      <th>nahi</th>\n",
       "      <th>nalo</th>\n",
       "      <th>khi</th>\n",
       "      <th>klo</th>\n",
       "      <th>hco3hi</th>\n",
       "      <th>hco3lo</th>\n",
       "      <th>creathi</th>\n",
       "      <th>creatlo</th>\n",
       "      <th>hcthi</th>\n",
       "      <th>hctlo</th>\n",
       "      <th>hmgnhi</th>\n",
       "      <th>hmgnlo</th>\n",
       "      <th>wcchi</th>\n",
       "      <th>wcclo</th>\n",
       "      <th>plathi</th>\n",
       "      <th>platlo</th>\n",
       "      <th>gluchi</th>\n",
       "      <th>gluclo</th>\n",
       "      <th>pre_icu_hrs</th>\n",
       "      <th>intubated</th>\n",
       "      <th>ventilated</th>\n",
       "      <th>elect</th>\n",
       "    </tr>\n",
       "  </thead>\n",
       "  <tbody>\n",
       "    <tr>\n",
       "      <th>2719</th>\n",
       "      <td>1</td>\n",
       "      <td>28.6</td>\n",
       "      <td>0.0</td>\n",
       "      <td>0.0</td>\n",
       "      <td>0.0</td>\n",
       "      <td>0.0</td>\n",
       "      <td>0.0</td>\n",
       "      <td>0.0</td>\n",
       "      <td>0.0</td>\n",
       "      <td>0</td>\n",
       "      <td>0</td>\n",
       "      <td>0</td>\n",
       "      <td>0</td>\n",
       "      <td>0</td>\n",
       "      <td>0.0</td>\n",
       "      <td>1.0</td>\n",
       "      <td>1.0</td>\n",
       "      <td>1.0</td>\n",
       "      <td>1.0</td>\n",
       "      <td>520.0</td>\n",
       "      <td>37.900002</td>\n",
       "      <td>34.400002</td>\n",
       "      <td>130.0</td>\n",
       "      <td>90.0</td>\n",
       "      <td>18.0</td>\n",
       "      <td>15.0</td>\n",
       "      <td>140.0</td>\n",
       "      <td>90.0</td>\n",
       "      <td>90.0</td>\n",
       "      <td>40.0</td>\n",
       "      <td>107.0</td>\n",
       "      <td>57.0</td>\n",
       "      <td>141.0</td>\n",
       "      <td>139.0</td>\n",
       "      <td>5.4</td>\n",
       "      <td>4.4</td>\n",
       "      <td>21.0</td>\n",
       "      <td>18.0</td>\n",
       "      <td>320.0</td>\n",
       "      <td>140.0</td>\n",
       "      <td>0.46</td>\n",
       "      <td>0.34</td>\n",
       "      <td>16.1</td>\n",
       "      <td>11.2</td>\n",
       "      <td>20.700001</td>\n",
       "      <td>13.7</td>\n",
       "      <td>149.0</td>\n",
       "      <td>67.0</td>\n",
       "      <td>7.0</td>\n",
       "      <td>4.4</td>\n",
       "      <td>0.8</td>\n",
       "      <td>1.0</td>\n",
       "      <td>1.0</td>\n",
       "      <td>0.0</td>\n",
       "    </tr>\n",
       "  </tbody>\n",
       "</table>\n",
       "</div>"
      ],
      "text/plain": [
       "      sex   age  chr_resp  chr_cvs  chr_liv  chr_ren  immundis  immunrx  \\\n",
       "2719    1  28.6       0.0      0.0      0.0      0.0       0.0      0.0   \n",
       "\n",
       "      hepfail  lymphoma  metast  leukaem  immunsup  cirrhos  iddm  arf  \\\n",
       "2719      0.0         0       0        0         0        0   0.0  1.0   \n",
       "\n",
       "      gcsverb  gcsmotor  gcseye  urineop     temphi     templo   hrhi  hrlo  \\\n",
       "2719      1.0       1.0     1.0    520.0  37.900002  34.400002  130.0  90.0   \n",
       "\n",
       "      rrhi  rrlo  systolichi  systoliclo  diastolichi  diastoliclo  maphi  \\\n",
       "2719  18.0  15.0       140.0        90.0         90.0         40.0  107.0   \n",
       "\n",
       "      maplo   nahi   nalo  khi  klo  hco3hi  hco3lo  creathi  creatlo  hcthi  \\\n",
       "2719   57.0  141.0  139.0  5.4  4.4    21.0    18.0    320.0    140.0   0.46   \n",
       "\n",
       "      hctlo  hmgnhi  hmgnlo      wcchi  wcclo  plathi  platlo  gluchi  gluclo  \\\n",
       "2719   0.34    16.1    11.2  20.700001   13.7   149.0    67.0     7.0     4.4   \n",
       "\n",
       "      pre_icu_hrs  intubated  ventilated  elect  \n",
       "2719          0.8        1.0         1.0    0.0  "
      ]
     },
     "execution_count": 149,
     "metadata": {},
     "output_type": "execute_result"
    }
   ],
   "source": [
    "test_sample_incorrect = get_test_sample(ensemble_pipeline, correct=False, survived=True, seed=48) #, correct=True, seed=42\n",
    "test_sample_incorrect"
   ]
  },
  {
   "cell_type": "code",
   "execution_count": 154,
   "metadata": {},
   "outputs": [
    {
     "data": {
      "text/plain": [
       "0.22"
      ]
     },
     "execution_count": 154,
     "metadata": {},
     "output_type": "execute_result"
    }
   ],
   "source": [
    "# prediction\n",
    "result = ensemble_pipeline.predict_proba(test_sample_incorrect)\n",
    "score = round(result[0,0],2)\n",
    "score"
   ]
  },
  {
   "cell_type": "code",
   "execution_count": 155,
   "metadata": {
    "scrolled": true
   },
   "outputs": [
    {
     "name": "stdout",
     "output_type": "stream",
     "text": [
      "Intercept 0.3328040620164847\n",
      "Prediction_local [0.73623432]\n",
      "Right: 0.7824032129022999\n",
      "<lime.explanation.Explanation object at 0x7f904d9a5a90>\n"
     ]
    },
    {
     "data": {
      "image/png": "[encoded data removed]",
      "text/plain": [
       "<matplotlib.figure.Figure at 0x7f904dce1630>"
      ]
     },
     "metadata": {},
     "output_type": "display_data"
    }
   ],
   "source": [
    "explaination = explainer.explain_instance(test_sample_incorrect.values.ravel(), ensemble_pipeline.predict_proba)\n",
    "print(explaination)\n",
    "outcome = 1\n",
    "outcome_title = 'lived'\n",
    "plot_vertical_bar(explaination, 'Local explanation : Score {}, {}, Patient {}'.format(score, score_compare(score, outcome), outcome_title))"
   ]
  },
  {
   "cell_type": "markdown",
   "metadata": {},
   "source": [
    "## h2o deep learner"
   ]
  },
  {
   "cell_type": "code",
   "execution_count": 70,
   "metadata": {},
   "outputs": [
    {
     "name": "stdout",
     "output_type": "stream",
     "text": [
      "Checking whether there is an H2O instance running at http://localhost:54321. connected.\n"
     ]
    },
    {
     "data": {
      "text/html": [
       "<div style=\"overflow:auto\"><table style=\"width:50%\"><tr><td>H2O cluster uptime:</td>\n",
       "<td>2 days 0 hours 36 mins</td></tr>\n",
       "<tr><td>H2O cluster timezone:</td>\n",
       "<td>Etc/UTC</td></tr>\n",
       "<tr><td>H2O data parsing timezone:</td>\n",
       "<td>UTC</td></tr>\n",
       "<tr><td>H2O cluster version:</td>\n",
       "<td>3.18.0.11</td></tr>\n",
       "<tr><td>H2O cluster version age:</td>\n",
       "<td>7 days, 21 hours and 25 minutes </td></tr>\n",
       "<tr><td>H2O cluster name:</td>\n",
       "<td>H2O_from_python_ubuntu_cwa5yz</td></tr>\n",
       "<tr><td>H2O cluster total nodes:</td>\n",
       "<td>1</td></tr>\n",
       "<tr><td>H2O cluster free memory:</td>\n",
       "<td>496.9 Mb</td></tr>\n",
       "<tr><td>H2O cluster total cores:</td>\n",
       "<td>2</td></tr>\n",
       "<tr><td>H2O cluster allowed cores:</td>\n",
       "<td>2</td></tr>\n",
       "<tr><td>H2O cluster status:</td>\n",
       "<td>locked, healthy</td></tr>\n",
       "<tr><td>H2O connection url:</td>\n",
       "<td>http://localhost:54321</td></tr>\n",
       "<tr><td>H2O connection proxy:</td>\n",
       "<td>None</td></tr>\n",
       "<tr><td>H2O internal security:</td>\n",
       "<td>False</td></tr>\n",
       "<tr><td>H2O API Extensions:</td>\n",
       "<td>XGBoost, Algos, AutoML, Core V3, Core V4</td></tr>\n",
       "<tr><td>Python version:</td>\n",
       "<td>3.6.3 final</td></tr></table></div>"
      ],
      "text/plain": [
       "--------------------------  ----------------------------------------\n",
       "H2O cluster uptime:         2 days 0 hours 36 mins\n",
       "H2O cluster timezone:       Etc/UTC\n",
       "H2O data parsing timezone:  UTC\n",
       "H2O cluster version:        3.18.0.11\n",
       "H2O cluster version age:    7 days, 21 hours and 25 minutes\n",
       "H2O cluster name:           H2O_from_python_ubuntu_cwa5yz\n",
       "H2O cluster total nodes:    1\n",
       "H2O cluster free memory:    496.9 Mb\n",
       "H2O cluster total cores:    2\n",
       "H2O cluster allowed cores:  2\n",
       "H2O cluster status:         locked, healthy\n",
       "H2O connection url:         http://localhost:54321\n",
       "H2O connection proxy:\n",
       "H2O internal security:      False\n",
       "H2O API Extensions:         XGBoost, Algos, AutoML, Core V3, Core V4\n",
       "Python version:             3.6.3 final\n",
       "--------------------------  ----------------------------------------"
      ]
     },
     "metadata": {},
     "output_type": "display_data"
    }
   ],
   "source": [
    "import h2o\n",
    "h2o.init()"
   ]
  },
  {
   "cell_type": "code",
   "execution_count": 71,
   "metadata": {},
   "outputs": [
    {
     "name": "stdout",
     "output_type": "stream",
     "text": [
      "Model Details\n",
      "=============\n",
      "H2ODeepLearningEstimator :  Deep Learning\n",
      "Model Key:  DeepLearning_grid_0_AutoML_20180531_041722_model_20\n",
      "\n",
      "\n",
      "ModelMetricsBinomial: deeplearning\n",
      "** Reported on train data. **\n",
      "\n",
      "MSE: 0.14800559030866028\n",
      "RMSE: 0.38471494682252766\n",
      "LogLoss: 0.4536492080270956\n",
      "Mean Per-Class Error: 0.2127796914896426\n",
      "AUC: 0.8682829469027927\n",
      "Gini: 0.7365658938055855\n",
      "Confusion Matrix (Act/Pred) for max f1 @ threshold = 0.43762231271646723: \n"
     ]
    },
    {
     "data": {
      "text/html": [
       "<div style=\"overflow:auto\"><table style=\"width:50%\"><tr><td><b></b></td>\n",
       "<td><b>0</b></td>\n",
       "<td><b>1</b></td>\n",
       "<td><b>Error</b></td>\n",
       "<td><b>Rate</b></td></tr>\n",
       "<tr><td>0</td>\n",
       "<td>3729.0</td>\n",
       "<td>1313.0</td>\n",
       "<td>0.2604</td>\n",
       "<td> (1313.0/5042.0)</td></tr>\n",
       "<tr><td>1</td>\n",
       "<td>879.0</td>\n",
       "<td>4109.0</td>\n",
       "<td>0.1762</td>\n",
       "<td> (879.0/4988.0)</td></tr>\n",
       "<tr><td>Total</td>\n",
       "<td>4608.0</td>\n",
       "<td>5422.0</td>\n",
       "<td>0.2185</td>\n",
       "<td> (2192.0/10030.0)</td></tr></table></div>"
      ],
      "text/plain": [
       "       0     1     Error    Rate\n",
       "-----  ----  ----  -------  ----------------\n",
       "0      3729  1313  0.2604   (1313.0/5042.0)\n",
       "1      879   4109  0.1762   (879.0/4988.0)\n",
       "Total  4608  5422  0.2185   (2192.0/10030.0)"
      ]
     },
     "metadata": {},
     "output_type": "display_data"
    },
    {
     "name": "stdout",
     "output_type": "stream",
     "text": [
      "Maximum Metrics: Maximum metrics at their respective thresholds\n",
      "\n"
     ]
    },
    {
     "data": {
      "text/html": [
       "<div style=\"overflow:auto\"><table style=\"width:50%\"><tr><td><b>metric</b></td>\n",
       "<td><b>threshold</b></td>\n",
       "<td><b>value</b></td>\n",
       "<td><b>idx</b></td></tr>\n",
       "<tr><td>max f1</td>\n",
       "<td>0.4376223</td>\n",
       "<td>0.7894332</td>\n",
       "<td>218.0</td></tr>\n",
       "<tr><td>max f2</td>\n",
       "<td>0.1747394</td>\n",
       "<td>0.8659439</td>\n",
       "<td>323.0</td></tr>\n",
       "<tr><td>max f0point5</td>\n",
       "<td>0.5968780</td>\n",
       "<td>0.8051050</td>\n",
       "<td>157.0</td></tr>\n",
       "<tr><td>max accuracy</td>\n",
       "<td>0.4925697</td>\n",
       "<td>0.7872383</td>\n",
       "<td>198.0</td></tr>\n",
       "<tr><td>max precision</td>\n",
       "<td>0.9889057</td>\n",
       "<td>0.9897260</td>\n",
       "<td>6.0</td></tr>\n",
       "<tr><td>max recall</td>\n",
       "<td>0.0072004</td>\n",
       "<td>1.0</td>\n",
       "<td>395.0</td></tr>\n",
       "<tr><td>max specificity</td>\n",
       "<td>0.9993661</td>\n",
       "<td>0.9998017</td>\n",
       "<td>0.0</td></tr>\n",
       "<tr><td>max absolute_mcc</td>\n",
       "<td>0.5221579</td>\n",
       "<td>0.5752987</td>\n",
       "<td>186.0</td></tr>\n",
       "<tr><td>max min_per_class_accuracy</td>\n",
       "<td>0.4849778</td>\n",
       "<td>0.7863943</td>\n",
       "<td>201.0</td></tr>\n",
       "<tr><td>max mean_per_class_accuracy</td>\n",
       "<td>0.4898166</td>\n",
       "<td>0.7872203</td>\n",
       "<td>199.0</td></tr></table></div>"
      ],
      "text/plain": [
       "metric                       threshold    value     idx\n",
       "---------------------------  -----------  --------  -----\n",
       "max f1                       0.437622     0.789433  218\n",
       "max f2                       0.174739     0.865944  323\n",
       "max f0point5                 0.596878     0.805105  157\n",
       "max accuracy                 0.49257      0.787238  198\n",
       "max precision                0.988906     0.989726  6\n",
       "max recall                   0.00720037   1         395\n",
       "max specificity              0.999366     0.999802  0\n",
       "max absolute_mcc             0.522158     0.575299  186\n",
       "max min_per_class_accuracy   0.484978     0.786394  201\n",
       "max mean_per_class_accuracy  0.489817     0.78722   199"
      ]
     },
     "metadata": {},
     "output_type": "display_data"
    },
    {
     "name": "stdout",
     "output_type": "stream",
     "text": [
      "Gains/Lift Table: Avg response rate: 49.73 %\n",
      "\n"
     ]
    },
    {
     "data": {
      "text/html": [
       "<div style=\"overflow:auto\"><table style=\"width:50%\"><tr><td><b></b></td>\n",
       "<td><b>group</b></td>\n",
       "<td><b>cumulative_data_fraction</b></td>\n",
       "<td><b>lower_threshold</b></td>\n",
       "<td><b>lift</b></td>\n",
       "<td><b>cumulative_lift</b></td>\n",
       "<td><b>response_rate</b></td>\n",
       "<td><b>cumulative_response_rate</b></td>\n",
       "<td><b>capture_rate</b></td>\n",
       "<td><b>cumulative_capture_rate</b></td>\n",
       "<td><b>gain</b></td>\n",
       "<td><b>cumulative_gain</b></td></tr>\n",
       "<tr><td></td>\n",
       "<td>1</td>\n",
       "<td>0.0100698</td>\n",
       "<td>0.9975818</td>\n",
       "<td>1.9710076</td>\n",
       "<td>1.9710076</td>\n",
       "<td>0.9801980</td>\n",
       "<td>0.9801980</td>\n",
       "<td>0.0198476</td>\n",
       "<td>0.0198476</td>\n",
       "<td>97.1007646</td>\n",
       "<td>97.1007646</td></tr>\n",
       "<tr><td></td>\n",
       "<td>2</td>\n",
       "<td>0.0200399</td>\n",
       "<td>0.9931860</td>\n",
       "<td>1.9907177</td>\n",
       "<td>1.9808137</td>\n",
       "<td>0.99</td>\n",
       "<td>0.9850746</td>\n",
       "<td>0.0198476</td>\n",
       "<td>0.0396953</td>\n",
       "<td>99.0717723</td>\n",
       "<td>98.0813654</td></tr>\n",
       "<tr><td></td>\n",
       "<td>3</td>\n",
       "<td>0.0300100</td>\n",
       "<td>0.9869960</td>\n",
       "<td>1.9907177</td>\n",
       "<td>1.9841040</td>\n",
       "<td>0.99</td>\n",
       "<td>0.9867110</td>\n",
       "<td>0.0198476</td>\n",
       "<td>0.0595429</td>\n",
       "<td>99.0717723</td>\n",
       "<td>98.4104042</td></tr>\n",
       "<tr><td></td>\n",
       "<td>4</td>\n",
       "<td>0.0400798</td>\n",
       "<td>0.9799954</td>\n",
       "<td>1.9510985</td>\n",
       "<td>1.9758116</td>\n",
       "<td>0.9702970</td>\n",
       "<td>0.9825871</td>\n",
       "<td>0.0196472</td>\n",
       "<td>0.0791901</td>\n",
       "<td>95.1098478</td>\n",
       "<td>97.5811600</td></tr>\n",
       "<tr><td></td>\n",
       "<td>5</td>\n",
       "<td>0.0500499</td>\n",
       "<td>0.9727082</td>\n",
       "<td>1.9505012</td>\n",
       "<td>1.9707697</td>\n",
       "<td>0.97</td>\n",
       "<td>0.9800797</td>\n",
       "<td>0.0194467</td>\n",
       "<td>0.0986367</td>\n",
       "<td>95.0501203</td>\n",
       "<td>97.0769688</td></tr>\n",
       "<tr><td></td>\n",
       "<td>6</td>\n",
       "<td>0.1</td>\n",
       "<td>0.9321467</td>\n",
       "<td>1.9305535</td>\n",
       "<td>1.9506816</td>\n",
       "<td>0.9600798</td>\n",
       "<td>0.9700897</td>\n",
       "<td>0.0964314</td>\n",
       "<td>0.1950682</td>\n",
       "<td>93.0553488</td>\n",
       "<td>95.0681636</td></tr>\n",
       "<tr><td></td>\n",
       "<td>7</td>\n",
       "<td>0.1500499</td>\n",
       "<td>0.8780543</td>\n",
       "<td>1.8826458</td>\n",
       "<td>1.9279880</td>\n",
       "<td>0.9362550</td>\n",
       "<td>0.9588040</td>\n",
       "<td>0.0942261</td>\n",
       "<td>0.2892943</td>\n",
       "<td>88.2645840</td>\n",
       "<td>92.7987968</td></tr>\n",
       "<tr><td></td>\n",
       "<td>8</td>\n",
       "<td>0.2</td>\n",
       "<td>0.8218892</td>\n",
       "<td>1.7539540</td>\n",
       "<td>1.8845229</td>\n",
       "<td>0.8722555</td>\n",
       "<td>0.9371884</td>\n",
       "<td>0.0876103</td>\n",
       "<td>0.3769046</td>\n",
       "<td>75.3954001</td>\n",
       "<td>88.4522855</td></tr>\n",
       "<tr><td></td>\n",
       "<td>9</td>\n",
       "<td>0.3</td>\n",
       "<td>0.7118376</td>\n",
       "<td>1.6319166</td>\n",
       "<td>1.8003208</td>\n",
       "<td>0.8115653</td>\n",
       "<td>0.8953141</td>\n",
       "<td>0.1631917</td>\n",
       "<td>0.5400962</td>\n",
       "<td>63.1916600</td>\n",
       "<td>80.0320770</td></tr>\n",
       "<tr><td></td>\n",
       "<td>10</td>\n",
       "<td>0.4</td>\n",
       "<td>0.5932352</td>\n",
       "<td>1.3853248</td>\n",
       "<td>1.6965718</td>\n",
       "<td>0.6889332</td>\n",
       "<td>0.8437188</td>\n",
       "<td>0.1385325</td>\n",
       "<td>0.6786287</td>\n",
       "<td>38.5324779</td>\n",
       "<td>69.6571772</td></tr>\n",
       "<tr><td></td>\n",
       "<td>11</td>\n",
       "<td>0.5</td>\n",
       "<td>0.4826280</td>\n",
       "<td>1.0906175</td>\n",
       "<td>1.5753809</td>\n",
       "<td>0.5423729</td>\n",
       "<td>0.7834497</td>\n",
       "<td>0.1090617</td>\n",
       "<td>0.7876905</td>\n",
       "<td>9.0617482</td>\n",
       "<td>57.5380914</td></tr>\n",
       "<tr><td></td>\n",
       "<td>12</td>\n",
       "<td>0.6</td>\n",
       "<td>0.3727665</td>\n",
       "<td>0.7979150</td>\n",
       "<td>1.4458033</td>\n",
       "<td>0.3968096</td>\n",
       "<td>0.7190096</td>\n",
       "<td>0.0797915</td>\n",
       "<td>0.8674820</td>\n",
       "<td>-20.2085004</td>\n",
       "<td>44.5803261</td></tr>\n",
       "<tr><td></td>\n",
       "<td>13</td>\n",
       "<td>0.7</td>\n",
       "<td>0.2616861</td>\n",
       "<td>0.6034483</td>\n",
       "<td>1.3254668</td>\n",
       "<td>0.3000997</td>\n",
       "<td>0.6591654</td>\n",
       "<td>0.0603448</td>\n",
       "<td>0.9278268</td>\n",
       "<td>-39.6551724</td>\n",
       "<td>32.5466835</td></tr>\n",
       "<tr><td></td>\n",
       "<td>14</td>\n",
       "<td>0.8</td>\n",
       "<td>0.1580902</td>\n",
       "<td>0.4310345</td>\n",
       "<td>1.2136628</td>\n",
       "<td>0.2143569</td>\n",
       "<td>0.6035643</td>\n",
       "<td>0.0431034</td>\n",
       "<td>0.9709302</td>\n",
       "<td>-56.8965517</td>\n",
       "<td>21.3662791</td></tr>\n",
       "<tr><td></td>\n",
       "<td>15</td>\n",
       "<td>0.9</td>\n",
       "<td>0.0605349</td>\n",
       "<td>0.2165196</td>\n",
       "<td>1.1028691</td>\n",
       "<td>0.1076770</td>\n",
       "<td>0.5484657</td>\n",
       "<td>0.0216520</td>\n",
       "<td>0.9925822</td>\n",
       "<td>-78.3480353</td>\n",
       "<td>10.2869108</td></tr>\n",
       "<tr><td></td>\n",
       "<td>16</td>\n",
       "<td>1.0</td>\n",
       "<td>0.0002117</td>\n",
       "<td>0.0741780</td>\n",
       "<td>1.0</td>\n",
       "<td>0.0368893</td>\n",
       "<td>0.4973081</td>\n",
       "<td>0.0074178</td>\n",
       "<td>1.0</td>\n",
       "<td>-92.5821973</td>\n",
       "<td>0.0</td></tr></table></div>"
      ],
      "text/plain": [
       "    group    cumulative_data_fraction    lower_threshold    lift      cumulative_lift    response_rate    cumulative_response_rate    capture_rate    cumulative_capture_rate    gain      cumulative_gain\n",
       "--  -------  --------------------------  -----------------  --------  -----------------  ---------------  --------------------------  --------------  -------------------------  --------  -----------------\n",
       "    1        0.0100698                   0.997582           1.97101   1.97101            0.980198         0.980198                    0.0198476       0.0198476                  97.1008   97.1008\n",
       "    2        0.0200399                   0.993186           1.99072   1.98081            0.99             0.985075                    0.0198476       0.0396953                  99.0718   98.0814\n",
       "    3        0.03001                     0.986996           1.99072   1.9841             0.99             0.986711                    0.0198476       0.0595429                  99.0718   98.4104\n",
       "    4        0.0400798                   0.979995           1.9511    1.97581            0.970297         0.982587                    0.0196472       0.0791901                  95.1098   97.5812\n",
       "    5        0.0500499                   0.972708           1.9505    1.97077            0.97             0.98008                     0.0194467       0.0986367                  95.0501   97.077\n",
       "    6        0.1                         0.932147           1.93055   1.95068            0.96008          0.97009                     0.0964314       0.195068                   93.0553   95.0682\n",
       "    7        0.15005                     0.878054           1.88265   1.92799            0.936255         0.958804                    0.0942261       0.289294                   88.2646   92.7988\n",
       "    8        0.2                         0.821889           1.75395   1.88452            0.872255         0.937188                    0.0876103       0.376905                   75.3954   88.4523\n",
       "    9        0.3                         0.711838           1.63192   1.80032            0.811565         0.895314                    0.163192        0.540096                   63.1917   80.0321\n",
       "    10       0.4                         0.593235           1.38532   1.69657            0.688933         0.843719                    0.138532        0.678629                   38.5325   69.6572\n",
       "    11       0.5                         0.482628           1.09062   1.57538            0.542373         0.78345                     0.109062        0.78769                    9.06175   57.5381\n",
       "    12       0.6                         0.372767           0.797915  1.4458             0.39681          0.71901                     0.0797915       0.867482                   -20.2085  44.5803\n",
       "    13       0.7                         0.261686           0.603448  1.32547            0.3001           0.659165                    0.0603448       0.927827                   -39.6552  32.5467\n",
       "    14       0.8                         0.15809            0.431034  1.21366            0.214357         0.603564                    0.0431034       0.97093                    -56.8966  21.3663\n",
       "    15       0.9                         0.0605349          0.21652   1.10287            0.107677         0.548466                    0.021652        0.992582                   -78.348   10.2869\n",
       "    16       1                           0.000211659        0.074178  1                  0.0368893        0.497308                    0.0074178       1                          -92.5822  0"
      ]
     },
     "metadata": {},
     "output_type": "display_data"
    },
    {
     "name": "stdout",
     "output_type": "stream",
     "text": [
      "\n",
      "\n",
      "ModelMetricsBinomial: deeplearning\n",
      "** Reported on validation data. **\n",
      "\n",
      "MSE: 0.16074496691797896\n",
      "RMSE: 0.4009301272266515\n",
      "LogLoss: 0.4900698083031297\n",
      "Mean Per-Class Error: 0.23925469457703452\n",
      "AUC: 0.8449362320593411\n",
      "Gini: 0.6898724641186822\n",
      "Confusion Matrix (Act/Pred) for max f1 @ threshold = 0.34726684097703825: \n"
     ]
    },
    {
     "data": {
      "text/html": [
       "<div style=\"overflow:auto\"><table style=\"width:50%\"><tr><td><b></b></td>\n",
       "<td><b>0</b></td>\n",
       "<td><b>1</b></td>\n",
       "<td><b>Error</b></td>\n",
       "<td><b>Rate</b></td></tr>\n",
       "<tr><td>0</td>\n",
       "<td>1183.0</td>\n",
       "<td>796.0</td>\n",
       "<td>0.4022</td>\n",
       "<td> (796.0/1979.0)</td></tr>\n",
       "<tr><td>1</td>\n",
       "<td>222.0</td>\n",
       "<td>1750.0</td>\n",
       "<td>0.1126</td>\n",
       "<td> (222.0/1972.0)</td></tr>\n",
       "<tr><td>Total</td>\n",
       "<td>1405.0</td>\n",
       "<td>2546.0</td>\n",
       "<td>0.2577</td>\n",
       "<td> (1018.0/3951.0)</td></tr></table></div>"
      ],
      "text/plain": [
       "       0     1     Error    Rate\n",
       "-----  ----  ----  -------  ---------------\n",
       "0      1183  796   0.4022   (796.0/1979.0)\n",
       "1      222   1750  0.1126   (222.0/1972.0)\n",
       "Total  1405  2546  0.2577   (1018.0/3951.0)"
      ]
     },
     "metadata": {},
     "output_type": "display_data"
    },
    {
     "name": "stdout",
     "output_type": "stream",
     "text": [
      "Maximum Metrics: Maximum metrics at their respective thresholds\n",
      "\n"
     ]
    },
    {
     "data": {
      "text/html": [
       "<div style=\"overflow:auto\"><table style=\"width:50%\"><tr><td><b>metric</b></td>\n",
       "<td><b>threshold</b></td>\n",
       "<td><b>value</b></td>\n",
       "<td><b>idx</b></td></tr>\n",
       "<tr><td>max f1</td>\n",
       "<td>0.3472668</td>\n",
       "<td>0.7746791</td>\n",
       "<td>257.0</td></tr>\n",
       "<tr><td>max f2</td>\n",
       "<td>0.1774398</td>\n",
       "<td>0.8639622</td>\n",
       "<td>323.0</td></tr>\n",
       "<tr><td>max f0point5</td>\n",
       "<td>0.6210830</td>\n",
       "<td>0.7727160</td>\n",
       "<td>153.0</td></tr>\n",
       "<tr><td>max accuracy</td>\n",
       "<td>0.5462599</td>\n",
       "<td>0.7608200</td>\n",
       "<td>180.0</td></tr>\n",
       "<tr><td>max precision</td>\n",
       "<td>0.9830917</td>\n",
       "<td>0.9859155</td>\n",
       "<td>9.0</td></tr>\n",
       "<tr><td>max recall</td>\n",
       "<td>0.0012723</td>\n",
       "<td>1.0</td>\n",
       "<td>399.0</td></tr>\n",
       "<tr><td>max specificity</td>\n",
       "<td>0.9992940</td>\n",
       "<td>0.9994947</td>\n",
       "<td>0.0</td></tr>\n",
       "<tr><td>max absolute_mcc</td>\n",
       "<td>0.5462599</td>\n",
       "<td>0.5238131</td>\n",
       "<td>180.0</td></tr>\n",
       "<tr><td>max min_per_class_accuracy</td>\n",
       "<td>0.4988018</td>\n",
       "<td>0.7574533</td>\n",
       "<td>200.0</td></tr>\n",
       "<tr><td>max mean_per_class_accuracy</td>\n",
       "<td>0.5426410</td>\n",
       "<td>0.7607453</td>\n",
       "<td>182.0</td></tr></table></div>"
      ],
      "text/plain": [
       "metric                       threshold    value     idx\n",
       "---------------------------  -----------  --------  -----\n",
       "max f1                       0.347267     0.774679  257\n",
       "max f2                       0.17744      0.863962  323\n",
       "max f0point5                 0.621083     0.772716  153\n",
       "max accuracy                 0.54626      0.76082   180\n",
       "max precision                0.983092     0.985915  9\n",
       "max recall                   0.00127226   1         399\n",
       "max specificity              0.999294     0.999495  0\n",
       "max absolute_mcc             0.54626      0.523813  180\n",
       "max min_per_class_accuracy   0.498802     0.757453  200\n",
       "max mean_per_class_accuracy  0.542641     0.760745  182"
      ]
     },
     "metadata": {},
     "output_type": "display_data"
    },
    {
     "name": "stdout",
     "output_type": "stream",
     "text": [
      "Gains/Lift Table: Avg response rate: 49.91 %\n",
      "\n"
     ]
    },
    {
     "data": {
      "text/html": [
       "<div style=\"overflow:auto\"><table style=\"width:50%\"><tr><td><b></b></td>\n",
       "<td><b>group</b></td>\n",
       "<td><b>cumulative_data_fraction</b></td>\n",
       "<td><b>lower_threshold</b></td>\n",
       "<td><b>lift</b></td>\n",
       "<td><b>cumulative_lift</b></td>\n",
       "<td><b>response_rate</b></td>\n",
       "<td><b>cumulative_response_rate</b></td>\n",
       "<td><b>capture_rate</b></td>\n",
       "<td><b>cumulative_capture_rate</b></td>\n",
       "<td><b>gain</b></td>\n",
       "<td><b>cumulative_gain</b></td></tr>\n",
       "<tr><td></td>\n",
       "<td>1</td>\n",
       "<td>0.0101240</td>\n",
       "<td>0.9967329</td>\n",
       "<td>1.9534610</td>\n",
       "<td>1.9534610</td>\n",
       "<td>0.975</td>\n",
       "<td>0.975</td>\n",
       "<td>0.0197769</td>\n",
       "<td>0.0197769</td>\n",
       "<td>95.3460953</td>\n",
       "<td>95.3460953</td></tr>\n",
       "<tr><td></td>\n",
       "<td>2</td>\n",
       "<td>0.0202480</td>\n",
       "<td>0.9918798</td>\n",
       "<td>1.9534610</td>\n",
       "<td>1.9534610</td>\n",
       "<td>0.975</td>\n",
       "<td>0.975</td>\n",
       "<td>0.0197769</td>\n",
       "<td>0.0395538</td>\n",
       "<td>95.3460953</td>\n",
       "<td>95.3460953</td></tr>\n",
       "<tr><td></td>\n",
       "<td>3</td>\n",
       "<td>0.0301190</td>\n",
       "<td>0.9853465</td>\n",
       "<td>2.0035497</td>\n",
       "<td>1.9698766</td>\n",
       "<td>1.0</td>\n",
       "<td>0.9831933</td>\n",
       "<td>0.0197769</td>\n",
       "<td>0.0593306</td>\n",
       "<td>100.3549696</td>\n",
       "<td>96.9876592</td></tr>\n",
       "<tr><td></td>\n",
       "<td>4</td>\n",
       "<td>0.0402430</td>\n",
       "<td>0.9786605</td>\n",
       "<td>1.9534610</td>\n",
       "<td>1.9657469</td>\n",
       "<td>0.975</td>\n",
       "<td>0.9811321</td>\n",
       "<td>0.0197769</td>\n",
       "<td>0.0791075</td>\n",
       "<td>95.3460953</td>\n",
       "<td>96.5746871</td></tr>\n",
       "<tr><td></td>\n",
       "<td>5</td>\n",
       "<td>0.0501139</td>\n",
       "<td>0.9716897</td>\n",
       "<td>1.9521766</td>\n",
       "<td>1.9630739</td>\n",
       "<td>0.9743590</td>\n",
       "<td>0.9797980</td>\n",
       "<td>0.0192698</td>\n",
       "<td>0.0983773</td>\n",
       "<td>95.2176627</td>\n",
       "<td>96.3073944</td></tr>\n",
       "<tr><td></td>\n",
       "<td>6</td>\n",
       "<td>0.1002278</td>\n",
       "<td>0.9316733</td>\n",
       "<td>1.8517656</td>\n",
       "<td>1.9074198</td>\n",
       "<td>0.9242424</td>\n",
       "<td>0.9520202</td>\n",
       "<td>0.0927992</td>\n",
       "<td>0.1911765</td>\n",
       "<td>85.1765628</td>\n",
       "<td>90.7419786</td></tr>\n",
       "<tr><td></td>\n",
       "<td>7</td>\n",
       "<td>0.1500886</td>\n",
       "<td>0.8797176</td>\n",
       "<td>1.7086109</td>\n",
       "<td>1.8413737</td>\n",
       "<td>0.8527919</td>\n",
       "<td>0.9190556</td>\n",
       "<td>0.0851927</td>\n",
       "<td>0.2763692</td>\n",
       "<td>70.8610908</td>\n",
       "<td>84.1373666</td></tr>\n",
       "<tr><td></td>\n",
       "<td>8</td>\n",
       "<td>0.2002025</td>\n",
       "<td>0.8219483</td>\n",
       "<td>1.8011709</td>\n",
       "<td>1.8313103</td>\n",
       "<td>0.8989899</td>\n",
       "<td>0.9140329</td>\n",
       "<td>0.0902637</td>\n",
       "<td>0.3666329</td>\n",
       "<td>80.1170939</td>\n",
       "<td>83.1310278</td></tr>\n",
       "<tr><td></td>\n",
       "<td>9</td>\n",
       "<td>0.3001772</td>\n",
       "<td>0.7131273</td>\n",
       "<td>1.5318279</td>\n",
       "<td>1.7315670</td>\n",
       "<td>0.7645570</td>\n",
       "<td>0.8642496</td>\n",
       "<td>0.1531440</td>\n",
       "<td>0.5197769</td>\n",
       "<td>53.1827869</td>\n",
       "<td>73.1566980</td></tr>\n",
       "<tr><td></td>\n",
       "<td>10</td>\n",
       "<td>0.4001519</td>\n",
       "<td>0.6039069</td>\n",
       "<td>1.2782140</td>\n",
       "<td>1.6183004</td>\n",
       "<td>0.6379747</td>\n",
       "<td>0.8077166</td>\n",
       "<td>0.1277890</td>\n",
       "<td>0.6475659</td>\n",
       "<td>27.8213983</td>\n",
       "<td>61.8300418</td></tr>\n",
       "<tr><td></td>\n",
       "<td>11</td>\n",
       "<td>0.5001266</td>\n",
       "<td>0.4985632</td>\n",
       "<td>1.1209734</td>\n",
       "<td>1.5188853</td>\n",
       "<td>0.5594937</td>\n",
       "<td>0.7580972</td>\n",
       "<td>0.1120690</td>\n",
       "<td>0.7596349</td>\n",
       "<td>12.0973374</td>\n",
       "<td>51.8885346</td></tr>\n",
       "<tr><td></td>\n",
       "<td>12</td>\n",
       "<td>0.6001012</td>\n",
       "<td>0.3954189</td>\n",
       "<td>0.8775040</td>\n",
       "<td>1.4120335</td>\n",
       "<td>0.4379747</td>\n",
       "<td>0.7047659</td>\n",
       "<td>0.0877282</td>\n",
       "<td>0.8473631</td>\n",
       "<td>-12.2495956</td>\n",
       "<td>41.2033548</td></tr>\n",
       "<tr><td></td>\n",
       "<td>13</td>\n",
       "<td>0.7000759</td>\n",
       "<td>0.2840644</td>\n",
       "<td>0.7557694</td>\n",
       "<td>1.3183154</td>\n",
       "<td>0.3772152</td>\n",
       "<td>0.6579899</td>\n",
       "<td>0.0755578</td>\n",
       "<td>0.9229209</td>\n",
       "<td>-24.4230621</td>\n",
       "<td>31.8315418</td></tr>\n",
       "<tr><td></td>\n",
       "<td>14</td>\n",
       "<td>0.8000506</td>\n",
       "<td>0.1677492</td>\n",
       "<td>0.4412882</td>\n",
       "<td>1.2087217</td>\n",
       "<td>0.2202532</td>\n",
       "<td>0.6032901</td>\n",
       "<td>0.0441176</td>\n",
       "<td>0.9670385</td>\n",
       "<td>-55.8711839</td>\n",
       "<td>20.8721692</td></tr>\n",
       "<tr><td></td>\n",
       "<td>15</td>\n",
       "<td>0.9000253</td>\n",
       "<td>0.0655805</td>\n",
       "<td>0.2485416</td>\n",
       "<td>1.1020650</td>\n",
       "<td>0.1240506</td>\n",
       "<td>0.5500562</td>\n",
       "<td>0.0248479</td>\n",
       "<td>0.9918864</td>\n",
       "<td>-75.1458392</td>\n",
       "<td>10.2065018</td></tr>\n",
       "<tr><td></td>\n",
       "<td>16</td>\n",
       "<td>1.0</td>\n",
       "<td>0.0002687</td>\n",
       "<td>0.0811564</td>\n",
       "<td>1.0</td>\n",
       "<td>0.0405063</td>\n",
       "<td>0.4991141</td>\n",
       "<td>0.0081136</td>\n",
       "<td>1.0</td>\n",
       "<td>-91.8843557</td>\n",
       "<td>0.0</td></tr></table></div>"
      ],
      "text/plain": [
       "    group    cumulative_data_fraction    lower_threshold    lift       cumulative_lift    response_rate    cumulative_response_rate    capture_rate    cumulative_capture_rate    gain      cumulative_gain\n",
       "--  -------  --------------------------  -----------------  ---------  -----------------  ---------------  --------------------------  --------------  -------------------------  --------  -----------------\n",
       "    1        0.010124                    0.996733           1.95346    1.95346            0.975            0.975                       0.0197769       0.0197769                  95.3461   95.3461\n",
       "    2        0.020248                    0.99188            1.95346    1.95346            0.975            0.975                       0.0197769       0.0395538                  95.3461   95.3461\n",
       "    3        0.030119                    0.985347           2.00355    1.96988            1                0.983193                    0.0197769       0.0593306                  100.355   96.9877\n",
       "    4        0.040243                    0.978661           1.95346    1.96575            0.975            0.981132                    0.0197769       0.0791075                  95.3461   96.5747\n",
       "    5        0.0501139                   0.97169            1.95218    1.96307            0.974359         0.979798                    0.0192698       0.0983773                  95.2177   96.3074\n",
       "    6        0.100228                    0.931673           1.85177    1.90742            0.924242         0.95202                     0.0927992       0.191176                   85.1766   90.742\n",
       "    7        0.150089                    0.879718           1.70861    1.84137            0.852792         0.919056                    0.0851927       0.276369                   70.8611   84.1374\n",
       "    8        0.200202                    0.821948           1.80117    1.83131            0.89899          0.914033                    0.0902637       0.366633                   80.1171   83.131\n",
       "    9        0.300177                    0.713127           1.53183    1.73157            0.764557         0.86425                     0.153144        0.519777                   53.1828   73.1567\n",
       "    10       0.400152                    0.603907           1.27821    1.6183             0.637975         0.807717                    0.127789        0.647566                   27.8214   61.83\n",
       "    11       0.500127                    0.498563           1.12097    1.51889            0.559494         0.758097                    0.112069        0.759635                   12.0973   51.8885\n",
       "    12       0.600101                    0.395419           0.877504   1.41203            0.437975         0.704766                    0.0877282       0.847363                   -12.2496  41.2034\n",
       "    13       0.700076                    0.284064           0.755769   1.31832            0.377215         0.65799                     0.0755578       0.922921                   -24.4231  31.8315\n",
       "    14       0.800051                    0.167749           0.441288   1.20872            0.220253         0.60329                     0.0441176       0.967039                   -55.8712  20.8722\n",
       "    15       0.900025                    0.0655805          0.248542   1.10207            0.124051         0.550056                    0.0248479       0.991886                   -75.1458  10.2065\n",
       "    16       1                           0.000268731        0.0811564  1                  0.0405063        0.499114                    0.00811359      1                          -91.8844  0"
      ]
     },
     "metadata": {},
     "output_type": "display_data"
    },
    {
     "name": "stdout",
     "output_type": "stream",
     "text": [
      "\n",
      "\n",
      "ModelMetricsBinomial: deeplearning\n",
      "** Reported on cross-validation data. **\n",
      "\n",
      "MSE: 0.16505155554641368\n",
      "RMSE: 0.40626537576615324\n",
      "LogLoss: 0.5042214101247114\n",
      "Mean Per-Class Error: 0.2422989297286633\n",
      "AUC: 0.8367137076885889\n",
      "Gini: 0.6734274153771778\n",
      "Confusion Matrix (Act/Pred) for max f1 @ threshold = 0.40531565877000764: \n"
     ]
    },
    {
     "data": {
      "text/html": [
       "<div style=\"overflow:auto\"><table style=\"width:50%\"><tr><td><b></b></td>\n",
       "<td><b>0</b></td>\n",
       "<td><b>1</b></td>\n",
       "<td><b>Error</b></td>\n",
       "<td><b>Rate</b></td></tr>\n",
       "<tr><td>0</td>\n",
       "<td>5450.0</td>\n",
       "<td>2694.0</td>\n",
       "<td>0.3308</td>\n",
       "<td> (2694.0/8144.0)</td></tr>\n",
       "<tr><td>1</td>\n",
       "<td>1327.0</td>\n",
       "<td>6500.0</td>\n",
       "<td>0.1695</td>\n",
       "<td> (1327.0/7827.0)</td></tr>\n",
       "<tr><td>Total</td>\n",
       "<td>6777.0</td>\n",
       "<td>9194.0</td>\n",
       "<td>0.2518</td>\n",
       "<td> (4021.0/15971.0)</td></tr></table></div>"
      ],
      "text/plain": [
       "       0     1     Error    Rate\n",
       "-----  ----  ----  -------  ----------------\n",
       "0      5450  2694  0.3308   (2694.0/8144.0)\n",
       "1      1327  6500  0.1695   (1327.0/7827.0)\n",
       "Total  6777  9194  0.2518   (4021.0/15971.0)"
      ]
     },
     "metadata": {},
     "output_type": "display_data"
    },
    {
     "name": "stdout",
     "output_type": "stream",
     "text": [
      "Maximum Metrics: Maximum metrics at their respective thresholds\n",
      "\n"
     ]
    },
    {
     "data": {
      "text/html": [
       "<div style=\"overflow:auto\"><table style=\"width:50%\"><tr><td><b>metric</b></td>\n",
       "<td><b>threshold</b></td>\n",
       "<td><b>value</b></td>\n",
       "<td><b>idx</b></td></tr>\n",
       "<tr><td>max f1</td>\n",
       "<td>0.4053157</td>\n",
       "<td>0.7637624</td>\n",
       "<td>232.0</td></tr>\n",
       "<tr><td>max f2</td>\n",
       "<td>0.1434611</td>\n",
       "<td>0.8538724</td>\n",
       "<td>336.0</td></tr>\n",
       "<tr><td>max f0point5</td>\n",
       "<td>0.6165054</td>\n",
       "<td>0.7649167</td>\n",
       "<td>150.0</td></tr>\n",
       "<tr><td>max accuracy</td>\n",
       "<td>0.4736563</td>\n",
       "<td>0.7573727</td>\n",
       "<td>205.0</td></tr>\n",
       "<tr><td>max precision</td>\n",
       "<td>0.9965141</td>\n",
       "<td>0.9656863</td>\n",
       "<td>2.0</td></tr>\n",
       "<tr><td>max recall</td>\n",
       "<td>0.0035131</td>\n",
       "<td>1.0</td>\n",
       "<td>398.0</td></tr>\n",
       "<tr><td>max specificity</td>\n",
       "<td>0.9990339</td>\n",
       "<td>0.9995088</td>\n",
       "<td>0.0</td></tr>\n",
       "<tr><td>max absolute_mcc</td>\n",
       "<td>0.4736563</td>\n",
       "<td>0.5154352</td>\n",
       "<td>205.0</td></tr>\n",
       "<tr><td>max min_per_class_accuracy</td>\n",
       "<td>0.4913235</td>\n",
       "<td>0.7555255</td>\n",
       "<td>199.0</td></tr>\n",
       "<tr><td>max mean_per_class_accuracy</td>\n",
       "<td>0.4736563</td>\n",
       "<td>0.7577011</td>\n",
       "<td>205.0</td></tr></table></div>"
      ],
      "text/plain": [
       "metric                       threshold    value     idx\n",
       "---------------------------  -----------  --------  -----\n",
       "max f1                       0.405316     0.763762  232\n",
       "max f2                       0.143461     0.853872  336\n",
       "max f0point5                 0.616505     0.764917  150\n",
       "max accuracy                 0.473656     0.757373  205\n",
       "max precision                0.996514     0.965686  2\n",
       "max recall                   0.00351309   1         398\n",
       "max specificity              0.999034     0.999509  0\n",
       "max absolute_mcc             0.473656     0.515435  205\n",
       "max min_per_class_accuracy   0.491323     0.755526  199\n",
       "max mean_per_class_accuracy  0.473656     0.757701  205"
      ]
     },
     "metadata": {},
     "output_type": "display_data"
    },
    {
     "name": "stdout",
     "output_type": "stream",
     "text": [
      "Gains/Lift Table: Avg response rate: 49.01 %\n",
      "\n"
     ]
    },
    {
     "data": {
      "text/html": [
       "<div style=\"overflow:auto\"><table style=\"width:50%\"><tr><td><b></b></td>\n",
       "<td><b>group</b></td>\n",
       "<td><b>cumulative_data_fraction</b></td>\n",
       "<td><b>lower_threshold</b></td>\n",
       "<td><b>lift</b></td>\n",
       "<td><b>cumulative_lift</b></td>\n",
       "<td><b>response_rate</b></td>\n",
       "<td><b>cumulative_response_rate</b></td>\n",
       "<td><b>capture_rate</b></td>\n",
       "<td><b>cumulative_capture_rate</b></td>\n",
       "<td><b>gain</b></td>\n",
       "<td><b>cumulative_gain</b></td></tr>\n",
       "<tr><td></td>\n",
       "<td>1</td>\n",
       "<td>0.0100182</td>\n",
       "<td>0.9967069</td>\n",
       "<td>1.9639820</td>\n",
       "<td>1.9639820</td>\n",
       "<td>0.9625</td>\n",
       "<td>0.9625</td>\n",
       "<td>0.0196755</td>\n",
       "<td>0.0196755</td>\n",
       "<td>96.3982049</td>\n",
       "<td>96.3982049</td></tr>\n",
       "<tr><td></td>\n",
       "<td>2</td>\n",
       "<td>0.0200363</td>\n",
       "<td>0.9909115</td>\n",
       "<td>1.9384758</td>\n",
       "<td>1.9512289</td>\n",
       "<td>0.95</td>\n",
       "<td>0.95625</td>\n",
       "<td>0.0194200</td>\n",
       "<td>0.0390954</td>\n",
       "<td>93.8475789</td>\n",
       "<td>95.1228919</td></tr>\n",
       "<tr><td></td>\n",
       "<td>3</td>\n",
       "<td>0.0300545</td>\n",
       "<td>0.9838260</td>\n",
       "<td>1.9767352</td>\n",
       "<td>1.9597310</td>\n",
       "<td>0.96875</td>\n",
       "<td>0.9604167</td>\n",
       "<td>0.0198032</td>\n",
       "<td>0.0588987</td>\n",
       "<td>97.6735180</td>\n",
       "<td>95.9731006</td></tr>\n",
       "<tr><td></td>\n",
       "<td>4</td>\n",
       "<td>0.0400100</td>\n",
       "<td>0.9753979</td>\n",
       "<td>1.8993341</td>\n",
       "<td>1.9447027</td>\n",
       "<td>0.9308176</td>\n",
       "<td>0.9530516</td>\n",
       "<td>0.0189089</td>\n",
       "<td>0.0778076</td>\n",
       "<td>89.9334106</td>\n",
       "<td>94.4702669</td></tr>\n",
       "<tr><td></td>\n",
       "<td>5</td>\n",
       "<td>0.0500282</td>\n",
       "<td>0.9670048</td>\n",
       "<td>1.9002164</td>\n",
       "<td>1.9357943</td>\n",
       "<td>0.93125</td>\n",
       "<td>0.9486859</td>\n",
       "<td>0.0190367</td>\n",
       "<td>0.0968443</td>\n",
       "<td>90.0216398</td>\n",
       "<td>93.5794280</td></tr>\n",
       "<tr><td></td>\n",
       "<td>6</td>\n",
       "<td>0.1000564</td>\n",
       "<td>0.9233021</td>\n",
       "<td>1.8949332</td>\n",
       "<td>1.9153637</td>\n",
       "<td>0.9286608</td>\n",
       "<td>0.9386733</td>\n",
       "<td>0.0948001</td>\n",
       "<td>0.1916443</td>\n",
       "<td>89.4933187</td>\n",
       "<td>91.5363733</td></tr>\n",
       "<tr><td></td>\n",
       "<td>7</td>\n",
       "<td>0.1500219</td>\n",
       "<td>0.8716229</td>\n",
       "<td>1.8001411</td>\n",
       "<td>1.8769882</td>\n",
       "<td>0.8822055</td>\n",
       "<td>0.9198664</td>\n",
       "<td>0.0899451</td>\n",
       "<td>0.2815894</td>\n",
       "<td>80.0141084</td>\n",
       "<td>87.6988243</td></tr>\n",
       "<tr><td></td>\n",
       "<td>8</td>\n",
       "<td>0.2000501</td>\n",
       "<td>0.8158913</td>\n",
       "<td>1.7110583</td>\n",
       "<td>1.8354928</td>\n",
       "<td>0.8385482</td>\n",
       "<td>0.8995305</td>\n",
       "<td>0.0856011</td>\n",
       "<td>0.3671905</td>\n",
       "<td>71.1058268</td>\n",
       "<td>83.5492766</td></tr>\n",
       "<tr><td></td>\n",
       "<td>9</td>\n",
       "<td>0.3000438</td>\n",
       "<td>0.7011130</td>\n",
       "<td>1.5179180</td>\n",
       "<td>1.7296566</td>\n",
       "<td>0.7438948</td>\n",
       "<td>0.8476628</td>\n",
       "<td>0.1517823</td>\n",
       "<td>0.5189728</td>\n",
       "<td>51.7917963</td>\n",
       "<td>72.9656589</td></tr>\n",
       "<tr><td></td>\n",
       "<td>10</td>\n",
       "<td>0.4000376</td>\n",
       "<td>0.5918612</td>\n",
       "<td>1.3211508</td>\n",
       "<td>1.6275461</td>\n",
       "<td>0.6474640</td>\n",
       "<td>0.7976209</td>\n",
       "<td>0.1321068</td>\n",
       "<td>0.6510796</td>\n",
       "<td>32.1150819</td>\n",
       "<td>62.7546131</td></tr>\n",
       "<tr><td></td>\n",
       "<td>11</td>\n",
       "<td>0.5000313</td>\n",
       "<td>0.4863832</td>\n",
       "<td>1.1090512</td>\n",
       "<td>1.5238601</td>\n",
       "<td>0.5435191</td>\n",
       "<td>0.7468069</td>\n",
       "<td>0.1108982</td>\n",
       "<td>0.7619778</td>\n",
       "<td>10.9051171</td>\n",
       "<td>52.3860124</td></tr>\n",
       "<tr><td></td>\n",
       "<td>12</td>\n",
       "<td>0.6000250</td>\n",
       "<td>0.3773659</td>\n",
       "<td>0.8586203</td>\n",
       "<td>1.4129984</td>\n",
       "<td>0.4207890</td>\n",
       "<td>0.6924763</td>\n",
       "<td>0.0858567</td>\n",
       "<td>0.8478344</td>\n",
       "<td>-14.1379738</td>\n",
       "<td>41.2998384</td></tr>\n",
       "<tr><td></td>\n",
       "<td>13</td>\n",
       "<td>0.7000188</td>\n",
       "<td>0.2680538</td>\n",
       "<td>0.6554646</td>\n",
       "<td>1.3047889</td>\n",
       "<td>0.3212273</td>\n",
       "<td>0.6394454</td>\n",
       "<td>0.0655424</td>\n",
       "<td>0.9133768</td>\n",
       "<td>-34.4535425</td>\n",
       "<td>30.4788948</td></tr>\n",
       "<tr><td></td>\n",
       "<td>14</td>\n",
       "<td>0.8000125</td>\n",
       "<td>0.1644470</td>\n",
       "<td>0.4804185</td>\n",
       "<td>1.2017507</td>\n",
       "<td>0.2354415</td>\n",
       "<td>0.5889489</td>\n",
       "<td>0.0480388</td>\n",
       "<td>0.9614156</td>\n",
       "<td>-51.9581520</td>\n",
       "<td>20.1750704</td></tr>\n",
       "<tr><td></td>\n",
       "<td>15</td>\n",
       "<td>0.9000063</td>\n",
       "<td>0.0680189</td>\n",
       "<td>0.2874845</td>\n",
       "<td>1.1001726</td>\n",
       "<td>0.1408892</td>\n",
       "<td>0.5391679</td>\n",
       "<td>0.0287466</td>\n",
       "<td>0.9901623</td>\n",
       "<td>-71.2515537</td>\n",
       "<td>10.0172634</td></tr>\n",
       "<tr><td></td>\n",
       "<td>16</td>\n",
       "<td>1.0</td>\n",
       "<td>0.0001991</td>\n",
       "<td>0.0983836</td>\n",
       "<td>1.0</td>\n",
       "<td>0.0482154</td>\n",
       "<td>0.4900758</td>\n",
       "<td>0.0098377</td>\n",
       "<td>1.0</td>\n",
       "<td>-90.1616428</td>\n",
       "<td>0.0</td></tr></table></div>"
      ],
      "text/plain": [
       "    group    cumulative_data_fraction    lower_threshold    lift       cumulative_lift    response_rate    cumulative_response_rate    capture_rate    cumulative_capture_rate    gain      cumulative_gain\n",
       "--  -------  --------------------------  -----------------  ---------  -----------------  ---------------  --------------------------  --------------  -------------------------  --------  -----------------\n",
       "    1        0.0100182                   0.996707           1.96398    1.96398            0.9625           0.9625                      0.0196755       0.0196755                  96.3982   96.3982\n",
       "    2        0.0200363                   0.990911           1.93848    1.95123            0.95             0.95625                     0.01942         0.0390954                  93.8476   95.1229\n",
       "    3        0.0300545                   0.983826           1.97674    1.95973            0.96875          0.960417                    0.0198032       0.0588987                  97.6735   95.9731\n",
       "    4        0.04001                     0.975398           1.89933    1.9447             0.930818         0.953052                    0.0189089       0.0778076                  89.9334   94.4703\n",
       "    5        0.0500282                   0.967005           1.90022    1.93579            0.93125          0.948686                    0.0190367       0.0968443                  90.0216   93.5794\n",
       "    6        0.100056                    0.923302           1.89493    1.91536            0.928661         0.938673                    0.0948001       0.191644                   89.4933   91.5364\n",
       "    7        0.150022                    0.871623           1.80014    1.87699            0.882206         0.919866                    0.0899451       0.281589                   80.0141   87.6988\n",
       "    8        0.20005                     0.815891           1.71106    1.83549            0.838548         0.899531                    0.0856011       0.36719                    71.1058   83.5493\n",
       "    9        0.300044                    0.701113           1.51792    1.72966            0.743895         0.847663                    0.151782        0.518973                   51.7918   72.9657\n",
       "    10       0.400038                    0.591861           1.32115    1.62755            0.647464         0.797621                    0.132107        0.65108                    32.1151   62.7546\n",
       "    11       0.500031                    0.486383           1.10905    1.52386            0.543519         0.746807                    0.110898        0.761978                   10.9051   52.386\n",
       "    12       0.600025                    0.377366           0.85862    1.413              0.420789         0.692476                    0.0858567       0.847834                   -14.138   41.2998\n",
       "    13       0.700019                    0.268054           0.655465   1.30479            0.321227         0.639445                    0.0655424       0.913377                   -34.4535  30.4789\n",
       "    14       0.800013                    0.164447           0.480418   1.20175            0.235441         0.588949                    0.0480388       0.961416                   -51.9582  20.1751\n",
       "    15       0.900006                    0.0680189          0.287484   1.10017            0.140889         0.539168                    0.0287466       0.990162                   -71.2516  10.0173\n",
       "    16       1                           0.000199147        0.0983836  1                  0.0482154        0.490076                    0.00983774      1                          -90.1616  0"
      ]
     },
     "metadata": {},
     "output_type": "display_data"
    },
    {
     "name": "stdout",
     "output_type": "stream",
     "text": [
      "\n",
      "Cross-Validation Metrics Summary: \n"
     ]
    },
    {
     "data": {
      "text/html": [
       "<div style=\"overflow:auto\"><table style=\"width:50%\"><tr><td><b></b></td>\n",
       "<td><b>mean</b></td>\n",
       "<td><b>sd</b></td>\n",
       "<td><b>cv_1_valid</b></td>\n",
       "<td><b>cv_2_valid</b></td>\n",
       "<td><b>cv_3_valid</b></td>\n",
       "<td><b>cv_4_valid</b></td>\n",
       "<td><b>cv_5_valid</b></td></tr>\n",
       "<tr><td>accuracy</td>\n",
       "<td>0.750047</td>\n",
       "<td>0.0053970</td>\n",
       "<td>0.7489828</td>\n",
       "<td>0.7564183</td>\n",
       "<td>0.7404509</td>\n",
       "<td>0.7608015</td>\n",
       "<td>0.7435817</td></tr>\n",
       "<tr><td>auc</td>\n",
       "<td>0.8367764</td>\n",
       "<td>0.0036440</td>\n",
       "<td>0.8403649</td>\n",
       "<td>0.8350789</td>\n",
       "<td>0.8347657</td>\n",
       "<td>0.8443523</td>\n",
       "<td>0.8293202</td></tr>\n",
       "<tr><td>err</td>\n",
       "<td>0.2499530</td>\n",
       "<td>0.0053970</td>\n",
       "<td>0.2510172</td>\n",
       "<td>0.2435817</td>\n",
       "<td>0.2595491</td>\n",
       "<td>0.2391985</td>\n",
       "<td>0.2564183</td></tr>\n",
       "<tr><td>err_count</td>\n",
       "<td>798.4</td>\n",
       "<td>17.24297</td>\n",
       "<td>802.0</td>\n",
       "<td>778.0</td>\n",
       "<td>829.0</td>\n",
       "<td>764.0</td>\n",
       "<td>819.0</td></tr>\n",
       "<tr><td>f0point5</td>\n",
       "<td>0.7295371</td>\n",
       "<td>0.0076171</td>\n",
       "<td>0.7305582</td>\n",
       "<td>0.7441132</td>\n",
       "<td>0.7171672</td>\n",
       "<td>0.7381331</td>\n",
       "<td>0.717714</td></tr>\n",
       "<tr><td>f1</td>\n",
       "<td>0.766559</td>\n",
       "<td>0.0061497</td>\n",
       "<td>0.7786975</td>\n",
       "<td>0.7673445</td>\n",
       "<td>0.7553850</td>\n",
       "<td>0.7728894</td>\n",
       "<td>0.7584783</td></tr>\n",
       "<tr><td>f2</td>\n",
       "<td>0.807768</td>\n",
       "<td>0.0101805</td>\n",
       "<td>0.8336287</td>\n",
       "<td>0.7920731</td>\n",
       "<td>0.7979055</td>\n",
       "<td>0.8110806</td>\n",
       "<td>0.8041521</td></tr>\n",
       "<tr><td>lift_top_group</td>\n",
       "<td>1.9383657</td>\n",
       "<td>0.0538910</td>\n",
       "<td>1.9188818</td>\n",
       "<td>2.015142</td>\n",
       "<td>2.0040073</td>\n",
       "<td>1.8030645</td>\n",
       "<td>1.950733</td></tr>\n",
       "<tr><td>logloss</td>\n",
       "<td>0.5042213</td>\n",
       "<td>0.0047492</td>\n",
       "<td>0.5064428</td>\n",
       "<td>0.5020511</td>\n",
       "<td>0.4991452</td>\n",
       "<td>0.4973126</td>\n",
       "<td>0.5161547</td></tr>\n",
       "<tr><td>max_per_class_error</td>\n",
       "<td>0.3347519</td>\n",
       "<td>0.0203008</td>\n",
       "<td>0.3792667</td>\n",
       "<td>0.2958359</td>\n",
       "<td>0.3424242</td>\n",
       "<td>0.3126521</td>\n",
       "<td>0.3435805</td></tr>\n",
       "<tr><td>mcc</td>\n",
       "<td>0.5105482</td>\n",
       "<td>0.0093905</td>\n",
       "<td>0.5129592</td>\n",
       "<td>0.5162764</td>\n",
       "<td>0.4922954</td>\n",
       "<td>0.5307523</td>\n",
       "<td>0.5004574</td></tr>\n",
       "<tr><td>mean_per_class_accuracy</td>\n",
       "<td>0.7515982</td>\n",
       "<td>0.0051168</td>\n",
       "<td>0.7477504</td>\n",
       "<td>0.7568139</td>\n",
       "<td>0.7432957</td>\n",
       "<td>0.7630288</td>\n",
       "<td>0.7471023</td></tr>\n",
       "<tr><td>mean_per_class_error</td>\n",
       "<td>0.2484018</td>\n",
       "<td>0.0051168</td>\n",
       "<td>0.2522496</td>\n",
       "<td>0.2431861</td>\n",
       "<td>0.2567044</td>\n",
       "<td>0.2369712</td>\n",
       "<td>0.2528977</td></tr>\n",
       "<tr><td>mse</td>\n",
       "<td>0.1650516</td>\n",
       "<td>0.0018525</td>\n",
       "<td>0.1636397</td>\n",
       "<td>0.1659752</td>\n",
       "<td>0.1657978</td>\n",
       "<td>0.1609933</td>\n",
       "<td>0.1688522</td></tr>\n",
       "<tr><td>precision</td>\n",
       "<td>0.7068672</td>\n",
       "<td>0.0099869</td>\n",
       "<td>0.7016410</td>\n",
       "<td>0.7293917</td>\n",
       "<td>0.6937669</td>\n",
       "<td>0.7166483</td>\n",
       "<td>0.6928879</td></tr>\n",
       "<tr><td>r2</td>\n",
       "<td>0.3393118</td>\n",
       "<td>0.0075274</td>\n",
       "<td>0.3453795</td>\n",
       "<td>0.3360617</td>\n",
       "<td>0.3360776</td>\n",
       "<td>0.3554684</td>\n",
       "<td>0.3235718</td></tr>\n",
       "<tr><td>recall</td>\n",
       "<td>0.8379483</td>\n",
       "<td>0.0149914</td>\n",
       "<td>0.8747675</td>\n",
       "<td>0.8094637</td>\n",
       "<td>0.8290156</td>\n",
       "<td>0.8387096</td>\n",
       "<td>0.837785</td></tr>\n",
       "<tr><td>rmse</td>\n",
       "<td>0.4062527</td>\n",
       "<td>0.0022814</td>\n",
       "<td>0.4045241</td>\n",
       "<td>0.4074005</td>\n",
       "<td>0.4071827</td>\n",
       "<td>0.4012398</td>\n",
       "<td>0.4109162</td></tr>\n",
       "<tr><td>specificity</td>\n",
       "<td>0.6652481</td>\n",
       "<td>0.0203008</td>\n",
       "<td>0.6207333</td>\n",
       "<td>0.7041641</td>\n",
       "<td>0.6575758</td>\n",
       "<td>0.6873480</td>\n",
       "<td>0.6564195</td></tr></table></div>"
      ],
      "text/plain": [
       "                         mean      sd          cv_1_valid    cv_2_valid    cv_3_valid    cv_4_valid    cv_5_valid\n",
       "-----------------------  --------  ----------  ------------  ------------  ------------  ------------  ------------\n",
       "accuracy                 0.750047  0.00539696  0.748983      0.756418      0.740451      0.760802      0.743582\n",
       "auc                      0.836776  0.00364403  0.840365      0.835079      0.834766      0.844352      0.82932\n",
       "err                      0.249953  0.00539696  0.251017      0.243582      0.259549      0.239198      0.256418\n",
       "err_count                798.4     17.243      802           778           829           764           819\n",
       "f0point5                 0.729537  0.00761706  0.730558      0.744113      0.717167      0.738133      0.717714\n",
       "f1                       0.766559  0.00614972  0.778698      0.767344      0.755385      0.772889      0.758478\n",
       "f2                       0.807768  0.0101805   0.833629      0.792073      0.797906      0.811081      0.804152\n",
       "lift_top_group           1.93837   0.053891    1.91888       2.01514       2.00401       1.80306       1.95073\n",
       "logloss                  0.504221  0.00474918  0.506443      0.502051      0.499145      0.497313      0.516155\n",
       "max_per_class_error      0.334752  0.0203008   0.379267      0.295836      0.342424      0.312652      0.34358\n",
       "mcc                      0.510548  0.00939053  0.512959      0.516276      0.492295      0.530752      0.500457\n",
       "mean_per_class_accuracy  0.751598  0.00511677  0.74775       0.756814      0.743296      0.763029      0.747102\n",
       "mean_per_class_error     0.248402  0.00511677  0.25225       0.243186      0.256704      0.236971      0.252898\n",
       "mse                      0.165052  0.00185248  0.16364       0.165975      0.165798      0.160993      0.168852\n",
       "precision                0.706867  0.00998686  0.701641      0.729392      0.693767      0.716648      0.692888\n",
       "r2                       0.339312  0.00752743  0.345379      0.336062      0.336078      0.355468      0.323572\n",
       "recall                   0.837948  0.0149914   0.874768      0.809464      0.829016      0.83871       0.837785\n",
       "rmse                     0.406253  0.00228143  0.404524      0.407401      0.407183      0.40124       0.410916\n",
       "specificity              0.665248  0.0203008   0.620733      0.704164      0.657576      0.687348      0.65642"
      ]
     },
     "metadata": {},
     "output_type": "display_data"
    },
    {
     "name": "stdout",
     "output_type": "stream",
     "text": [
      "Scoring History: \n"
     ]
    },
    {
     "data": {
      "text/html": [
       "<div style=\"overflow:auto\"><table style=\"width:50%\"><tr><td><b></b></td>\n",
       "<td><b>timestamp</b></td>\n",
       "<td><b>duration</b></td>\n",
       "<td><b>training_speed</b></td>\n",
       "<td><b>epochs</b></td>\n",
       "<td><b>iterations</b></td>\n",
       "<td><b>samples</b></td>\n",
       "<td><b>training_rmse</b></td>\n",
       "<td><b>training_logloss</b></td>\n",
       "<td><b>training_auc</b></td>\n",
       "<td><b>training_lift</b></td>\n",
       "<td><b>training_classification_error</b></td>\n",
       "<td><b>validation_rmse</b></td>\n",
       "<td><b>validation_logloss</b></td>\n",
       "<td><b>validation_auc</b></td>\n",
       "<td><b>validation_lift</b></td>\n",
       "<td><b>validation_classification_error</b></td></tr>\n",
       "<tr><td></td>\n",
       "<td>2018-05-31 05:48:33</td>\n",
       "<td> 0.000 sec</td>\n",
       "<td>None</td>\n",
       "<td>0.0</td>\n",
       "<td>0</td>\n",
       "<td>0.0</td>\n",
       "<td>nan</td>\n",
       "<td>nan</td>\n",
       "<td>nan</td>\n",
       "<td>nan</td>\n",
       "<td>nan</td>\n",
       "<td>nan</td>\n",
       "<td>nan</td>\n",
       "<td>nan</td>\n",
       "<td>nan</td>\n",
       "<td>nan</td></tr>\n",
       "<tr><td></td>\n",
       "<td>2018-05-31 05:48:34</td>\n",
       "<td> 1:31:01.810</td>\n",
       "<td>57856 obs/sec</td>\n",
       "<td>4.9810281</td>\n",
       "<td>1</td>\n",
       "<td>79552.0</td>\n",
       "<td>0.4129100</td>\n",
       "<td>0.5177287</td>\n",
       "<td>0.8276685</td>\n",
       "<td>1.9909168</td>\n",
       "<td>0.2517448</td>\n",
       "<td>0.4159994</td>\n",
       "<td>0.5336899</td>\n",
       "<td>0.8226652</td>\n",
       "<td>1.9534610</td>\n",
       "<td>0.2624652</td></tr>\n",
       "<tr><td></td>\n",
       "<td>2018-05-31 05:48:40</td>\n",
       "<td> 1:31:07.778</td>\n",
       "<td>65922 obs/sec</td>\n",
       "<td>29.8839146</td>\n",
       "<td>6</td>\n",
       "<td>477276.0</td>\n",
       "<td>0.3965237</td>\n",
       "<td>0.4779505</td>\n",
       "<td>0.8515330</td>\n",
       "<td>1.9510985</td>\n",
       "<td>0.2380857</td>\n",
       "<td>0.4019624</td>\n",
       "<td>0.4969399</td>\n",
       "<td>0.8432057</td>\n",
       "<td>1.9033722</td>\n",
       "<td>0.2548722</td></tr>\n",
       "<tr><td></td>\n",
       "<td>2018-05-31 05:48:45</td>\n",
       "<td> 1:31:13.171</td>\n",
       "<td>69812 obs/sec</td>\n",
       "<td>54.7846722</td>\n",
       "<td>11</td>\n",
       "<td>874966.0</td>\n",
       "<td>0.3932246</td>\n",
       "<td>0.4713822</td>\n",
       "<td>0.8563671</td>\n",
       "<td>1.9510985</td>\n",
       "<td>0.2323031</td>\n",
       "<td>0.4014096</td>\n",
       "<td>0.4962327</td>\n",
       "<td>0.8441227</td>\n",
       "<td>1.9033722</td>\n",
       "<td>0.2604404</td></tr>\n",
       "<tr><td></td>\n",
       "<td>2018-05-31 05:48:51</td>\n",
       "<td> 1:31:18.363</td>\n",
       "<td>72252 obs/sec</td>\n",
       "<td>79.6855551</td>\n",
       "<td>16</td>\n",
       "<td>1272658.0</td>\n",
       "<td>0.3910607</td>\n",
       "<td>0.4668044</td>\n",
       "<td>0.8595070</td>\n",
       "<td>1.9510985</td>\n",
       "<td>0.2281157</td>\n",
       "<td>0.4008057</td>\n",
       "<td>0.4942688</td>\n",
       "<td>0.8449994</td>\n",
       "<td>1.9033722</td>\n",
       "<td>0.2525943</td></tr>\n",
       "<tr><td></td>\n",
       "<td>2018-05-31 05:48:56</td>\n",
       "<td> 1:31:23.393</td>\n",
       "<td>74125 obs/sec</td>\n",
       "<td>104.5866884</td>\n",
       "<td>21</td>\n",
       "<td>1670354.0</td>\n",
       "<td>0.3898191</td>\n",
       "<td>0.4645653</td>\n",
       "<td>0.8614433</td>\n",
       "<td>1.9510985</td>\n",
       "<td>0.2248255</td>\n",
       "<td>0.4012675</td>\n",
       "<td>0.4948088</td>\n",
       "<td>0.8443058</td>\n",
       "<td>1.9534610</td>\n",
       "<td>0.2568970</td></tr>\n",
       "<tr><td></td>\n",
       "<td>2018-05-31 05:49:01</td>\n",
       "<td> 1:31:29.246</td>\n",
       "<td>75947 obs/sec</td>\n",
       "<td>134.4717300</td>\n",
       "<td>27</td>\n",
       "<td>2147648.0</td>\n",
       "<td>0.3880575</td>\n",
       "<td>0.4607201</td>\n",
       "<td>0.8638289</td>\n",
       "<td>1.9510985</td>\n",
       "<td>0.2205384</td>\n",
       "<td>0.4007597</td>\n",
       "<td>0.4927313</td>\n",
       "<td>0.8451101</td>\n",
       "<td>1.9033722</td>\n",
       "<td>0.2553784</td></tr>\n",
       "<tr><td></td>\n",
       "<td>2018-05-31 05:49:07</td>\n",
       "<td> 1:31:34.945</td>\n",
       "<td>77483 obs/sec</td>\n",
       "<td>164.3495085</td>\n",
       "<td>33</td>\n",
       "<td>2624826.0</td>\n",
       "<td>0.3863509</td>\n",
       "<td>0.4569962</td>\n",
       "<td>0.8661024</td>\n",
       "<td>1.9710076</td>\n",
       "<td>0.2199402</td>\n",
       "<td>0.4009105</td>\n",
       "<td>0.4916847</td>\n",
       "<td>0.8448642</td>\n",
       "<td>1.9534610</td>\n",
       "<td>0.2531005</td></tr>\n",
       "<tr><td></td>\n",
       "<td>2018-05-31 05:49:13</td>\n",
       "<td> 1:31:40.525</td>\n",
       "<td>78823 obs/sec</td>\n",
       "<td>194.2289149</td>\n",
       "<td>39</td>\n",
       "<td>3102030.0</td>\n",
       "<td>0.3850845</td>\n",
       "<td>0.4542639</td>\n",
       "<td>0.8676663</td>\n",
       "<td>1.9710076</td>\n",
       "<td>0.2192423</td>\n",
       "<td>0.4010173</td>\n",
       "<td>0.4912514</td>\n",
       "<td>0.8448316</td>\n",
       "<td>1.9534610</td>\n",
       "<td>0.2576563</td></tr>\n",
       "<tr><td></td>\n",
       "<td>2018-05-31 05:49:15</td>\n",
       "<td> 1:31:42.449</td>\n",
       "<td>79197 obs/sec</td>\n",
       "<td>204.1890301</td>\n",
       "<td>41</td>\n",
       "<td>3261103.0</td>\n",
       "<td>0.3847149</td>\n",
       "<td>0.4536492</td>\n",
       "<td>0.8682829</td>\n",
       "<td>1.9710076</td>\n",
       "<td>0.2185444</td>\n",
       "<td>0.4009301</td>\n",
       "<td>0.4900698</td>\n",
       "<td>0.8449362</td>\n",
       "<td>1.9534610</td>\n",
       "<td>0.2576563</td></tr></table></div>"
      ],
      "text/plain": [
       "    timestamp            duration     training_speed    epochs    iterations    samples      training_rmse    training_logloss    training_auc    training_lift    training_classification_error    validation_rmse    validation_logloss    validation_auc    validation_lift    validation_classification_error\n",
       "--  -------------------  -----------  ----------------  --------  ------------  -----------  ---------------  ------------------  --------------  ---------------  -------------------------------  -----------------  --------------------  ----------------  -----------------  ---------------------------------\n",
       "    2018-05-31 05:48:33  0.000 sec                      0         0             0            nan              nan                 nan             nan              nan                              nan                nan                   nan               nan                nan\n",
       "    2018-05-31 05:48:34  1:31:01.810  57856 obs/sec     4.98103   1             79552        0.41291          0.517729            0.827668        1.99092          0.251745                         0.415999           0.53369               0.822665          1.95346            0.262465\n",
       "    2018-05-31 05:48:40  1:31:07.778  65922 obs/sec     29.8839   6             477276       0.396524         0.47795             0.851533        1.9511           0.238086                         0.401962           0.49694               0.843206          1.90337            0.254872\n",
       "    2018-05-31 05:48:45  1:31:13.171  69812 obs/sec     54.7847   11            874966       0.393225         0.471382            0.856367        1.9511           0.232303                         0.40141            0.496233              0.844123          1.90337            0.26044\n",
       "    2018-05-31 05:48:51  1:31:18.363  72252 obs/sec     79.6856   16            1.27266e+06  0.391061         0.466804            0.859507        1.9511           0.228116                         0.400806           0.494269              0.844999          1.90337            0.252594\n",
       "    2018-05-31 05:48:56  1:31:23.393  74125 obs/sec     104.587   21            1.67035e+06  0.389819         0.464565            0.861443        1.9511           0.224826                         0.401268           0.494809              0.844306          1.95346            0.256897\n",
       "    2018-05-31 05:49:01  1:31:29.246  75947 obs/sec     134.472   27            2.14765e+06  0.388058         0.46072             0.863829        1.9511           0.220538                         0.40076            0.492731              0.84511           1.90337            0.255378\n",
       "    2018-05-31 05:49:07  1:31:34.945  77483 obs/sec     164.35    33            2.62483e+06  0.386351         0.456996            0.866102        1.97101          0.21994                          0.400911           0.491685              0.844864          1.95346            0.2531\n",
       "    2018-05-31 05:49:13  1:31:40.525  78823 obs/sec     194.229   39            3.10203e+06  0.385084         0.454264            0.867666        1.97101          0.219242                         0.401017           0.491251              0.844832          1.95346            0.257656\n",
       "    2018-05-31 05:49:15  1:31:42.449  79197 obs/sec     204.189   41            3.2611e+06   0.384715         0.453649            0.868283        1.97101          0.218544                         0.40093            0.49007               0.844936          1.95346            0.257656"
      ]
     },
     "metadata": {},
     "output_type": "display_data"
    },
    {
     "name": "stdout",
     "output_type": "stream",
     "text": [
      "Variable Importances: \n"
     ]
    },
    {
     "data": {
      "text/html": [
       "<div style=\"overflow:auto\"><table style=\"width:50%\"><tr><td><b>variable</b></td>\n",
       "<td><b>relative_importance</b></td>\n",
       "<td><b>scaled_importance</b></td>\n",
       "<td><b>percentage</b></td></tr>\n",
       "<tr><td>pre_icu_hrs</td>\n",
       "<td>1.0</td>\n",
       "<td>1.0</td>\n",
       "<td>0.0753679</td></tr>\n",
       "<tr><td>creathi</td>\n",
       "<td>0.5207726</td>\n",
       "<td>0.5207726</td>\n",
       "<td>0.0392495</td></tr>\n",
       "<tr><td>gcsmotor</td>\n",
       "<td>0.4261130</td>\n",
       "<td>0.4261130</td>\n",
       "<td>0.0321152</td></tr>\n",
       "<tr><td>rrhi</td>\n",
       "<td>0.3963816</td>\n",
       "<td>0.3963816</td>\n",
       "<td>0.0298744</td></tr>\n",
       "<tr><td>urineop</td>\n",
       "<td>0.3544414</td>\n",
       "<td>0.3544414</td>\n",
       "<td>0.0267135</td></tr>\n",
       "<tr><td>---</td>\n",
       "<td>---</td>\n",
       "<td>---</td>\n",
       "<td>---</td></tr>\n",
       "<tr><td>cirrhos</td>\n",
       "<td>0.1239960</td>\n",
       "<td>0.1239960</td>\n",
       "<td>0.0093453</td></tr>\n",
       "<tr><td>immunrx</td>\n",
       "<td>0.1211822</td>\n",
       "<td>0.1211822</td>\n",
       "<td>0.0091332</td></tr>\n",
       "<tr><td>immundis</td>\n",
       "<td>0.1173369</td>\n",
       "<td>0.1173369</td>\n",
       "<td>0.0088434</td></tr>\n",
       "<tr><td>iddm</td>\n",
       "<td>0.1122052</td>\n",
       "<td>0.1122052</td>\n",
       "<td>0.0084567</td></tr>\n",
       "<tr><td>lymphoma</td>\n",
       "<td>0.1072184</td>\n",
       "<td>0.1072184</td>\n",
       "<td>0.0080808</td></tr></table></div>"
      ],
      "text/plain": [
       "variable     relative_importance    scaled_importance    percentage\n",
       "-----------  ---------------------  -------------------  --------------------\n",
       "pre_icu_hrs  1.0                    1.0                  0.07536789672804346\n",
       "creathi      0.5207725763320923     0.5207725763320923   0.03924953375179426\n",
       "gcsmotor     0.4261130392551422     0.4261130392551422   0.03211524353705429\n",
       "rrhi         0.39638155698776245    0.39638155698776245  0.029874444251954756\n",
       "urineop      0.35444143414497375    0.35444143414497375  0.026713505404778\n",
       "---          ---                    ---                  ---\n",
       "cirrhos      0.12399601936340332    0.12399601936340332  0.00934531918206946\n",
       "immunrx      0.1211821511387825     0.1211821511387825   0.009133243852309915\n",
       "immundis     0.11733688414096832    0.11733688414096832  0.008843434166326901\n",
       "iddm         0.11220520734786987    0.11220520734786987  0.00845667047974296\n",
       "lymphoma     0.10721836984157562    0.10721836984157562  0.00808082302556904"
      ]
     },
     "metadata": {},
     "output_type": "display_data"
    },
    {
     "name": "stdout",
     "output_type": "stream",
     "text": [
      "\n",
      "See the whole table with table.as_data_frame()\n"
     ]
    },
    {
     "data": {
      "text/plain": []
     },
     "execution_count": 71,
     "metadata": {},
     "output_type": "execute_result"
    }
   ],
   "source": [
    "deep_learner_model = h2o.load_model(path='../models/h2o_deep_learner_may31/DeepLearning_grid_0_AutoML_20180531_041722_model_20')\n",
    "deep_learner_model"
   ]
  },
  {
   "cell_type": "code",
   "execution_count": 72,
   "metadata": {},
   "outputs": [
    {
     "name": "stdout",
     "output_type": "stream",
     "text": [
      "Status of Neuron Layers: predicting died_hosp, 2-class classification, bernoulli distribution, CrossEntropy loss, 2,852 weights/biases, 45.2 KB, 3,261,103 training samples, mini-batch size 1\n",
      "\n"
     ]
    },
    {
     "data": {
      "text/html": [
       "<div style=\"overflow:auto\"><table style=\"width:50%\"><tr><td><b></b></td>\n",
       "<td><b>layer</b></td>\n",
       "<td><b>units</b></td>\n",
       "<td><b>type</b></td>\n",
       "<td><b>dropout</b></td>\n",
       "<td><b>l1</b></td>\n",
       "<td><b>l2</b></td>\n",
       "<td><b>mean_rate</b></td>\n",
       "<td><b>rate_rms</b></td>\n",
       "<td><b>momentum</b></td>\n",
       "<td><b>mean_weight</b></td>\n",
       "<td><b>weight_rms</b></td>\n",
       "<td><b>mean_bias</b></td>\n",
       "<td><b>bias_rms</b></td></tr>\n",
       "<tr><td></td>\n",
       "<td>1</td>\n",
       "<td>54</td>\n",
       "<td>Input</td>\n",
       "<td>5.0</td>\n",
       "<td></td>\n",
       "<td></td>\n",
       "<td></td>\n",
       "<td></td>\n",
       "<td></td>\n",
       "<td></td>\n",
       "<td></td>\n",
       "<td></td>\n",
       "<td></td></tr>\n",
       "<tr><td></td>\n",
       "<td>2</td>\n",
       "<td>50</td>\n",
       "<td>RectifierDropout</td>\n",
       "<td>30.0</td>\n",
       "<td>0.0</td>\n",
       "<td>0.0</td>\n",
       "<td>0.0025496</td>\n",
       "<td>0.0047209</td>\n",
       "<td>0.0</td>\n",
       "<td>0.0059734</td>\n",
       "<td>0.2746736</td>\n",
       "<td>-0.4880718</td>\n",
       "<td>0.3510858</td></tr>\n",
       "<tr><td></td>\n",
       "<td>3</td>\n",
       "<td>2</td>\n",
       "<td>Softmax</td>\n",
       "<td></td>\n",
       "<td>0.0</td>\n",
       "<td>0.0</td>\n",
       "<td>0.0002649</td>\n",
       "<td>0.0001681</td>\n",
       "<td>0.0</td>\n",
       "<td>-0.0899859</td>\n",
       "<td>0.4985533</td>\n",
       "<td>-0.0039189</td>\n",
       "<td>0.0563488</td></tr></table></div>"
      ],
      "text/plain": [
       "    layer    units    type              dropout    l1    l2    mean_rate              rate_rms               momentum    mean_weight           weight_rms           mean_bias              bias_rms\n",
       "--  -------  -------  ----------------  ---------  ----  ----  ---------------------  ---------------------  ----------  --------------------  -------------------  ---------------------  --------------------\n",
       "    1        54       Input             5.0\n",
       "    2        50       RectifierDropout  30.0       0.0   0.0   0.0025496326335686954  0.0047209300100803375  0.0         0.00597336445720834   0.27467358112335205  -0.48807179305830056   0.3510857820510864\n",
       "    3        2        Softmax                      0.0   0.0   0.0002649059220857453  0.0001680904533714056  0.0         -0.08998592181131243  0.4985532760620117   -0.003918879385216487  0.056348830461502075"
      ]
     },
     "metadata": {},
     "output_type": "display_data"
    },
    {
     "data": {
      "text/plain": []
     },
     "execution_count": 72,
     "metadata": {},
     "output_type": "execute_result"
    }
   ],
   "source": [
    "deep_learner_model.summary()"
   ]
  },
  {
   "cell_type": "code",
   "execution_count": 73,
   "metadata": {},
   "outputs": [],
   "source": [
    "class DeepLearner_clf(BaseEstimator, ClassifierMixin):\n",
    "    def fit(self, X, y=None):\n",
    "        return deep_learner_model\n",
    "    def predict_proba(self, X):\n",
    "        pdX = pd.DataFrame(X, columns=categorical_vars + numerical_vars)\n",
    "        hX = h2o.H2OFrame(pdX)\n",
    "        result = deep_learner_model.predict(hX)    \n",
    "        return result.as_data_frame().as_matrix(['p0', 'p1'])"
   ]
  },
  {
   "cell_type": "code",
   "execution_count": 74,
   "metadata": {},
   "outputs": [],
   "source": [
    "## for ensemble_clf\n",
    "deeplearning_pipeline = Pipeline([\n",
    "    ('preprocessing', FeatureUnion(transformer_list=[\n",
    "                            ('cat_pipeline', cat_vars_pipeline),\n",
    "                            ('num_pipeline', num_vars_pipeline),\n",
    "                        ])),\n",
    "    ('deeplearning_clf', DeepLearner_clf())\n",
    "])"
   ]
  },
  {
   "cell_type": "code",
   "execution_count": 75,
   "metadata": {
    "scrolled": true
   },
   "outputs": [
    {
     "data": {
      "text/plain": [
       "Pipeline(memory=None,\n",
       "     steps=[('preprocessing', FeatureUnion(n_jobs=1,\n",
       "       transformer_list=[('cat_pipeline', Pipeline(memory=None,\n",
       "     steps=[('selector', Vars_selector(var_idxs=[0, 2, 3, 4, 5, 6, 7, 8, 9, 10, 11, 12, 13, 14, 15, 16, 17, 18, 51, 52, 53])), ('encoder', Cat_vars_encoder())])), ('num_pipeline', Pipeline...ue, with_std=True))]))],\n",
       "       transformer_weights=None)), ('deeplearning_clf', DeepLearner_clf())])"
      ]
     },
     "execution_count": 75,
     "metadata": {},
     "output_type": "execute_result"
    }
   ],
   "source": [
    "deeplearning_pipeline.fit(train)"
   ]
  },
  {
   "cell_type": "markdown",
   "metadata": {},
   "source": [
    "Let's grab four sets of patients and results (True Positive, False Positive, True Negative, False Negative)"
   ]
  },
  {
   "cell_type": "code",
   "execution_count": 76,
   "metadata": {
    "scrolled": true
   },
   "outputs": [
    {
     "name": "stdout",
     "output_type": "stream",
     "text": [
      "Parse progress: |█████████████████████████████████████████████████████████| 100%\n",
      "deeplearning prediction progress: |███████████████████████████████████████| 100%\n",
      "Parse progress: |█████████████████████████████████████████████████████████| 100%\n",
      "deeplearning prediction progress: |███████████████████████████████████████| 100%\n"
     ]
    },
    {
     "data": {
      "text/plain": [
       "array([[0.63014533, 0.36985467],\n",
       "       [0.86886768, 0.13113232],\n",
       "       [0.51395096, 0.48604904],\n",
       "       [0.89553304, 0.10446696],\n",
       "       [0.98218127, 0.01781873],\n",
       "       [0.91445695, 0.08554305],\n",
       "       [0.61197099, 0.38802901],\n",
       "       [0.92566822, 0.07433178],\n",
       "       [0.82138594, 0.17861406],\n",
       "       [0.97032382, 0.02967618]])"
      ]
     },
     "execution_count": 76,
     "metadata": {},
     "output_type": "execute_result"
    }
   ],
   "source": [
    "sample_correct_survived = get_test_sample(deeplearning_pipeline, correct=True, survived=True, seed=48, count=10)\n",
    "result_correct_survived = deeplearning_pipeline.predict_proba(sample_correct_survived)\n",
    "result_correct_survived"
   ]
  },
  {
   "cell_type": "code",
   "execution_count": 77,
   "metadata": {},
   "outputs": [
    {
     "name": "stdout",
     "output_type": "stream",
     "text": [
      "Parse progress: |█████████████████████████████████████████████████████████| 100%\n",
      "deeplearning prediction progress: |███████████████████████████████████████| 100%\n",
      "Parse progress: |█████████████████████████████████████████████████████████| 100%\n",
      "deeplearning prediction progress: |███████████████████████████████████████| 100%\n"
     ]
    },
    {
     "data": {
      "text/plain": [
       "array([[1.98004238e-01, 8.01995762e-01],\n",
       "       [1.01568096e-02, 9.89843190e-01],\n",
       "       [7.01911599e-02, 9.29808840e-01],\n",
       "       [9.87523781e-03, 9.90124762e-01],\n",
       "       [2.53782605e-01, 7.46217395e-01],\n",
       "       [4.19078495e-02, 9.58092150e-01],\n",
       "       [6.16133154e-04, 9.99383867e-01],\n",
       "       [1.58705771e-01, 8.41294229e-01],\n",
       "       [6.16183687e-02, 9.38381631e-01],\n",
       "       [3.08473645e-01, 6.91526355e-01],\n",
       "       [2.88981735e-02, 9.71101827e-01],\n",
       "       [2.84135230e-01, 7.15864770e-01],\n",
       "       [3.94851500e-01, 6.05148500e-01],\n",
       "       [2.91733130e-01, 7.08266870e-01],\n",
       "       [2.81256591e-02, 9.71874341e-01],\n",
       "       [8.58935454e-02, 9.14106455e-01],\n",
       "       [3.91790410e-01, 6.08209590e-01],\n",
       "       [4.60334693e-01, 5.39665307e-01],\n",
       "       [1.62428925e-01, 8.37571075e-01],\n",
       "       [1.53055763e-01, 8.46944237e-01]])"
      ]
     },
     "execution_count": 77,
     "metadata": {},
     "output_type": "execute_result"
    }
   ],
   "source": [
    "sample_correct_died = get_test_sample(deeplearning_pipeline, correct=True, survived=False, seed=48, count=20)\n",
    "result_correct_died = deeplearning_pipeline.predict_proba(sample_correct_died)\n",
    "result_correct_died"
   ]
  },
  {
   "cell_type": "code",
   "execution_count": 78,
   "metadata": {},
   "outputs": [
    {
     "name": "stdout",
     "output_type": "stream",
     "text": [
      "Parse progress: |█████████████████████████████████████████████████████████| 100%\n",
      "deeplearning prediction progress: |███████████████████████████████████████| 100%\n",
      "Parse progress: |█████████████████████████████████████████████████████████| 100%\n",
      "deeplearning prediction progress: |███████████████████████████████████████| 100%\n"
     ]
    },
    {
     "data": {
      "text/plain": [
       "array([[0.42420715, 0.57579285],\n",
       "       [0.0634237 , 0.9365763 ],\n",
       "       [0.35293518, 0.64706482],\n",
       "       [0.48023221, 0.51976779],\n",
       "       [0.46195379, 0.53804621],\n",
       "       [0.39588404, 0.60411596],\n",
       "       [0.14248451, 0.85751549],\n",
       "       [0.44678014, 0.55321986],\n",
       "       [0.46967586, 0.53032414],\n",
       "       [0.27684296, 0.72315704]])"
      ]
     },
     "execution_count": 78,
     "metadata": {},
     "output_type": "execute_result"
    }
   ],
   "source": [
    "sample_incorrect_survived = get_test_sample(deeplearning_pipeline, correct=False, survived=True, seed=48, count=10)\n",
    "result_incorrect_survived = deeplearning_pipeline.predict_proba(sample_incorrect_survived)\n",
    "result_incorrect_survived"
   ]
  },
  {
   "cell_type": "code",
   "execution_count": 96,
   "metadata": {},
   "outputs": [
    {
     "name": "stdout",
     "output_type": "stream",
     "text": [
      "Parse progress: |█████████████████████████████████████████████████████████| 100%\n",
      "deeplearning prediction progress: |███████████████████████████████████████| 100%\n",
      "Parse progress: |█████████████████████████████████████████████████████████| 100%\n",
      "deeplearning prediction progress: |███████████████████████████████████████| 100%\n"
     ]
    },
    {
     "data": {
      "text/plain": [
       "array([[0.94034141, 0.05965859],\n",
       "       [0.80112147, 0.19887853],\n",
       "       [0.8464552 , 0.1535448 ],\n",
       "       [0.54589856, 0.45410144],\n",
       "       [0.53209638, 0.46790362],\n",
       "       [0.79637541, 0.20362459],\n",
       "       [0.58687308, 0.41312692],\n",
       "       [0.59967133, 0.40032867],\n",
       "       [0.79427688, 0.20572312],\n",
       "       [0.71010547, 0.28989453]])"
      ]
     },
     "execution_count": 96,
     "metadata": {},
     "output_type": "execute_result"
    }
   ],
   "source": [
    "sample_incorrect_died = get_test_sample(deeplearning_pipeline, correct=False, survived=False, seed=48, count=10)\n",
    "result_incorrect_died = deeplearning_pipeline.predict_proba(sample_incorrect_died)\n",
    "result_incorrect_died"
   ]
  },
  {
   "cell_type": "markdown",
   "metadata": {},
   "source": [
    "## Results Correct, Died, 4%"
   ]
  },
  {
   "cell_type": "code",
   "execution_count": 97,
   "metadata": {},
   "outputs": [
    {
     "data": {
      "text/plain": [
       "0.04"
      ]
     },
     "execution_count": 97,
     "metadata": {},
     "output_type": "execute_result"
    }
   ],
   "source": [
    "index = 5\n",
    "sample = pd.DataFrame(sample_correct_died.iloc[index])\n",
    "score = round(result_correct_died[index][0],2)\n",
    "score"
   ]
  },
  {
   "cell_type": "code",
   "execution_count": 98,
   "metadata": {},
   "outputs": [
    {
     "name": "stdout",
     "output_type": "stream",
     "text": [
      "Parse progress: |█████████████████████████████████████████████████████████| 100%\n",
      "deeplearning prediction progress: |███████████████████████████████████████| 100%\n",
      "Intercept 0.5417526362274396\n",
      "Prediction_local [0.87343074]\n",
      "Right: 0.9580921504519726\n",
      "<lime.explanation.Explanation object at 0x7f904dd1cf60>\n"
     ]
    },
    {
     "data": {
      "image/png": "[encoded data removed]",
      "text/plain": [
       "<matplotlib.figure.Figure at 0x7f906a5b1748>"
      ]
     },
     "metadata": {},
     "output_type": "display_data"
    }
   ],
   "source": [
    "explaination = explainer.explain_instance(sample.values.ravel(), deeplearning_pipeline.predict_proba, \n",
    "                                          num_features = 10, num_samples = 5000)\n",
    "print(explaination)\n",
    "outcome = 0\n",
    "outcome_title = 'died'\n",
    "plot_vertical_bar(explaination, 'Local explanation : Score {}, {}, Patient {}'.format(score, score_compare(score, outcome), outcome_title))"
   ]
  },
  {
   "cell_type": "markdown",
   "metadata": {},
   "source": [
    "## Results Correct, Died, 16%"
   ]
  },
  {
   "cell_type": "code",
   "execution_count": 99,
   "metadata": {},
   "outputs": [
    {
     "data": {
      "text/plain": [
       "0.16"
      ]
     },
     "execution_count": 99,
     "metadata": {},
     "output_type": "execute_result"
    }
   ],
   "source": [
    "index = 7\n",
    "sample = pd.DataFrame(sample_correct_died.iloc[index])\n",
    "score = round(result_correct_died[index][0],2)\n",
    "score"
   ]
  },
  {
   "cell_type": "code",
   "execution_count": 100,
   "metadata": {},
   "outputs": [
    {
     "name": "stdout",
     "output_type": "stream",
     "text": [
      "Parse progress: |█████████████████████████████████████████████████████████| 100%\n",
      "deeplearning prediction progress: |███████████████████████████████████████| 100%\n",
      "Intercept 0.5928588608981709\n",
      "Prediction_local [0.67432864]\n",
      "Right: 0.8412942285578521\n",
      "<lime.explanation.Explanation object at 0x7f904ca39f28>\n"
     ]
    },
    {
     "data": {
      "image/png": "[encoded data removed]",
      "text/plain": [
       "<matplotlib.figure.Figure at 0x7f904ca23ba8>"
      ]
     },
     "metadata": {},
     "output_type": "display_data"
    }
   ],
   "source": [
    "explaination = explainer.explain_instance(sample.values.ravel(), deeplearning_pipeline.predict_proba, \n",
    "                                          num_features = 10, num_samples = 5000)\n",
    "print(explaination)\n",
    "outcome = 0\n",
    "outcome_title = 'died'\n",
    "plot_vertical_bar(explaination, 'Local explanation : Score {}, {}, Patient {}'.format(score, score_compare(score, outcome), outcome_title))"
   ]
  },
  {
   "cell_type": "markdown",
   "metadata": {},
   "source": [
    "## Results Correct, Lived, 63%"
   ]
  },
  {
   "cell_type": "code",
   "execution_count": 101,
   "metadata": {},
   "outputs": [
    {
     "data": {
      "text/plain": [
       "0.63"
      ]
     },
     "execution_count": 101,
     "metadata": {},
     "output_type": "execute_result"
    }
   ],
   "source": [
    "index = 0\n",
    "sample = pd.DataFrame(sample_correct_survived.iloc[index])\n",
    "score = round(result_correct_survived[index][0],2)\n",
    "score"
   ]
  },
  {
   "cell_type": "code",
   "execution_count": 102,
   "metadata": {},
   "outputs": [
    {
     "name": "stdout",
     "output_type": "stream",
     "text": [
      "Parse progress: |█████████████████████████████████████████████████████████| 100%\n",
      "deeplearning prediction progress: |███████████████████████████████████████| 100%\n",
      "Intercept 0.8814321650903438\n",
      "Prediction_local [0.32029024]\n",
      "Right: 0.3698546699474373\n",
      "<lime.explanation.Explanation object at 0x7f904dd052e8>\n"
     ]
    },
    {
     "data": {
      "image/png": "[encoded data removed]",
      "text/plain": [
       "<matplotlib.figure.Figure at 0x7f904dce6c50>"
      ]
     },
     "metadata": {},
     "output_type": "display_data"
    }
   ],
   "source": [
    "explaination = explainer.explain_instance(sample.values.ravel(), deeplearning_pipeline.predict_proba, \n",
    "                                          num_features = 10, num_samples = 5000)\n",
    "print(explaination)\n",
    "outcome = 1\n",
    "outcome_title = 'lived'\n",
    "plot_vertical_bar(explaination, 'Local explanation : Score {}, {}, Patient {}'.format(score, score_compare(score, outcome), outcome_title))"
   ]
  },
  {
   "cell_type": "markdown",
   "metadata": {},
   "source": [
    "## Results Correct, Lived, 90%"
   ]
  },
  {
   "cell_type": "code",
   "execution_count": 103,
   "metadata": {},
   "outputs": [
    {
     "data": {
      "text/plain": [
       "0.9"
      ]
     },
     "execution_count": 103,
     "metadata": {},
     "output_type": "execute_result"
    }
   ],
   "source": [
    "index = 3\n",
    "sample = pd.DataFrame(sample_correct_survived.iloc[index])\n",
    "score = round(result_correct_survived[index][0],2)\n",
    "score"
   ]
  },
  {
   "cell_type": "code",
   "execution_count": 104,
   "metadata": {},
   "outputs": [
    {
     "name": "stdout",
     "output_type": "stream",
     "text": [
      "Parse progress: |█████████████████████████████████████████████████████████| 100%\n",
      "deeplearning prediction progress: |███████████████████████████████████████| 100%\n",
      "Intercept 0.9078070315080888\n",
      "Prediction_local [0.34039883]\n",
      "Right: 0.10446696051792824\n",
      "<lime.explanation.Explanation object at 0x7f904e6960b8>\n"
     ]
    },
    {
     "data": {
      "image/png": "[encoded data removed]",
      "text/plain": [
       "<matplotlib.figure.Figure at 0x7f904cab6550>"
      ]
     },
     "metadata": {},
     "output_type": "display_data"
    }
   ],
   "source": [
    "explaination = explainer.explain_instance(sample.values.ravel(), deeplearning_pipeline.predict_proba, \n",
    "                                          num_features = 10, num_samples = 5000)\n",
    "print(explaination)\n",
    "outcome = 1\n",
    "outcome_title = 'lived'\n",
    "plot_vertical_bar(explaination, 'Local explanation : Score {}, {}, Patient {}'.format(score, score_compare(score, outcome), outcome_title))"
   ]
  },
  {
   "cell_type": "markdown",
   "metadata": {},
   "source": [
    "## Results Incorrect, Died, 80%"
   ]
  },
  {
   "cell_type": "code",
   "execution_count": 105,
   "metadata": {},
   "outputs": [
    {
     "data": {
      "text/plain": [
       "0.8"
      ]
     },
     "execution_count": 105,
     "metadata": {},
     "output_type": "execute_result"
    }
   ],
   "source": [
    "index = 1\n",
    "sample = pd.DataFrame(sample_incorrect_died.iloc[index])\n",
    "score = round(result_incorrect_died[index][0],2)\n",
    "score"
   ]
  },
  {
   "cell_type": "code",
   "execution_count": 106,
   "metadata": {},
   "outputs": [
    {
     "name": "stdout",
     "output_type": "stream",
     "text": [
      "Parse progress: |█████████████████████████████████████████████████████████| 100%\n",
      "deeplearning prediction progress: |███████████████████████████████████████| 100%\n",
      "Intercept 0.820738756023302\n",
      "Prediction_local [0.52045212]\n",
      "Right: 0.1988785258744663\n",
      "<lime.explanation.Explanation object at 0x7f904ca8ea58>\n"
     ]
    },
    {
     "data": {
      "image/png": "[encoded data removed]",
      "text/plain": [
       "<matplotlib.figure.Figure at 0x7f906b110390>"
      ]
     },
     "metadata": {},
     "output_type": "display_data"
    }
   ],
   "source": [
    "explaination = explainer.explain_instance(sample.values.ravel(), deeplearning_pipeline.predict_proba, \n",
    "                                          num_features = 10, num_samples = 5000)\n",
    "print(explaination)\n",
    "outcome = 0\n",
    "outcome_title = 'died'\n",
    "plot_vertical_bar(explaination, 'Local explanation : Score {}, {}, Patient {}'.format(score, score_compare(score, outcome), outcome_title))"
   ]
  },
  {
   "cell_type": "markdown",
   "metadata": {},
   "source": [
    "## Results Incorrect, Died, 53%"
   ]
  },
  {
   "cell_type": "code",
   "execution_count": 107,
   "metadata": {},
   "outputs": [
    {
     "data": {
      "text/plain": [
       "0.53"
      ]
     },
     "execution_count": 107,
     "metadata": {},
     "output_type": "execute_result"
    }
   ],
   "source": [
    "index = 4\n",
    "sample = pd.DataFrame(sample_incorrect_died.iloc[index])\n",
    "score = round(result_incorrect_died[index][0],2)\n",
    "score"
   ]
  },
  {
   "cell_type": "code",
   "execution_count": 108,
   "metadata": {},
   "outputs": [
    {
     "name": "stdout",
     "output_type": "stream",
     "text": [
      "Parse progress: |█████████████████████████████████████████████████████████| 100%\n",
      "deeplearning prediction progress: |███████████████████████████████████████| 100%\n",
      "Intercept 0.6885662084075719\n",
      "Prediction_local [0.6624993]\n",
      "Right: 0.4679036248151045\n",
      "<lime.explanation.Explanation object at 0x7f904e508940>\n"
     ]
    },
    {
     "data": {
      "image/png": "[encoded data removed]",
      "text/plain": [
       "<matplotlib.figure.Figure at 0x7f904e6a7f60>"
      ]
     },
     "metadata": {},
     "output_type": "display_data"
    }
   ],
   "source": [
    "explaination = explainer.explain_instance(sample.values.ravel(), deeplearning_pipeline.predict_proba, \n",
    "                                          num_features = 10, num_samples = 5000)\n",
    "print(explaination)\n",
    "\n",
    "outcome = 0\n",
    "outcome_title = 'died'\n",
    "plot_vertical_bar(explaination, 'Local explanation : Score {}, {}, Patient {}'.format(score, score_compare(score, outcome), outcome_title))"
   ]
  },
  {
   "cell_type": "markdown",
   "metadata": {},
   "source": [
    "## Results Incorrect, lived, 42%"
   ]
  },
  {
   "cell_type": "code",
   "execution_count": 109,
   "metadata": {},
   "outputs": [
    {
     "data": {
      "text/plain": [
       "array([0.42420715, 0.57579285])"
      ]
     },
     "execution_count": 109,
     "metadata": {},
     "output_type": "execute_result"
    }
   ],
   "source": [
    "index = 0\n",
    "sample = pd.DataFrame(sample_incorrect_survived.iloc[index])\n",
    "result_incorrect_survived[index]"
   ]
  },
  {
   "cell_type": "code",
   "execution_count": 110,
   "metadata": {},
   "outputs": [
    {
     "name": "stdout",
     "output_type": "stream",
     "text": [
      "Parse progress: |█████████████████████████████████████████████████████████| 100%\n",
      "deeplearning prediction progress: |███████████████████████████████████████| 100%\n",
      "Intercept 0.5591833141510114\n",
      "Prediction_local [0.60763606]\n",
      "Right: 0.5757928510536824\n",
      "<lime.explanation.Explanation object at 0x7f904d85d9e8>\n"
     ]
    },
    {
     "data": {
      "image/png": "[encoded data removed]",
      "text/plain": [
       "<matplotlib.figure.Figure at 0x7f904e5afd30>"
      ]
     },
     "metadata": {},
     "output_type": "display_data"
    }
   ],
   "source": [
    "explaination = explainer.explain_instance(sample.values.ravel(), deeplearning_pipeline.predict_proba, \n",
    "                                          num_features = 10, num_samples = 5000)\n",
    "print(explaination)\n",
    "score = round(result_incorrect_survived[index][0],2)\n",
    "outcome = 1\n",
    "plot_vertical_bar(explaination, 'Local explanation : Score {}, {}, Patient Survived'.format(score, score_compare(score, outcome)))"
   ]
  },
  {
   "cell_type": "markdown",
   "metadata": {},
   "source": [
    "## Results Incorrect, lived, 6%"
   ]
  },
  {
   "cell_type": "code",
   "execution_count": 111,
   "metadata": {},
   "outputs": [
    {
     "data": {
      "text/plain": [
       "array([0.0634237, 0.9365763])"
      ]
     },
     "execution_count": 111,
     "metadata": {},
     "output_type": "execute_result"
    }
   ],
   "source": [
    "index = 1\n",
    "sample = pd.DataFrame(sample_incorrect_survived.iloc[index])\n",
    "result_incorrect_survived[index]"
   ]
  },
  {
   "cell_type": "code",
   "execution_count": 112,
   "metadata": {
    "scrolled": false
   },
   "outputs": [
    {
     "name": "stdout",
     "output_type": "stream",
     "text": [
      "Parse progress: |█████████████████████████████████████████████████████████| 100%\n",
      "deeplearning prediction progress: |███████████████████████████████████████| 100%\n",
      "Intercept 0.8624917327301747\n",
      "Prediction_local [0.35833746]\n",
      "Right: 0.9365763040221916\n",
      "<lime.explanation.Explanation object at 0x7f904dcbc518>\n"
     ]
    },
    {
     "data": {
      "image/png": "[encoded data removed]",
      "text/plain": [
       "<matplotlib.figure.Figure at 0x7f904d85d9e8>"
      ]
     },
     "metadata": {},
     "output_type": "display_data"
    }
   ],
   "source": [
    "explaination = explainer.explain_instance(sample.values.ravel(), deeplearning_pipeline.predict_proba, \n",
    "                                          num_features = 10, num_samples = 5000)\n",
    "print(explaination)\n",
    "score = round(result_incorrect_survived[index][0],2)\n",
    "outcome = 1\n",
    "plot_vertical_bar(explaination, 'Local explanation : Score {}, {}, Patient Survived'.format(score, score_compare(score, outcome)))"
   ]
  },
  {
   "cell_type": "code",
   "execution_count": null,
   "metadata": {
    "scrolled": true
   },
   "outputs": [],
   "source": []
  }
 ],
 "metadata": {
  "kernelspec": {
   "display_name": "Python 3 (ipykernel)",
   "language": "python",
   "name": "python3"
  },
  "language_info": {
   "codemirror_mode": {
    "name": "ipython",
    "version": 3
   },
   "file_extension": ".py",
   "mimetype": "text/x-python",
   "name": "python",
   "nbconvert_exporter": "python",
   "pygments_lexer": "ipython3",
   "version": "3.9.7"
  },
  "toc": {
   "colors": {
    "hover_highlight": "#DAA520",
    "navigate_num": "#000000",
    "navigate_text": "#333333",
    "running_highlight": "#FF0000",
    "selected_highlight": "#FFD700",
    "sidebar_border": "#EEEEEE",
    "wrapper_background": "#FFFFFF"
   },
   "moveMenuLeft": true,
   "nav_menu": {
    "height": "66px",
    "width": "252px"
   },
   "navigate_menu": true,
   "number_sections": false,
   "sideBar": true,
   "threshold": 4,
   "toc_cell": false,
   "toc_section_display": "block",
   "toc_window_display": true,
   "widenNotebook": false
  }
 },
 "nbformat": 4,
 "nbformat_minor": 2
}
